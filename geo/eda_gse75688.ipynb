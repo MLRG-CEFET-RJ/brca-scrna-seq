{
 "cells": [
  {
   "cell_type": "markdown",
   "id": "57463418-e6cd-45bd-89bc-3dc82bac3f4e",
   "metadata": {
    "id": "57463418-e6cd-45bd-89bc-3dc82bac3f4e",
    "tags": []
   },
   "source": [
    "# Single Cell RNA-seq Workflow for Clustering\n",
    "\n",
    "* Preprocessing\n",
    "* Quality Control\n",
    "* Normalization and Imputation\n",
    "* Feature Selection (HVGs)\n",
    "* Dimensionality Reduction (PCA)"
   ]
  },
  {
   "cell_type": "code",
   "execution_count": 1,
   "id": "682fae54-b6a7-4e00-8506-3f3e50e5c40b",
   "metadata": {
    "colab": {
     "base_uri": "https://localhost:8080/"
    },
    "id": "682fae54-b6a7-4e00-8506-3f3e50e5c40b",
    "outputId": "1e826672-c289-4068-d56d-a0825b210dff"
   },
   "outputs": [],
   "source": [
    "# Download data from https://www.ncbi.nlm.nih.gov/geo/query/acc.cgi?acc=GSE75688\n",
    "# !wget https://ftp.ncbi.nlm.nih.gov/geo/series/GSE75nnn/GSE75688/suppl/GSE75688_GEO_processed_Breast_Cancer_raw_TPM_matrix.txt.gz\n",
    "# !wget https://ftp.ncbi.nlm.nih.gov/geo/series/GSE75nnn/GSE75688/suppl/GSE75688_final_sample_information.txt.gz"
   ]
  },
  {
   "cell_type": "code",
   "execution_count": 2,
   "id": "921bbd19-0ccc-4bc3-96b4-b0604ec1383f",
   "metadata": {},
   "outputs": [],
   "source": [
    "# Moving files to separate folder\n",
    "# !mkdir data\n",
    "# !mv GSE* data"
   ]
  },
  {
   "cell_type": "code",
   "execution_count": 3,
   "id": "9NCgghuNUMj7",
   "metadata": {
    "id": "9NCgghuNUMj7"
   },
   "outputs": [],
   "source": [
    "# Install scanpy (only needed for Google Colab)\n",
    "# !pip install --quiet scanpy"
   ]
  },
  {
   "cell_type": "code",
   "execution_count": 1,
   "id": "550bb04b-7489-4e2f-b70b-649b3a610f1b",
   "metadata": {},
   "outputs": [
    {
     "name": "stdout",
     "output_type": "stream",
     "text": [
      "Python 3.10.4\n"
     ]
    }
   ],
   "source": [
    "# Versions\n",
    "!python -V"
   ]
  },
  {
   "cell_type": "code",
   "execution_count": 1,
   "id": "cbf739a1-8385-4218-8e94-e8292886f5c9",
   "metadata": {
    "id": "cbf739a1-8385-4218-8e94-e8292886f5c9"
   },
   "outputs": [],
   "source": [
    "import numpy as np\n",
    "import pandas as pd\n",
    "import scanpy as sc\n",
    "import anndata as ad"
   ]
  },
  {
   "cell_type": "code",
   "execution_count": 2,
   "id": "992f2357-1b20-4d86-a630-2d5832c2c8d3",
   "metadata": {
    "colab": {
     "base_uri": "https://localhost:8080/"
    },
    "id": "992f2357-1b20-4d86-a630-2d5832c2c8d3",
    "outputId": "033b0ef5-e815-4616-88ce-0c7f5cbde36d"
   },
   "outputs": [
    {
     "name": "stderr",
     "output_type": "stream",
     "text": [
      "/mnt/wsl/PhysicalDrive6/projects/ppcic/scrnaseq/venv/lib/python3.10/site-packages/tqdm/auto.py:22: TqdmWarning: IProgress not found. Please update jupyter and ipywidgets. See https://ipywidgets.readthedocs.io/en/stable/user_install.html\n",
      "  from .autonotebook import tqdm as notebook_tqdm\n"
     ]
    },
    {
     "name": "stdout",
     "output_type": "stream",
     "text": [
      "scanpy==1.9.1 anndata==0.7.8 umap==0.5.2 numpy==1.21.5 scipy==1.8.0 pandas==1.4.2 scikit-learn==1.0.2 statsmodels==0.13.2 python-igraph==0.9.10 pynndescent==0.5.6\n"
     ]
    }
   ],
   "source": [
    "sc.settings.verbosity = 3             # verbosity: errors (0), warnings (1), info (2), hints (3)\n",
    "sc.logging.print_header()\n",
    "sc.settings.set_figure_params(dpi=80, facecolor='white')"
   ]
  },
  {
   "cell_type": "code",
   "execution_count": 3,
   "id": "cf779fc7-bd8c-4246-9a20-b65661d40088",
   "metadata": {
    "id": "cf779fc7-bd8c-4246-9a20-b65661d40088"
   },
   "outputs": [],
   "source": [
    "DATA_FOLDER = 'data'\n",
    "RESULTS_FOLDER = 'write'\n",
    "\n",
    "results_file = f'{RESULTS_FOLDER}/gse75688.h5ad'"
   ]
  },
  {
   "cell_type": "markdown",
   "id": "ecdb6955-d96d-46f7-8719-5c7bca8c1cdf",
   "metadata": {
    "id": "ecdb6955-d96d-46f7-8719-5c7bca8c1cdf"
   },
   "source": [
    "# Reading Data"
   ]
  },
  {
   "cell_type": "code",
   "execution_count": 4,
   "id": "6ffd860d-3e0d-4d23-b8de-d0aaeb358717",
   "metadata": {
    "colab": {
     "base_uri": "https://localhost:8080/",
     "height": 423
    },
    "id": "6ffd860d-3e0d-4d23-b8de-d0aaeb358717",
    "outputId": "f2ab80a0-f775-4f6e-9238-de067dea5860"
   },
   "outputs": [
    {
     "data": {
      "text/html": [
       "<div>\n",
       "<style scoped>\n",
       "    .dataframe tbody tr th:only-of-type {\n",
       "        vertical-align: middle;\n",
       "    }\n",
       "\n",
       "    .dataframe tbody tr th {\n",
       "        vertical-align: top;\n",
       "    }\n",
       "\n",
       "    .dataframe thead th {\n",
       "        text-align: right;\n",
       "    }\n",
       "</style>\n",
       "<table border=\"1\" class=\"dataframe\">\n",
       "  <thead>\n",
       "    <tr style=\"text-align: right;\">\n",
       "      <th></th>\n",
       "      <th>sample</th>\n",
       "      <th>type</th>\n",
       "      <th>index</th>\n",
       "      <th>index2</th>\n",
       "      <th>index3</th>\n",
       "    </tr>\n",
       "  </thead>\n",
       "  <tbody>\n",
       "    <tr>\n",
       "      <th>0</th>\n",
       "      <td>BC01_02</td>\n",
       "      <td>SC</td>\n",
       "      <td>Tumor</td>\n",
       "      <td>Tumor</td>\n",
       "      <td>Tumor</td>\n",
       "    </tr>\n",
       "    <tr>\n",
       "      <th>1</th>\n",
       "      <td>BC01_03</td>\n",
       "      <td>SC</td>\n",
       "      <td>Tumor</td>\n",
       "      <td>Tumor</td>\n",
       "      <td>Tumor</td>\n",
       "    </tr>\n",
       "    <tr>\n",
       "      <th>2</th>\n",
       "      <td>BC01_04</td>\n",
       "      <td>SC</td>\n",
       "      <td>Tumor</td>\n",
       "      <td>Tumor</td>\n",
       "      <td>Tumor</td>\n",
       "    </tr>\n",
       "    <tr>\n",
       "      <th>3</th>\n",
       "      <td>BC01_05</td>\n",
       "      <td>SC</td>\n",
       "      <td>Tumor</td>\n",
       "      <td>Tumor</td>\n",
       "      <td>Tumor</td>\n",
       "    </tr>\n",
       "    <tr>\n",
       "      <th>4</th>\n",
       "      <td>BC01_06</td>\n",
       "      <td>SC</td>\n",
       "      <td>Tumor</td>\n",
       "      <td>Tumor</td>\n",
       "      <td>Tumor</td>\n",
       "    </tr>\n",
       "    <tr>\n",
       "      <th>...</th>\n",
       "      <td>...</td>\n",
       "      <td>...</td>\n",
       "      <td>...</td>\n",
       "      <td>...</td>\n",
       "      <td>...</td>\n",
       "    </tr>\n",
       "    <tr>\n",
       "      <th>523</th>\n",
       "      <td>BC06_58</td>\n",
       "      <td>SC</td>\n",
       "      <td>nonTumor</td>\n",
       "      <td>Immune</td>\n",
       "      <td>Bcell</td>\n",
       "    </tr>\n",
       "    <tr>\n",
       "      <th>524</th>\n",
       "      <td>BC06_60</td>\n",
       "      <td>SC</td>\n",
       "      <td>Tumor</td>\n",
       "      <td>Tumor</td>\n",
       "      <td>Tumor</td>\n",
       "    </tr>\n",
       "    <tr>\n",
       "      <th>525</th>\n",
       "      <td>BC06_61</td>\n",
       "      <td>SC</td>\n",
       "      <td>nonTumor</td>\n",
       "      <td>Immune</td>\n",
       "      <td>Bcell</td>\n",
       "    </tr>\n",
       "    <tr>\n",
       "      <th>526</th>\n",
       "      <td>BC06_74</td>\n",
       "      <td>SC</td>\n",
       "      <td>Tumor</td>\n",
       "      <td>Tumor</td>\n",
       "      <td>Tumor</td>\n",
       "    </tr>\n",
       "    <tr>\n",
       "      <th>527</th>\n",
       "      <td>BC06_Pooled</td>\n",
       "      <td>Bulk</td>\n",
       "      <td>nonTumor</td>\n",
       "      <td>Immune</td>\n",
       "      <td>Immune</td>\n",
       "    </tr>\n",
       "  </tbody>\n",
       "</table>\n",
       "<p>528 rows × 5 columns</p>\n",
       "</div>"
      ],
      "text/plain": [
       "          sample  type     index  index2  index3\n",
       "0        BC01_02    SC     Tumor   Tumor   Tumor\n",
       "1        BC01_03    SC     Tumor   Tumor   Tumor\n",
       "2        BC01_04    SC     Tumor   Tumor   Tumor\n",
       "3        BC01_05    SC     Tumor   Tumor   Tumor\n",
       "4        BC01_06    SC     Tumor   Tumor   Tumor\n",
       "..           ...   ...       ...     ...     ...\n",
       "523      BC06_58    SC  nonTumor  Immune   Bcell\n",
       "524      BC06_60    SC     Tumor   Tumor   Tumor\n",
       "525      BC06_61    SC  nonTumor  Immune   Bcell\n",
       "526      BC06_74    SC     Tumor   Tumor   Tumor\n",
       "527  BC06_Pooled  Bulk  nonTumor  Immune  Immune\n",
       "\n",
       "[528 rows x 5 columns]"
      ]
     },
     "execution_count": 4,
     "metadata": {},
     "output_type": "execute_result"
    }
   ],
   "source": [
    "df_info = pd.read_csv(f'{DATA_FOLDER}/GSE75688_final_sample_information.txt.gz', sep='\\t')\n",
    "df_info"
   ]
  },
  {
   "cell_type": "code",
   "execution_count": 5,
   "id": "eab31ebb-d277-46c8-8064-6b39d0f73bd4",
   "metadata": {
    "colab": {
     "base_uri": "https://localhost:8080/"
    },
    "id": "eab31ebb-d277-46c8-8064-6b39d0f73bd4",
    "outputId": "3a9f14f5-9d1e-4c5e-db3c-19450d301b6e"
   },
   "outputs": [
    {
     "data": {
      "text/plain": [
       "Tumor       326\n",
       "nonTumor    202\n",
       "Name: index, dtype: int64"
      ]
     },
     "execution_count": 5,
     "metadata": {},
     "output_type": "execute_result"
    }
   ],
   "source": [
    "df_info['index'].value_counts()"
   ]
  },
  {
   "cell_type": "code",
   "execution_count": 6,
   "id": "9336cb66-e793-4347-b4a2-63d89425c4b2",
   "metadata": {
    "colab": {
     "base_uri": "https://localhost:8080/",
     "height": 522
    },
    "id": "9336cb66-e793-4347-b4a2-63d89425c4b2",
    "outputId": "ddb9693b-c5c2-4871-9a18-9a3127e57067"
   },
   "outputs": [
    {
     "data": {
      "text/html": [
       "<div>\n",
       "<style scoped>\n",
       "    .dataframe tbody tr th:only-of-type {\n",
       "        vertical-align: middle;\n",
       "    }\n",
       "\n",
       "    .dataframe tbody tr th {\n",
       "        vertical-align: top;\n",
       "    }\n",
       "\n",
       "    .dataframe thead th {\n",
       "        text-align: right;\n",
       "    }\n",
       "</style>\n",
       "<table border=\"1\" class=\"dataframe\">\n",
       "  <thead>\n",
       "    <tr style=\"text-align: right;\">\n",
       "      <th></th>\n",
       "      <th>gene_id</th>\n",
       "      <th>gene_name</th>\n",
       "      <th>gene_type</th>\n",
       "      <th>BC01_Pooled</th>\n",
       "      <th>BC01_Tumor</th>\n",
       "      <th>BC02_Pooled</th>\n",
       "      <th>BC03_Pooled</th>\n",
       "      <th>BC03LN_Pooled</th>\n",
       "      <th>BC04_Pooled</th>\n",
       "      <th>BC05_Pooled</th>\n",
       "      <th>...</th>\n",
       "      <th>BC11_04</th>\n",
       "      <th>BC11_07</th>\n",
       "      <th>BC11_28</th>\n",
       "      <th>BC11_43</th>\n",
       "      <th>BC11_56</th>\n",
       "      <th>BC11_69</th>\n",
       "      <th>BC11_70</th>\n",
       "      <th>BC11_78</th>\n",
       "      <th>BC11_81</th>\n",
       "      <th>BC11_88</th>\n",
       "    </tr>\n",
       "  </thead>\n",
       "  <tbody>\n",
       "    <tr>\n",
       "      <th>0</th>\n",
       "      <td>ENSG00000000003.10</td>\n",
       "      <td>TSPAN6</td>\n",
       "      <td>protein_coding</td>\n",
       "      <td>2.33</td>\n",
       "      <td>1.25</td>\n",
       "      <td>43.96</td>\n",
       "      <td>7.64</td>\n",
       "      <td>9.32</td>\n",
       "      <td>133.37</td>\n",
       "      <td>84.77</td>\n",
       "      <td>...</td>\n",
       "      <td>0.00</td>\n",
       "      <td>47.44</td>\n",
       "      <td>16.11</td>\n",
       "      <td>0.00</td>\n",
       "      <td>6.56</td>\n",
       "      <td>0.00</td>\n",
       "      <td>0.00</td>\n",
       "      <td>0.00</td>\n",
       "      <td>200.82</td>\n",
       "      <td>0.00</td>\n",
       "    </tr>\n",
       "    <tr>\n",
       "      <th>1</th>\n",
       "      <td>ENSG00000000005.5</td>\n",
       "      <td>TNMD</td>\n",
       "      <td>protein_coding</td>\n",
       "      <td>0.00</td>\n",
       "      <td>0.00</td>\n",
       "      <td>0.00</td>\n",
       "      <td>0.00</td>\n",
       "      <td>0.00</td>\n",
       "      <td>0.00</td>\n",
       "      <td>0.00</td>\n",
       "      <td>...</td>\n",
       "      <td>0.00</td>\n",
       "      <td>0.00</td>\n",
       "      <td>0.00</td>\n",
       "      <td>0.00</td>\n",
       "      <td>0.00</td>\n",
       "      <td>0.00</td>\n",
       "      <td>0.00</td>\n",
       "      <td>0.00</td>\n",
       "      <td>0.00</td>\n",
       "      <td>0.00</td>\n",
       "    </tr>\n",
       "    <tr>\n",
       "      <th>2</th>\n",
       "      <td>ENSG00000000419.8</td>\n",
       "      <td>DPM1</td>\n",
       "      <td>protein_coding</td>\n",
       "      <td>60.70</td>\n",
       "      <td>28.44</td>\n",
       "      <td>74.73</td>\n",
       "      <td>41.41</td>\n",
       "      <td>87.69</td>\n",
       "      <td>120.41</td>\n",
       "      <td>70.67</td>\n",
       "      <td>...</td>\n",
       "      <td>198.96</td>\n",
       "      <td>0.00</td>\n",
       "      <td>0.00</td>\n",
       "      <td>20.63</td>\n",
       "      <td>0.00</td>\n",
       "      <td>0.00</td>\n",
       "      <td>0.00</td>\n",
       "      <td>136.07</td>\n",
       "      <td>22.03</td>\n",
       "      <td>204.58</td>\n",
       "    </tr>\n",
       "    <tr>\n",
       "      <th>3</th>\n",
       "      <td>ENSG00000000457.9</td>\n",
       "      <td>SCYL3</td>\n",
       "      <td>protein_coding</td>\n",
       "      <td>47.93</td>\n",
       "      <td>4.43</td>\n",
       "      <td>9.89</td>\n",
       "      <td>7.61</td>\n",
       "      <td>7.32</td>\n",
       "      <td>12.42</td>\n",
       "      <td>12.02</td>\n",
       "      <td>...</td>\n",
       "      <td>0.00</td>\n",
       "      <td>10.96</td>\n",
       "      <td>0.00</td>\n",
       "      <td>0.00</td>\n",
       "      <td>0.00</td>\n",
       "      <td>0.27</td>\n",
       "      <td>0.00</td>\n",
       "      <td>0.07</td>\n",
       "      <td>0.19</td>\n",
       "      <td>9.52</td>\n",
       "    </tr>\n",
       "    <tr>\n",
       "      <th>4</th>\n",
       "      <td>ENSG00000000460.12</td>\n",
       "      <td>C1orf112</td>\n",
       "      <td>protein_coding</td>\n",
       "      <td>4.79</td>\n",
       "      <td>1.67</td>\n",
       "      <td>10.87</td>\n",
       "      <td>0.92</td>\n",
       "      <td>15.13</td>\n",
       "      <td>17.10</td>\n",
       "      <td>5.69</td>\n",
       "      <td>...</td>\n",
       "      <td>0.00</td>\n",
       "      <td>6.97</td>\n",
       "      <td>9.02</td>\n",
       "      <td>0.00</td>\n",
       "      <td>0.00</td>\n",
       "      <td>0.14</td>\n",
       "      <td>247.69</td>\n",
       "      <td>22.60</td>\n",
       "      <td>11.35</td>\n",
       "      <td>0.00</td>\n",
       "    </tr>\n",
       "    <tr>\n",
       "      <th>...</th>\n",
       "      <td>...</td>\n",
       "      <td>...</td>\n",
       "      <td>...</td>\n",
       "      <td>...</td>\n",
       "      <td>...</td>\n",
       "      <td>...</td>\n",
       "      <td>...</td>\n",
       "      <td>...</td>\n",
       "      <td>...</td>\n",
       "      <td>...</td>\n",
       "      <td>...</td>\n",
       "      <td>...</td>\n",
       "      <td>...</td>\n",
       "      <td>...</td>\n",
       "      <td>...</td>\n",
       "      <td>...</td>\n",
       "      <td>...</td>\n",
       "      <td>...</td>\n",
       "      <td>...</td>\n",
       "      <td>...</td>\n",
       "      <td>...</td>\n",
       "    </tr>\n",
       "    <tr>\n",
       "      <th>57910</th>\n",
       "      <td>ERCC-00170</td>\n",
       "      <td>ERCC-00170</td>\n",
       "      <td>ERCC</td>\n",
       "      <td>0.00</td>\n",
       "      <td>0.00</td>\n",
       "      <td>0.00</td>\n",
       "      <td>0.00</td>\n",
       "      <td>0.00</td>\n",
       "      <td>0.00</td>\n",
       "      <td>0.00</td>\n",
       "      <td>...</td>\n",
       "      <td>0.00</td>\n",
       "      <td>0.00</td>\n",
       "      <td>0.00</td>\n",
       "      <td>0.00</td>\n",
       "      <td>0.00</td>\n",
       "      <td>0.00</td>\n",
       "      <td>0.00</td>\n",
       "      <td>0.00</td>\n",
       "      <td>0.00</td>\n",
       "      <td>0.00</td>\n",
       "    </tr>\n",
       "    <tr>\n",
       "      <th>57911</th>\n",
       "      <td>ERCC-00171</td>\n",
       "      <td>ERCC-00171</td>\n",
       "      <td>ERCC</td>\n",
       "      <td>0.00</td>\n",
       "      <td>0.00</td>\n",
       "      <td>0.00</td>\n",
       "      <td>0.00</td>\n",
       "      <td>0.00</td>\n",
       "      <td>0.00</td>\n",
       "      <td>0.00</td>\n",
       "      <td>...</td>\n",
       "      <td>0.00</td>\n",
       "      <td>0.00</td>\n",
       "      <td>0.00</td>\n",
       "      <td>0.00</td>\n",
       "      <td>0.00</td>\n",
       "      <td>0.00</td>\n",
       "      <td>0.00</td>\n",
       "      <td>0.00</td>\n",
       "      <td>0.00</td>\n",
       "      <td>0.00</td>\n",
       "    </tr>\n",
       "    <tr>\n",
       "      <th>57912</th>\n",
       "      <td>SPIKE1</td>\n",
       "      <td>EC2</td>\n",
       "      <td>SPIKE_IN</td>\n",
       "      <td>14940.70</td>\n",
       "      <td>45728.19</td>\n",
       "      <td>10442.91</td>\n",
       "      <td>94250.71</td>\n",
       "      <td>40823.13</td>\n",
       "      <td>24540.58</td>\n",
       "      <td>12613.85</td>\n",
       "      <td>...</td>\n",
       "      <td>166346.51</td>\n",
       "      <td>54443.35</td>\n",
       "      <td>120842.89</td>\n",
       "      <td>135291.06</td>\n",
       "      <td>138048.60</td>\n",
       "      <td>58840.26</td>\n",
       "      <td>65246.34</td>\n",
       "      <td>33465.11</td>\n",
       "      <td>108901.35</td>\n",
       "      <td>57492.01</td>\n",
       "    </tr>\n",
       "    <tr>\n",
       "      <th>57913</th>\n",
       "      <td>SPIKE2</td>\n",
       "      <td>EC15</td>\n",
       "      <td>SPIKE_IN</td>\n",
       "      <td>985.82</td>\n",
       "      <td>607.50</td>\n",
       "      <td>362.55</td>\n",
       "      <td>2949.35</td>\n",
       "      <td>1291.13</td>\n",
       "      <td>854.53</td>\n",
       "      <td>399.57</td>\n",
       "      <td>...</td>\n",
       "      <td>6860.84</td>\n",
       "      <td>2136.69</td>\n",
       "      <td>4048.09</td>\n",
       "      <td>4062.59</td>\n",
       "      <td>4147.05</td>\n",
       "      <td>2286.91</td>\n",
       "      <td>2821.49</td>\n",
       "      <td>1652.19</td>\n",
       "      <td>3439.53</td>\n",
       "      <td>1837.41</td>\n",
       "    </tr>\n",
       "    <tr>\n",
       "      <th>57914</th>\n",
       "      <td>SPIKE3</td>\n",
       "      <td>EC18</td>\n",
       "      <td>SPIKE_IN</td>\n",
       "      <td>0.00</td>\n",
       "      <td>0.00</td>\n",
       "      <td>0.00</td>\n",
       "      <td>0.00</td>\n",
       "      <td>0.00</td>\n",
       "      <td>0.00</td>\n",
       "      <td>0.00</td>\n",
       "      <td>...</td>\n",
       "      <td>0.00</td>\n",
       "      <td>0.00</td>\n",
       "      <td>0.00</td>\n",
       "      <td>0.00</td>\n",
       "      <td>0.00</td>\n",
       "      <td>0.00</td>\n",
       "      <td>0.00</td>\n",
       "      <td>0.00</td>\n",
       "      <td>0.00</td>\n",
       "      <td>0.00</td>\n",
       "    </tr>\n",
       "  </tbody>\n",
       "</table>\n",
       "<p>57915 rows × 566 columns</p>\n",
       "</div>"
      ],
      "text/plain": [
       "                  gene_id   gene_name       gene_type  BC01_Pooled  \\\n",
       "0      ENSG00000000003.10      TSPAN6  protein_coding         2.33   \n",
       "1       ENSG00000000005.5        TNMD  protein_coding         0.00   \n",
       "2       ENSG00000000419.8        DPM1  protein_coding        60.70   \n",
       "3       ENSG00000000457.9       SCYL3  protein_coding        47.93   \n",
       "4      ENSG00000000460.12    C1orf112  protein_coding         4.79   \n",
       "...                   ...         ...             ...          ...   \n",
       "57910          ERCC-00170  ERCC-00170            ERCC         0.00   \n",
       "57911          ERCC-00171  ERCC-00171            ERCC         0.00   \n",
       "57912              SPIKE1         EC2        SPIKE_IN     14940.70   \n",
       "57913              SPIKE2        EC15        SPIKE_IN       985.82   \n",
       "57914              SPIKE3        EC18        SPIKE_IN         0.00   \n",
       "\n",
       "       BC01_Tumor  BC02_Pooled  BC03_Pooled  BC03LN_Pooled  BC04_Pooled  \\\n",
       "0            1.25        43.96         7.64           9.32       133.37   \n",
       "1            0.00         0.00         0.00           0.00         0.00   \n",
       "2           28.44        74.73        41.41          87.69       120.41   \n",
       "3            4.43         9.89         7.61           7.32        12.42   \n",
       "4            1.67        10.87         0.92          15.13        17.10   \n",
       "...           ...          ...          ...            ...          ...   \n",
       "57910        0.00         0.00         0.00           0.00         0.00   \n",
       "57911        0.00         0.00         0.00           0.00         0.00   \n",
       "57912    45728.19     10442.91     94250.71       40823.13     24540.58   \n",
       "57913      607.50       362.55      2949.35        1291.13       854.53   \n",
       "57914        0.00         0.00         0.00           0.00         0.00   \n",
       "\n",
       "       BC05_Pooled  ...    BC11_04   BC11_07    BC11_28    BC11_43    BC11_56  \\\n",
       "0            84.77  ...       0.00     47.44      16.11       0.00       6.56   \n",
       "1             0.00  ...       0.00      0.00       0.00       0.00       0.00   \n",
       "2            70.67  ...     198.96      0.00       0.00      20.63       0.00   \n",
       "3            12.02  ...       0.00     10.96       0.00       0.00       0.00   \n",
       "4             5.69  ...       0.00      6.97       9.02       0.00       0.00   \n",
       "...            ...  ...        ...       ...        ...        ...        ...   \n",
       "57910         0.00  ...       0.00      0.00       0.00       0.00       0.00   \n",
       "57911         0.00  ...       0.00      0.00       0.00       0.00       0.00   \n",
       "57912     12613.85  ...  166346.51  54443.35  120842.89  135291.06  138048.60   \n",
       "57913       399.57  ...    6860.84   2136.69    4048.09    4062.59    4147.05   \n",
       "57914         0.00  ...       0.00      0.00       0.00       0.00       0.00   \n",
       "\n",
       "        BC11_69   BC11_70   BC11_78    BC11_81   BC11_88  \n",
       "0          0.00      0.00      0.00     200.82      0.00  \n",
       "1          0.00      0.00      0.00       0.00      0.00  \n",
       "2          0.00      0.00    136.07      22.03    204.58  \n",
       "3          0.27      0.00      0.07       0.19      9.52  \n",
       "4          0.14    247.69     22.60      11.35      0.00  \n",
       "...         ...       ...       ...        ...       ...  \n",
       "57910      0.00      0.00      0.00       0.00      0.00  \n",
       "57911      0.00      0.00      0.00       0.00      0.00  \n",
       "57912  58840.26  65246.34  33465.11  108901.35  57492.01  \n",
       "57913   2286.91   2821.49   1652.19    3439.53   1837.41  \n",
       "57914      0.00      0.00      0.00       0.00      0.00  \n",
       "\n",
       "[57915 rows x 566 columns]"
      ]
     },
     "execution_count": 6,
     "metadata": {},
     "output_type": "execute_result"
    }
   ],
   "source": [
    "df = pd.read_csv(f'{DATA_FOLDER}/GSE75688_GEO_processed_Breast_Cancer_raw_TPM_matrix.txt.gz', sep='\\t')\n",
    "df"
   ]
  },
  {
   "cell_type": "markdown",
   "id": "e79b763a-1fa2-4e75-b181-3a339dd74e65",
   "metadata": {
    "id": "e79b763a-1fa2-4e75-b181-3a339dd74e65"
   },
   "source": [
    "## Preparing Annotated Data"
   ]
  },
  {
   "cell_type": "markdown",
   "id": "d9a64522-c726-4462-9aaf-9914cf805f82",
   "metadata": {
    "id": "d9a64522-c726-4462-9aaf-9914cf805f82"
   },
   "source": [
    "### Gene Expression Matrix"
   ]
  },
  {
   "cell_type": "code",
   "execution_count": 7,
   "id": "22e252bb-b4df-47f2-9060-4a5c5bcd2789",
   "metadata": {
    "colab": {
     "base_uri": "https://localhost:8080/",
     "height": 487
    },
    "id": "22e252bb-b4df-47f2-9060-4a5c5bcd2789",
    "outputId": "1947dc63-78a4-4868-e026-4d41bf94bef0"
   },
   "outputs": [
    {
     "data": {
      "text/html": [
       "<div>\n",
       "<style scoped>\n",
       "    .dataframe tbody tr th:only-of-type {\n",
       "        vertical-align: middle;\n",
       "    }\n",
       "\n",
       "    .dataframe tbody tr th {\n",
       "        vertical-align: top;\n",
       "    }\n",
       "\n",
       "    .dataframe thead th {\n",
       "        text-align: right;\n",
       "    }\n",
       "</style>\n",
       "<table border=\"1\" class=\"dataframe\">\n",
       "  <thead>\n",
       "    <tr style=\"text-align: right;\">\n",
       "      <th></th>\n",
       "      <th>BC01_02</th>\n",
       "      <th>BC01_03</th>\n",
       "      <th>BC01_04</th>\n",
       "      <th>BC01_05</th>\n",
       "      <th>BC01_06</th>\n",
       "      <th>BC01_08</th>\n",
       "      <th>BC01_10</th>\n",
       "      <th>BC01_11</th>\n",
       "      <th>BC01_12</th>\n",
       "      <th>BC01_24</th>\n",
       "      <th>...</th>\n",
       "      <th>BC11_04</th>\n",
       "      <th>BC11_07</th>\n",
       "      <th>BC11_28</th>\n",
       "      <th>BC11_43</th>\n",
       "      <th>BC11_56</th>\n",
       "      <th>BC11_69</th>\n",
       "      <th>BC11_70</th>\n",
       "      <th>BC11_78</th>\n",
       "      <th>BC11_81</th>\n",
       "      <th>BC11_88</th>\n",
       "    </tr>\n",
       "  </thead>\n",
       "  <tbody>\n",
       "    <tr>\n",
       "      <th>0</th>\n",
       "      <td>0.00</td>\n",
       "      <td>0.00</td>\n",
       "      <td>0.00</td>\n",
       "      <td>0.00</td>\n",
       "      <td>0.00</td>\n",
       "      <td>19.38</td>\n",
       "      <td>0.00</td>\n",
       "      <td>0.00</td>\n",
       "      <td>0.00</td>\n",
       "      <td>0.00</td>\n",
       "      <td>...</td>\n",
       "      <td>0.00</td>\n",
       "      <td>47.44</td>\n",
       "      <td>16.11</td>\n",
       "      <td>0.00</td>\n",
       "      <td>6.56</td>\n",
       "      <td>0.00</td>\n",
       "      <td>0.00</td>\n",
       "      <td>0.00</td>\n",
       "      <td>200.82</td>\n",
       "      <td>0.00</td>\n",
       "    </tr>\n",
       "    <tr>\n",
       "      <th>1</th>\n",
       "      <td>0.00</td>\n",
       "      <td>0.00</td>\n",
       "      <td>0.00</td>\n",
       "      <td>0.00</td>\n",
       "      <td>0.00</td>\n",
       "      <td>0.00</td>\n",
       "      <td>0.00</td>\n",
       "      <td>0.00</td>\n",
       "      <td>0.00</td>\n",
       "      <td>0.00</td>\n",
       "      <td>...</td>\n",
       "      <td>0.00</td>\n",
       "      <td>0.00</td>\n",
       "      <td>0.00</td>\n",
       "      <td>0.00</td>\n",
       "      <td>0.00</td>\n",
       "      <td>0.00</td>\n",
       "      <td>0.00</td>\n",
       "      <td>0.00</td>\n",
       "      <td>0.00</td>\n",
       "      <td>0.00</td>\n",
       "    </tr>\n",
       "    <tr>\n",
       "      <th>2</th>\n",
       "      <td>50.73</td>\n",
       "      <td>120.46</td>\n",
       "      <td>6.97</td>\n",
       "      <td>180.85</td>\n",
       "      <td>32.09</td>\n",
       "      <td>140.00</td>\n",
       "      <td>38.06</td>\n",
       "      <td>0.00</td>\n",
       "      <td>10.77</td>\n",
       "      <td>0.00</td>\n",
       "      <td>...</td>\n",
       "      <td>198.96</td>\n",
       "      <td>0.00</td>\n",
       "      <td>0.00</td>\n",
       "      <td>20.63</td>\n",
       "      <td>0.00</td>\n",
       "      <td>0.00</td>\n",
       "      <td>0.00</td>\n",
       "      <td>136.07</td>\n",
       "      <td>22.03</td>\n",
       "      <td>204.58</td>\n",
       "    </tr>\n",
       "    <tr>\n",
       "      <th>3</th>\n",
       "      <td>3.28</td>\n",
       "      <td>0.81</td>\n",
       "      <td>92.23</td>\n",
       "      <td>6.44</td>\n",
       "      <td>59.78</td>\n",
       "      <td>37.75</td>\n",
       "      <td>117.92</td>\n",
       "      <td>0.00</td>\n",
       "      <td>0.00</td>\n",
       "      <td>0.00</td>\n",
       "      <td>...</td>\n",
       "      <td>0.00</td>\n",
       "      <td>10.96</td>\n",
       "      <td>0.00</td>\n",
       "      <td>0.00</td>\n",
       "      <td>0.00</td>\n",
       "      <td>0.27</td>\n",
       "      <td>0.00</td>\n",
       "      <td>0.07</td>\n",
       "      <td>0.19</td>\n",
       "      <td>9.52</td>\n",
       "    </tr>\n",
       "    <tr>\n",
       "      <th>4</th>\n",
       "      <td>0.00</td>\n",
       "      <td>13.42</td>\n",
       "      <td>0.34</td>\n",
       "      <td>0.26</td>\n",
       "      <td>0.00</td>\n",
       "      <td>0.00</td>\n",
       "      <td>0.67</td>\n",
       "      <td>0.00</td>\n",
       "      <td>0.00</td>\n",
       "      <td>0.00</td>\n",
       "      <td>...</td>\n",
       "      <td>0.00</td>\n",
       "      <td>6.97</td>\n",
       "      <td>9.02</td>\n",
       "      <td>0.00</td>\n",
       "      <td>0.00</td>\n",
       "      <td>0.14</td>\n",
       "      <td>247.69</td>\n",
       "      <td>22.60</td>\n",
       "      <td>11.35</td>\n",
       "      <td>0.00</td>\n",
       "    </tr>\n",
       "    <tr>\n",
       "      <th>...</th>\n",
       "      <td>...</td>\n",
       "      <td>...</td>\n",
       "      <td>...</td>\n",
       "      <td>...</td>\n",
       "      <td>...</td>\n",
       "      <td>...</td>\n",
       "      <td>...</td>\n",
       "      <td>...</td>\n",
       "      <td>...</td>\n",
       "      <td>...</td>\n",
       "      <td>...</td>\n",
       "      <td>...</td>\n",
       "      <td>...</td>\n",
       "      <td>...</td>\n",
       "      <td>...</td>\n",
       "      <td>...</td>\n",
       "      <td>...</td>\n",
       "      <td>...</td>\n",
       "      <td>...</td>\n",
       "      <td>...</td>\n",
       "      <td>...</td>\n",
       "    </tr>\n",
       "    <tr>\n",
       "      <th>57910</th>\n",
       "      <td>0.00</td>\n",
       "      <td>0.00</td>\n",
       "      <td>0.00</td>\n",
       "      <td>0.00</td>\n",
       "      <td>0.00</td>\n",
       "      <td>0.00</td>\n",
       "      <td>0.00</td>\n",
       "      <td>0.00</td>\n",
       "      <td>0.00</td>\n",
       "      <td>0.00</td>\n",
       "      <td>...</td>\n",
       "      <td>0.00</td>\n",
       "      <td>0.00</td>\n",
       "      <td>0.00</td>\n",
       "      <td>0.00</td>\n",
       "      <td>0.00</td>\n",
       "      <td>0.00</td>\n",
       "      <td>0.00</td>\n",
       "      <td>0.00</td>\n",
       "      <td>0.00</td>\n",
       "      <td>0.00</td>\n",
       "    </tr>\n",
       "    <tr>\n",
       "      <th>57911</th>\n",
       "      <td>0.00</td>\n",
       "      <td>0.00</td>\n",
       "      <td>0.00</td>\n",
       "      <td>0.00</td>\n",
       "      <td>0.00</td>\n",
       "      <td>0.00</td>\n",
       "      <td>0.00</td>\n",
       "      <td>0.00</td>\n",
       "      <td>0.00</td>\n",
       "      <td>0.00</td>\n",
       "      <td>...</td>\n",
       "      <td>0.00</td>\n",
       "      <td>0.00</td>\n",
       "      <td>0.00</td>\n",
       "      <td>0.00</td>\n",
       "      <td>0.00</td>\n",
       "      <td>0.00</td>\n",
       "      <td>0.00</td>\n",
       "      <td>0.00</td>\n",
       "      <td>0.00</td>\n",
       "      <td>0.00</td>\n",
       "    </tr>\n",
       "    <tr>\n",
       "      <th>57912</th>\n",
       "      <td>18414.34</td>\n",
       "      <td>19603.44</td>\n",
       "      <td>28523.94</td>\n",
       "      <td>31210.57</td>\n",
       "      <td>48684.49</td>\n",
       "      <td>26428.35</td>\n",
       "      <td>36442.08</td>\n",
       "      <td>122515.89</td>\n",
       "      <td>57692.19</td>\n",
       "      <td>112417.31</td>\n",
       "      <td>...</td>\n",
       "      <td>166346.51</td>\n",
       "      <td>54443.35</td>\n",
       "      <td>120842.89</td>\n",
       "      <td>135291.06</td>\n",
       "      <td>138048.60</td>\n",
       "      <td>58840.26</td>\n",
       "      <td>65246.34</td>\n",
       "      <td>33465.11</td>\n",
       "      <td>108901.35</td>\n",
       "      <td>57492.01</td>\n",
       "    </tr>\n",
       "    <tr>\n",
       "      <th>57913</th>\n",
       "      <td>537.11</td>\n",
       "      <td>653.27</td>\n",
       "      <td>916.42</td>\n",
       "      <td>961.37</td>\n",
       "      <td>2052.48</td>\n",
       "      <td>1056.75</td>\n",
       "      <td>1802.41</td>\n",
       "      <td>4791.14</td>\n",
       "      <td>2292.81</td>\n",
       "      <td>3568.05</td>\n",
       "      <td>...</td>\n",
       "      <td>6860.84</td>\n",
       "      <td>2136.69</td>\n",
       "      <td>4048.09</td>\n",
       "      <td>4062.59</td>\n",
       "      <td>4147.05</td>\n",
       "      <td>2286.91</td>\n",
       "      <td>2821.49</td>\n",
       "      <td>1652.19</td>\n",
       "      <td>3439.53</td>\n",
       "      <td>1837.41</td>\n",
       "    </tr>\n",
       "    <tr>\n",
       "      <th>57914</th>\n",
       "      <td>0.00</td>\n",
       "      <td>0.00</td>\n",
       "      <td>0.00</td>\n",
       "      <td>0.00</td>\n",
       "      <td>0.00</td>\n",
       "      <td>0.00</td>\n",
       "      <td>0.00</td>\n",
       "      <td>0.00</td>\n",
       "      <td>0.00</td>\n",
       "      <td>0.00</td>\n",
       "      <td>...</td>\n",
       "      <td>0.00</td>\n",
       "      <td>0.00</td>\n",
       "      <td>0.00</td>\n",
       "      <td>0.00</td>\n",
       "      <td>0.00</td>\n",
       "      <td>0.00</td>\n",
       "      <td>0.00</td>\n",
       "      <td>0.00</td>\n",
       "      <td>0.00</td>\n",
       "      <td>0.00</td>\n",
       "    </tr>\n",
       "  </tbody>\n",
       "</table>\n",
       "<p>57915 rows × 549 columns</p>\n",
       "</div>"
      ],
      "text/plain": [
       "        BC01_02   BC01_03   BC01_04   BC01_05   BC01_06   BC01_08   BC01_10  \\\n",
       "0          0.00      0.00      0.00      0.00      0.00     19.38      0.00   \n",
       "1          0.00      0.00      0.00      0.00      0.00      0.00      0.00   \n",
       "2         50.73    120.46      6.97    180.85     32.09    140.00     38.06   \n",
       "3          3.28      0.81     92.23      6.44     59.78     37.75    117.92   \n",
       "4          0.00     13.42      0.34      0.26      0.00      0.00      0.67   \n",
       "...         ...       ...       ...       ...       ...       ...       ...   \n",
       "57910      0.00      0.00      0.00      0.00      0.00      0.00      0.00   \n",
       "57911      0.00      0.00      0.00      0.00      0.00      0.00      0.00   \n",
       "57912  18414.34  19603.44  28523.94  31210.57  48684.49  26428.35  36442.08   \n",
       "57913    537.11    653.27    916.42    961.37   2052.48   1056.75   1802.41   \n",
       "57914      0.00      0.00      0.00      0.00      0.00      0.00      0.00   \n",
       "\n",
       "         BC01_11   BC01_12    BC01_24  ...    BC11_04   BC11_07    BC11_28  \\\n",
       "0           0.00      0.00       0.00  ...       0.00     47.44      16.11   \n",
       "1           0.00      0.00       0.00  ...       0.00      0.00       0.00   \n",
       "2           0.00     10.77       0.00  ...     198.96      0.00       0.00   \n",
       "3           0.00      0.00       0.00  ...       0.00     10.96       0.00   \n",
       "4           0.00      0.00       0.00  ...       0.00      6.97       9.02   \n",
       "...          ...       ...        ...  ...        ...       ...        ...   \n",
       "57910       0.00      0.00       0.00  ...       0.00      0.00       0.00   \n",
       "57911       0.00      0.00       0.00  ...       0.00      0.00       0.00   \n",
       "57912  122515.89  57692.19  112417.31  ...  166346.51  54443.35  120842.89   \n",
       "57913    4791.14   2292.81    3568.05  ...    6860.84   2136.69    4048.09   \n",
       "57914       0.00      0.00       0.00  ...       0.00      0.00       0.00   \n",
       "\n",
       "         BC11_43    BC11_56   BC11_69   BC11_70   BC11_78    BC11_81   BC11_88  \n",
       "0           0.00       6.56      0.00      0.00      0.00     200.82      0.00  \n",
       "1           0.00       0.00      0.00      0.00      0.00       0.00      0.00  \n",
       "2          20.63       0.00      0.00      0.00    136.07      22.03    204.58  \n",
       "3           0.00       0.00      0.27      0.00      0.07       0.19      9.52  \n",
       "4           0.00       0.00      0.14    247.69     22.60      11.35      0.00  \n",
       "...          ...        ...       ...       ...       ...        ...       ...  \n",
       "57910       0.00       0.00      0.00      0.00      0.00       0.00      0.00  \n",
       "57911       0.00       0.00      0.00      0.00      0.00       0.00      0.00  \n",
       "57912  135291.06  138048.60  58840.26  65246.34  33465.11  108901.35  57492.01  \n",
       "57913    4062.59    4147.05   2286.91   2821.49   1652.19    3439.53   1837.41  \n",
       "57914       0.00       0.00      0.00      0.00      0.00       0.00      0.00  \n",
       "\n",
       "[57915 rows x 549 columns]"
      ]
     },
     "execution_count": 7,
     "metadata": {},
     "output_type": "execute_result"
    }
   ],
   "source": [
    "samples = df.loc[:,'BC01_02':]\n",
    "samples"
   ]
  },
  {
   "cell_type": "code",
   "execution_count": 8,
   "id": "9505252f-17d2-4e01-b59b-cc33bdf6cf6f",
   "metadata": {
    "colab": {
     "base_uri": "https://localhost:8080/",
     "height": 505
    },
    "id": "9505252f-17d2-4e01-b59b-cc33bdf6cf6f",
    "outputId": "6e3798da-5e66-473a-c8cb-5077b486ebd9"
   },
   "outputs": [
    {
     "data": {
      "text/html": [
       "<div>\n",
       "<style scoped>\n",
       "    .dataframe tbody tr th:only-of-type {\n",
       "        vertical-align: middle;\n",
       "    }\n",
       "\n",
       "    .dataframe tbody tr th {\n",
       "        vertical-align: top;\n",
       "    }\n",
       "\n",
       "    .dataframe thead th {\n",
       "        text-align: right;\n",
       "    }\n",
       "</style>\n",
       "<table border=\"1\" class=\"dataframe\">\n",
       "  <thead>\n",
       "    <tr style=\"text-align: right;\">\n",
       "      <th></th>\n",
       "      <th>TSPAN6</th>\n",
       "      <th>TNMD</th>\n",
       "      <th>DPM1</th>\n",
       "      <th>SCYL3</th>\n",
       "      <th>C1orf112</th>\n",
       "      <th>FGR</th>\n",
       "      <th>CFH</th>\n",
       "      <th>FUCA2</th>\n",
       "      <th>GCLC</th>\n",
       "      <th>NFYA</th>\n",
       "      <th>...</th>\n",
       "      <th>ERCC-00162</th>\n",
       "      <th>ERCC-00163</th>\n",
       "      <th>ERCC-00164</th>\n",
       "      <th>ERCC-00165</th>\n",
       "      <th>ERCC-00168</th>\n",
       "      <th>ERCC-00170</th>\n",
       "      <th>ERCC-00171</th>\n",
       "      <th>EC2</th>\n",
       "      <th>EC15</th>\n",
       "      <th>EC18</th>\n",
       "    </tr>\n",
       "  </thead>\n",
       "  <tbody>\n",
       "    <tr>\n",
       "      <th>BC01_02</th>\n",
       "      <td>0.00</td>\n",
       "      <td>0.0</td>\n",
       "      <td>50.73</td>\n",
       "      <td>3.28</td>\n",
       "      <td>0.00</td>\n",
       "      <td>0.0</td>\n",
       "      <td>0.00</td>\n",
       "      <td>9.64</td>\n",
       "      <td>2.87</td>\n",
       "      <td>0.77</td>\n",
       "      <td>...</td>\n",
       "      <td>0.0</td>\n",
       "      <td>0.0</td>\n",
       "      <td>0.0</td>\n",
       "      <td>0.0</td>\n",
       "      <td>0.0</td>\n",
       "      <td>0.0</td>\n",
       "      <td>0.0</td>\n",
       "      <td>18414.34</td>\n",
       "      <td>537.11</td>\n",
       "      <td>0.0</td>\n",
       "    </tr>\n",
       "    <tr>\n",
       "      <th>BC01_03</th>\n",
       "      <td>0.00</td>\n",
       "      <td>0.0</td>\n",
       "      <td>120.46</td>\n",
       "      <td>0.81</td>\n",
       "      <td>13.42</td>\n",
       "      <td>0.0</td>\n",
       "      <td>0.00</td>\n",
       "      <td>36.36</td>\n",
       "      <td>5.02</td>\n",
       "      <td>1.08</td>\n",
       "      <td>...</td>\n",
       "      <td>0.0</td>\n",
       "      <td>0.0</td>\n",
       "      <td>0.0</td>\n",
       "      <td>0.0</td>\n",
       "      <td>0.0</td>\n",
       "      <td>0.0</td>\n",
       "      <td>0.0</td>\n",
       "      <td>19603.44</td>\n",
       "      <td>653.27</td>\n",
       "      <td>0.0</td>\n",
       "    </tr>\n",
       "    <tr>\n",
       "      <th>BC01_04</th>\n",
       "      <td>0.00</td>\n",
       "      <td>0.0</td>\n",
       "      <td>6.97</td>\n",
       "      <td>92.23</td>\n",
       "      <td>0.34</td>\n",
       "      <td>0.0</td>\n",
       "      <td>0.00</td>\n",
       "      <td>0.00</td>\n",
       "      <td>108.11</td>\n",
       "      <td>0.00</td>\n",
       "      <td>...</td>\n",
       "      <td>0.0</td>\n",
       "      <td>0.0</td>\n",
       "      <td>0.0</td>\n",
       "      <td>0.0</td>\n",
       "      <td>0.0</td>\n",
       "      <td>0.0</td>\n",
       "      <td>0.0</td>\n",
       "      <td>28523.94</td>\n",
       "      <td>916.42</td>\n",
       "      <td>0.0</td>\n",
       "    </tr>\n",
       "    <tr>\n",
       "      <th>BC01_05</th>\n",
       "      <td>0.00</td>\n",
       "      <td>0.0</td>\n",
       "      <td>180.85</td>\n",
       "      <td>6.44</td>\n",
       "      <td>0.26</td>\n",
       "      <td>0.0</td>\n",
       "      <td>0.00</td>\n",
       "      <td>0.00</td>\n",
       "      <td>2.32</td>\n",
       "      <td>0.37</td>\n",
       "      <td>...</td>\n",
       "      <td>0.0</td>\n",
       "      <td>0.0</td>\n",
       "      <td>0.0</td>\n",
       "      <td>0.0</td>\n",
       "      <td>0.0</td>\n",
       "      <td>0.0</td>\n",
       "      <td>0.0</td>\n",
       "      <td>31210.57</td>\n",
       "      <td>961.37</td>\n",
       "      <td>0.0</td>\n",
       "    </tr>\n",
       "    <tr>\n",
       "      <th>BC01_06</th>\n",
       "      <td>0.00</td>\n",
       "      <td>0.0</td>\n",
       "      <td>32.09</td>\n",
       "      <td>59.78</td>\n",
       "      <td>0.00</td>\n",
       "      <td>0.0</td>\n",
       "      <td>0.33</td>\n",
       "      <td>8.42</td>\n",
       "      <td>52.59</td>\n",
       "      <td>0.00</td>\n",
       "      <td>...</td>\n",
       "      <td>0.0</td>\n",
       "      <td>0.0</td>\n",
       "      <td>0.0</td>\n",
       "      <td>0.0</td>\n",
       "      <td>0.0</td>\n",
       "      <td>0.0</td>\n",
       "      <td>0.0</td>\n",
       "      <td>48684.49</td>\n",
       "      <td>2052.48</td>\n",
       "      <td>0.0</td>\n",
       "    </tr>\n",
       "    <tr>\n",
       "      <th>...</th>\n",
       "      <td>...</td>\n",
       "      <td>...</td>\n",
       "      <td>...</td>\n",
       "      <td>...</td>\n",
       "      <td>...</td>\n",
       "      <td>...</td>\n",
       "      <td>...</td>\n",
       "      <td>...</td>\n",
       "      <td>...</td>\n",
       "      <td>...</td>\n",
       "      <td>...</td>\n",
       "      <td>...</td>\n",
       "      <td>...</td>\n",
       "      <td>...</td>\n",
       "      <td>...</td>\n",
       "      <td>...</td>\n",
       "      <td>...</td>\n",
       "      <td>...</td>\n",
       "      <td>...</td>\n",
       "      <td>...</td>\n",
       "      <td>...</td>\n",
       "    </tr>\n",
       "    <tr>\n",
       "      <th>BC11_69</th>\n",
       "      <td>0.00</td>\n",
       "      <td>0.0</td>\n",
       "      <td>0.00</td>\n",
       "      <td>0.27</td>\n",
       "      <td>0.14</td>\n",
       "      <td>0.0</td>\n",
       "      <td>0.00</td>\n",
       "      <td>7.06</td>\n",
       "      <td>0.00</td>\n",
       "      <td>0.00</td>\n",
       "      <td>...</td>\n",
       "      <td>0.0</td>\n",
       "      <td>0.0</td>\n",
       "      <td>0.0</td>\n",
       "      <td>0.0</td>\n",
       "      <td>0.0</td>\n",
       "      <td>0.0</td>\n",
       "      <td>0.0</td>\n",
       "      <td>58840.26</td>\n",
       "      <td>2286.91</td>\n",
       "      <td>0.0</td>\n",
       "    </tr>\n",
       "    <tr>\n",
       "      <th>BC11_70</th>\n",
       "      <td>0.00</td>\n",
       "      <td>0.0</td>\n",
       "      <td>0.00</td>\n",
       "      <td>0.00</td>\n",
       "      <td>247.69</td>\n",
       "      <td>0.0</td>\n",
       "      <td>0.81</td>\n",
       "      <td>4.49</td>\n",
       "      <td>0.00</td>\n",
       "      <td>53.21</td>\n",
       "      <td>...</td>\n",
       "      <td>0.0</td>\n",
       "      <td>0.0</td>\n",
       "      <td>0.0</td>\n",
       "      <td>0.0</td>\n",
       "      <td>0.0</td>\n",
       "      <td>0.0</td>\n",
       "      <td>0.0</td>\n",
       "      <td>65246.34</td>\n",
       "      <td>2821.49</td>\n",
       "      <td>0.0</td>\n",
       "    </tr>\n",
       "    <tr>\n",
       "      <th>BC11_78</th>\n",
       "      <td>0.00</td>\n",
       "      <td>0.0</td>\n",
       "      <td>136.07</td>\n",
       "      <td>0.07</td>\n",
       "      <td>22.60</td>\n",
       "      <td>0.0</td>\n",
       "      <td>0.83</td>\n",
       "      <td>0.82</td>\n",
       "      <td>70.26</td>\n",
       "      <td>0.96</td>\n",
       "      <td>...</td>\n",
       "      <td>0.0</td>\n",
       "      <td>0.0</td>\n",
       "      <td>0.0</td>\n",
       "      <td>0.0</td>\n",
       "      <td>0.0</td>\n",
       "      <td>0.0</td>\n",
       "      <td>0.0</td>\n",
       "      <td>33465.11</td>\n",
       "      <td>1652.19</td>\n",
       "      <td>0.0</td>\n",
       "    </tr>\n",
       "    <tr>\n",
       "      <th>BC11_81</th>\n",
       "      <td>200.82</td>\n",
       "      <td>0.0</td>\n",
       "      <td>22.03</td>\n",
       "      <td>0.19</td>\n",
       "      <td>11.35</td>\n",
       "      <td>0.0</td>\n",
       "      <td>0.00</td>\n",
       "      <td>4.32</td>\n",
       "      <td>1.12</td>\n",
       "      <td>6.15</td>\n",
       "      <td>...</td>\n",
       "      <td>0.0</td>\n",
       "      <td>0.0</td>\n",
       "      <td>0.0</td>\n",
       "      <td>0.0</td>\n",
       "      <td>0.0</td>\n",
       "      <td>0.0</td>\n",
       "      <td>0.0</td>\n",
       "      <td>108901.35</td>\n",
       "      <td>3439.53</td>\n",
       "      <td>0.0</td>\n",
       "    </tr>\n",
       "    <tr>\n",
       "      <th>BC11_88</th>\n",
       "      <td>0.00</td>\n",
       "      <td>0.0</td>\n",
       "      <td>204.58</td>\n",
       "      <td>9.52</td>\n",
       "      <td>0.00</td>\n",
       "      <td>0.0</td>\n",
       "      <td>0.00</td>\n",
       "      <td>0.00</td>\n",
       "      <td>17.54</td>\n",
       "      <td>0.00</td>\n",
       "      <td>...</td>\n",
       "      <td>0.0</td>\n",
       "      <td>0.0</td>\n",
       "      <td>0.0</td>\n",
       "      <td>0.0</td>\n",
       "      <td>0.0</td>\n",
       "      <td>0.0</td>\n",
       "      <td>0.0</td>\n",
       "      <td>57492.01</td>\n",
       "      <td>1837.41</td>\n",
       "      <td>0.0</td>\n",
       "    </tr>\n",
       "  </tbody>\n",
       "</table>\n",
       "<p>549 rows × 57915 columns</p>\n",
       "</div>"
      ],
      "text/plain": [
       "         TSPAN6  TNMD    DPM1  SCYL3  C1orf112  FGR   CFH  FUCA2    GCLC  \\\n",
       "BC01_02    0.00   0.0   50.73   3.28      0.00  0.0  0.00   9.64    2.87   \n",
       "BC01_03    0.00   0.0  120.46   0.81     13.42  0.0  0.00  36.36    5.02   \n",
       "BC01_04    0.00   0.0    6.97  92.23      0.34  0.0  0.00   0.00  108.11   \n",
       "BC01_05    0.00   0.0  180.85   6.44      0.26  0.0  0.00   0.00    2.32   \n",
       "BC01_06    0.00   0.0   32.09  59.78      0.00  0.0  0.33   8.42   52.59   \n",
       "...         ...   ...     ...    ...       ...  ...   ...    ...     ...   \n",
       "BC11_69    0.00   0.0    0.00   0.27      0.14  0.0  0.00   7.06    0.00   \n",
       "BC11_70    0.00   0.0    0.00   0.00    247.69  0.0  0.81   4.49    0.00   \n",
       "BC11_78    0.00   0.0  136.07   0.07     22.60  0.0  0.83   0.82   70.26   \n",
       "BC11_81  200.82   0.0   22.03   0.19     11.35  0.0  0.00   4.32    1.12   \n",
       "BC11_88    0.00   0.0  204.58   9.52      0.00  0.0  0.00   0.00   17.54   \n",
       "\n",
       "          NFYA  ...  ERCC-00162  ERCC-00163  ERCC-00164  ERCC-00165  \\\n",
       "BC01_02   0.77  ...         0.0         0.0         0.0         0.0   \n",
       "BC01_03   1.08  ...         0.0         0.0         0.0         0.0   \n",
       "BC01_04   0.00  ...         0.0         0.0         0.0         0.0   \n",
       "BC01_05   0.37  ...         0.0         0.0         0.0         0.0   \n",
       "BC01_06   0.00  ...         0.0         0.0         0.0         0.0   \n",
       "...        ...  ...         ...         ...         ...         ...   \n",
       "BC11_69   0.00  ...         0.0         0.0         0.0         0.0   \n",
       "BC11_70  53.21  ...         0.0         0.0         0.0         0.0   \n",
       "BC11_78   0.96  ...         0.0         0.0         0.0         0.0   \n",
       "BC11_81   6.15  ...         0.0         0.0         0.0         0.0   \n",
       "BC11_88   0.00  ...         0.0         0.0         0.0         0.0   \n",
       "\n",
       "         ERCC-00168  ERCC-00170  ERCC-00171        EC2     EC15  EC18  \n",
       "BC01_02         0.0         0.0         0.0   18414.34   537.11   0.0  \n",
       "BC01_03         0.0         0.0         0.0   19603.44   653.27   0.0  \n",
       "BC01_04         0.0         0.0         0.0   28523.94   916.42   0.0  \n",
       "BC01_05         0.0         0.0         0.0   31210.57   961.37   0.0  \n",
       "BC01_06         0.0         0.0         0.0   48684.49  2052.48   0.0  \n",
       "...             ...         ...         ...        ...      ...   ...  \n",
       "BC11_69         0.0         0.0         0.0   58840.26  2286.91   0.0  \n",
       "BC11_70         0.0         0.0         0.0   65246.34  2821.49   0.0  \n",
       "BC11_78         0.0         0.0         0.0   33465.11  1652.19   0.0  \n",
       "BC11_81         0.0         0.0         0.0  108901.35  3439.53   0.0  \n",
       "BC11_88         0.0         0.0         0.0   57492.01  1837.41   0.0  \n",
       "\n",
       "[549 rows x 57915 columns]"
      ]
     },
     "execution_count": 8,
     "metadata": {},
     "output_type": "execute_result"
    }
   ],
   "source": [
    "columns = samples.T.columns.values\n",
    "gene_name_list = list(df['gene_name'])\n",
    "columns_mapping = dict(zip(columns, gene_name_list))\n",
    "samples = samples.T.rename(columns=columns_mapping)\n",
    "samples"
   ]
  },
  {
   "cell_type": "markdown",
   "id": "e71441d0-0f6b-4a21-aa8c-7b70c5480c38",
   "metadata": {
    "id": "e71441d0-0f6b-4a21-aa8c-7b70c5480c38"
   },
   "source": [
    "### Cells Metadata"
   ]
  },
  {
   "cell_type": "code",
   "execution_count": 9,
   "id": "73961d34-6774-4cdd-be51-fe8e1ad7bfa6",
   "metadata": {
    "colab": {
     "base_uri": "https://localhost:8080/",
     "height": 423
    },
    "id": "73961d34-6774-4cdd-be51-fe8e1ad7bfa6",
    "outputId": "62d90065-0fd5-4042-fec9-17e842b36d2b"
   },
   "outputs": [
    {
     "data": {
      "text/html": [
       "<div>\n",
       "<style scoped>\n",
       "    .dataframe tbody tr th:only-of-type {\n",
       "        vertical-align: middle;\n",
       "    }\n",
       "\n",
       "    .dataframe tbody tr th {\n",
       "        vertical-align: top;\n",
       "    }\n",
       "\n",
       "    .dataframe thead th {\n",
       "        text-align: right;\n",
       "    }\n",
       "</style>\n",
       "<table border=\"1\" class=\"dataframe\">\n",
       "  <thead>\n",
       "    <tr style=\"text-align: right;\">\n",
       "      <th></th>\n",
       "      <th>sample</th>\n",
       "      <th>type</th>\n",
       "      <th>is_tumor</th>\n",
       "      <th>system</th>\n",
       "      <th>cell_type</th>\n",
       "    </tr>\n",
       "  </thead>\n",
       "  <tbody>\n",
       "    <tr>\n",
       "      <th>0</th>\n",
       "      <td>BC01_02</td>\n",
       "      <td>SC</td>\n",
       "      <td>Tumor</td>\n",
       "      <td>Tumor</td>\n",
       "      <td>Tumor</td>\n",
       "    </tr>\n",
       "    <tr>\n",
       "      <th>1</th>\n",
       "      <td>BC01_03</td>\n",
       "      <td>SC</td>\n",
       "      <td>Tumor</td>\n",
       "      <td>Tumor</td>\n",
       "      <td>Tumor</td>\n",
       "    </tr>\n",
       "    <tr>\n",
       "      <th>2</th>\n",
       "      <td>BC01_04</td>\n",
       "      <td>SC</td>\n",
       "      <td>Tumor</td>\n",
       "      <td>Tumor</td>\n",
       "      <td>Tumor</td>\n",
       "    </tr>\n",
       "    <tr>\n",
       "      <th>3</th>\n",
       "      <td>BC01_05</td>\n",
       "      <td>SC</td>\n",
       "      <td>Tumor</td>\n",
       "      <td>Tumor</td>\n",
       "      <td>Tumor</td>\n",
       "    </tr>\n",
       "    <tr>\n",
       "      <th>4</th>\n",
       "      <td>BC01_06</td>\n",
       "      <td>SC</td>\n",
       "      <td>Tumor</td>\n",
       "      <td>Tumor</td>\n",
       "      <td>Tumor</td>\n",
       "    </tr>\n",
       "    <tr>\n",
       "      <th>...</th>\n",
       "      <td>...</td>\n",
       "      <td>...</td>\n",
       "      <td>...</td>\n",
       "      <td>...</td>\n",
       "      <td>...</td>\n",
       "    </tr>\n",
       "    <tr>\n",
       "      <th>522</th>\n",
       "      <td>BC06_43</td>\n",
       "      <td>SC</td>\n",
       "      <td>nonTumor</td>\n",
       "      <td>Stromal</td>\n",
       "      <td>Stromal</td>\n",
       "    </tr>\n",
       "    <tr>\n",
       "      <th>523</th>\n",
       "      <td>BC06_58</td>\n",
       "      <td>SC</td>\n",
       "      <td>nonTumor</td>\n",
       "      <td>Immune</td>\n",
       "      <td>Bcell</td>\n",
       "    </tr>\n",
       "    <tr>\n",
       "      <th>524</th>\n",
       "      <td>BC06_60</td>\n",
       "      <td>SC</td>\n",
       "      <td>Tumor</td>\n",
       "      <td>Tumor</td>\n",
       "      <td>Tumor</td>\n",
       "    </tr>\n",
       "    <tr>\n",
       "      <th>525</th>\n",
       "      <td>BC06_61</td>\n",
       "      <td>SC</td>\n",
       "      <td>nonTumor</td>\n",
       "      <td>Immune</td>\n",
       "      <td>Bcell</td>\n",
       "    </tr>\n",
       "    <tr>\n",
       "      <th>526</th>\n",
       "      <td>BC06_74</td>\n",
       "      <td>SC</td>\n",
       "      <td>Tumor</td>\n",
       "      <td>Tumor</td>\n",
       "      <td>Tumor</td>\n",
       "    </tr>\n",
       "  </tbody>\n",
       "</table>\n",
       "<p>515 rows × 5 columns</p>\n",
       "</div>"
      ],
      "text/plain": [
       "      sample type  is_tumor   system cell_type\n",
       "0    BC01_02   SC     Tumor    Tumor     Tumor\n",
       "1    BC01_03   SC     Tumor    Tumor     Tumor\n",
       "2    BC01_04   SC     Tumor    Tumor     Tumor\n",
       "3    BC01_05   SC     Tumor    Tumor     Tumor\n",
       "4    BC01_06   SC     Tumor    Tumor     Tumor\n",
       "..       ...  ...       ...      ...       ...\n",
       "522  BC06_43   SC  nonTumor  Stromal   Stromal\n",
       "523  BC06_58   SC  nonTumor   Immune     Bcell\n",
       "524  BC06_60   SC     Tumor    Tumor     Tumor\n",
       "525  BC06_61   SC  nonTumor   Immune     Bcell\n",
       "526  BC06_74   SC     Tumor    Tumor     Tumor\n",
       "\n",
       "[515 rows x 5 columns]"
      ]
     },
     "execution_count": 9,
     "metadata": {},
     "output_type": "execute_result"
    }
   ],
   "source": [
    "columns_mapping = {\n",
    "    'index': 'is_tumor',\n",
    "    'index2': 'system',\n",
    "    'index3': 'cell_type'\n",
    "}\n",
    "cells_metadata = df_info[df_info['type'] == 'SC']\n",
    "cells_metadata = cells_metadata.rename(columns=columns_mapping)\n",
    "cells_metadata"
   ]
  },
  {
   "cell_type": "code",
   "execution_count": 10,
   "id": "402b6495-9582-413a-9c11-772a2687628e",
   "metadata": {
    "colab": {
     "base_uri": "https://localhost:8080/"
    },
    "id": "402b6495-9582-413a-9c11-772a2687628e",
    "outputId": "12f22f9c-bd22-4e55-dbb4-d880ccba1ea3"
   },
   "outputs": [
    {
     "name": "stdout",
     "output_type": "stream",
     "text": [
      "Number of unlabeled samples: 34\n"
     ]
    }
   ],
   "source": [
    "sample_names = list(samples.index.values)\n",
    "labeled = list(cells_metadata['sample'].values)\n",
    "unlabeled = list(cell for cell in sample_names if cell not in labeled)\n",
    "print(f'Number of unlabeled samples: {len(unlabeled)}')"
   ]
  },
  {
   "cell_type": "code",
   "execution_count": 11,
   "id": "328b1272-a116-4c4b-95dc-581bc104eb01",
   "metadata": {
    "colab": {
     "base_uri": "https://localhost:8080/",
     "height": 423
    },
    "id": "328b1272-a116-4c4b-95dc-581bc104eb01",
    "outputId": "4a5333a3-d1d4-4b4e-ddf8-e0b4a1142d6e"
   },
   "outputs": [
    {
     "data": {
      "text/html": [
       "<div>\n",
       "<style scoped>\n",
       "    .dataframe tbody tr th:only-of-type {\n",
       "        vertical-align: middle;\n",
       "    }\n",
       "\n",
       "    .dataframe tbody tr th {\n",
       "        vertical-align: top;\n",
       "    }\n",
       "\n",
       "    .dataframe thead th {\n",
       "        text-align: right;\n",
       "    }\n",
       "</style>\n",
       "<table border=\"1\" class=\"dataframe\">\n",
       "  <thead>\n",
       "    <tr style=\"text-align: right;\">\n",
       "      <th></th>\n",
       "      <th>sample</th>\n",
       "    </tr>\n",
       "  </thead>\n",
       "  <tbody>\n",
       "    <tr>\n",
       "      <th>0</th>\n",
       "      <td>BC01_02</td>\n",
       "    </tr>\n",
       "    <tr>\n",
       "      <th>1</th>\n",
       "      <td>BC01_03</td>\n",
       "    </tr>\n",
       "    <tr>\n",
       "      <th>2</th>\n",
       "      <td>BC01_04</td>\n",
       "    </tr>\n",
       "    <tr>\n",
       "      <th>3</th>\n",
       "      <td>BC01_05</td>\n",
       "    </tr>\n",
       "    <tr>\n",
       "      <th>4</th>\n",
       "      <td>BC01_06</td>\n",
       "    </tr>\n",
       "    <tr>\n",
       "      <th>...</th>\n",
       "      <td>...</td>\n",
       "    </tr>\n",
       "    <tr>\n",
       "      <th>544</th>\n",
       "      <td>BC11_69</td>\n",
       "    </tr>\n",
       "    <tr>\n",
       "      <th>545</th>\n",
       "      <td>BC11_70</td>\n",
       "    </tr>\n",
       "    <tr>\n",
       "      <th>546</th>\n",
       "      <td>BC11_78</td>\n",
       "    </tr>\n",
       "    <tr>\n",
       "      <th>547</th>\n",
       "      <td>BC11_81</td>\n",
       "    </tr>\n",
       "    <tr>\n",
       "      <th>548</th>\n",
       "      <td>BC11_88</td>\n",
       "    </tr>\n",
       "  </tbody>\n",
       "</table>\n",
       "<p>549 rows × 1 columns</p>\n",
       "</div>"
      ],
      "text/plain": [
       "      sample\n",
       "0    BC01_02\n",
       "1    BC01_03\n",
       "2    BC01_04\n",
       "3    BC01_05\n",
       "4    BC01_06\n",
       "..       ...\n",
       "544  BC11_69\n",
       "545  BC11_70\n",
       "546  BC11_78\n",
       "547  BC11_81\n",
       "548  BC11_88\n",
       "\n",
       "[549 rows x 1 columns]"
      ]
     },
     "execution_count": 11,
     "metadata": {},
     "output_type": "execute_result"
    }
   ],
   "source": [
    "empty_rows = pd.DataFrame({'sample':sample_names})\n",
    "empty_rows"
   ]
  },
  {
   "cell_type": "code",
   "execution_count": 12,
   "id": "d18c8ddb-4705-44af-bcba-b2077ff9f3c9",
   "metadata": {
    "colab": {
     "base_uri": "https://localhost:8080/",
     "height": 423
    },
    "id": "d18c8ddb-4705-44af-bcba-b2077ff9f3c9",
    "outputId": "cc5917a6-0e80-44c1-b766-502fab599bf0"
   },
   "outputs": [
    {
     "data": {
      "text/html": [
       "<div>\n",
       "<style scoped>\n",
       "    .dataframe tbody tr th:only-of-type {\n",
       "        vertical-align: middle;\n",
       "    }\n",
       "\n",
       "    .dataframe tbody tr th {\n",
       "        vertical-align: top;\n",
       "    }\n",
       "\n",
       "    .dataframe thead th {\n",
       "        text-align: right;\n",
       "    }\n",
       "</style>\n",
       "<table border=\"1\" class=\"dataframe\">\n",
       "  <thead>\n",
       "    <tr style=\"text-align: right;\">\n",
       "      <th></th>\n",
       "      <th>sample</th>\n",
       "      <th>type</th>\n",
       "      <th>is_tumor</th>\n",
       "      <th>system</th>\n",
       "      <th>cell_type</th>\n",
       "    </tr>\n",
       "  </thead>\n",
       "  <tbody>\n",
       "    <tr>\n",
       "      <th>0</th>\n",
       "      <td>BC01_02</td>\n",
       "      <td>SC</td>\n",
       "      <td>Tumor</td>\n",
       "      <td>Tumor</td>\n",
       "      <td>Tumor</td>\n",
       "    </tr>\n",
       "    <tr>\n",
       "      <th>1</th>\n",
       "      <td>BC01_03</td>\n",
       "      <td>SC</td>\n",
       "      <td>Tumor</td>\n",
       "      <td>Tumor</td>\n",
       "      <td>Tumor</td>\n",
       "    </tr>\n",
       "    <tr>\n",
       "      <th>2</th>\n",
       "      <td>BC01_04</td>\n",
       "      <td>SC</td>\n",
       "      <td>Tumor</td>\n",
       "      <td>Tumor</td>\n",
       "      <td>Tumor</td>\n",
       "    </tr>\n",
       "    <tr>\n",
       "      <th>3</th>\n",
       "      <td>BC01_05</td>\n",
       "      <td>SC</td>\n",
       "      <td>Tumor</td>\n",
       "      <td>Tumor</td>\n",
       "      <td>Tumor</td>\n",
       "    </tr>\n",
       "    <tr>\n",
       "      <th>4</th>\n",
       "      <td>BC01_06</td>\n",
       "      <td>SC</td>\n",
       "      <td>Tumor</td>\n",
       "      <td>Tumor</td>\n",
       "      <td>Tumor</td>\n",
       "    </tr>\n",
       "    <tr>\n",
       "      <th>...</th>\n",
       "      <td>...</td>\n",
       "      <td>...</td>\n",
       "      <td>...</td>\n",
       "      <td>...</td>\n",
       "      <td>...</td>\n",
       "    </tr>\n",
       "    <tr>\n",
       "      <th>544</th>\n",
       "      <td>BC11_69</td>\n",
       "      <td>SC</td>\n",
       "      <td>Tumor</td>\n",
       "      <td>Tumor</td>\n",
       "      <td>Tumor</td>\n",
       "    </tr>\n",
       "    <tr>\n",
       "      <th>545</th>\n",
       "      <td>BC11_70</td>\n",
       "      <td>SC</td>\n",
       "      <td>Tumor</td>\n",
       "      <td>Tumor</td>\n",
       "      <td>Tumor</td>\n",
       "    </tr>\n",
       "    <tr>\n",
       "      <th>546</th>\n",
       "      <td>BC11_78</td>\n",
       "      <td>SC</td>\n",
       "      <td>Tumor</td>\n",
       "      <td>Tumor</td>\n",
       "      <td>Tumor</td>\n",
       "    </tr>\n",
       "    <tr>\n",
       "      <th>547</th>\n",
       "      <td>BC11_81</td>\n",
       "      <td>SC</td>\n",
       "      <td>Tumor</td>\n",
       "      <td>Tumor</td>\n",
       "      <td>Tumor</td>\n",
       "    </tr>\n",
       "    <tr>\n",
       "      <th>548</th>\n",
       "      <td>BC11_88</td>\n",
       "      <td>SC</td>\n",
       "      <td>Tumor</td>\n",
       "      <td>Tumor</td>\n",
       "      <td>Tumor</td>\n",
       "    </tr>\n",
       "  </tbody>\n",
       "</table>\n",
       "<p>549 rows × 5 columns</p>\n",
       "</div>"
      ],
      "text/plain": [
       "      sample type is_tumor system cell_type\n",
       "0    BC01_02   SC    Tumor  Tumor     Tumor\n",
       "1    BC01_03   SC    Tumor  Tumor     Tumor\n",
       "2    BC01_04   SC    Tumor  Tumor     Tumor\n",
       "3    BC01_05   SC    Tumor  Tumor     Tumor\n",
       "4    BC01_06   SC    Tumor  Tumor     Tumor\n",
       "..       ...  ...      ...    ...       ...\n",
       "544  BC11_69   SC    Tumor  Tumor     Tumor\n",
       "545  BC11_70   SC    Tumor  Tumor     Tumor\n",
       "546  BC11_78   SC    Tumor  Tumor     Tumor\n",
       "547  BC11_81   SC    Tumor  Tumor     Tumor\n",
       "548  BC11_88   SC    Tumor  Tumor     Tumor\n",
       "\n",
       "[549 rows x 5 columns]"
      ]
     },
     "execution_count": 12,
     "metadata": {},
     "output_type": "execute_result"
    }
   ],
   "source": [
    "cells_metadata = empty_rows.merge(cells_metadata, how='left', on='sample')\n",
    "cells_metadata"
   ]
  },
  {
   "cell_type": "code",
   "execution_count": 13,
   "id": "f771e853-cce5-49fb-8459-8836dd462b29",
   "metadata": {
    "colab": {
     "base_uri": "https://localhost:8080/",
     "height": 394
    },
    "id": "f771e853-cce5-49fb-8459-8836dd462b29",
    "outputId": "ac5a9176-dd4f-4a1a-e006-d94ae9f871fe"
   },
   "outputs": [
    {
     "data": {
      "text/html": [
       "<div>\n",
       "<style scoped>\n",
       "    .dataframe tbody tr th:only-of-type {\n",
       "        vertical-align: middle;\n",
       "    }\n",
       "\n",
       "    .dataframe tbody tr th {\n",
       "        vertical-align: top;\n",
       "    }\n",
       "\n",
       "    .dataframe thead th {\n",
       "        text-align: right;\n",
       "    }\n",
       "</style>\n",
       "<table border=\"1\" class=\"dataframe\">\n",
       "  <thead>\n",
       "    <tr style=\"text-align: right;\">\n",
       "      <th></th>\n",
       "      <th>sample</th>\n",
       "      <th>type</th>\n",
       "      <th>is_tumor</th>\n",
       "      <th>system</th>\n",
       "      <th>cell_type</th>\n",
       "    </tr>\n",
       "    <tr>\n",
       "      <th>sample</th>\n",
       "      <th></th>\n",
       "      <th></th>\n",
       "      <th></th>\n",
       "      <th></th>\n",
       "      <th></th>\n",
       "    </tr>\n",
       "  </thead>\n",
       "  <tbody>\n",
       "    <tr>\n",
       "      <th>BC01_02</th>\n",
       "      <td>BC01_02</td>\n",
       "      <td>SC</td>\n",
       "      <td>Tumor</td>\n",
       "      <td>Tumor</td>\n",
       "      <td>Tumor</td>\n",
       "    </tr>\n",
       "    <tr>\n",
       "      <th>BC01_03</th>\n",
       "      <td>BC01_03</td>\n",
       "      <td>SC</td>\n",
       "      <td>Tumor</td>\n",
       "      <td>Tumor</td>\n",
       "      <td>Tumor</td>\n",
       "    </tr>\n",
       "    <tr>\n",
       "      <th>BC01_04</th>\n",
       "      <td>BC01_04</td>\n",
       "      <td>SC</td>\n",
       "      <td>Tumor</td>\n",
       "      <td>Tumor</td>\n",
       "      <td>Tumor</td>\n",
       "    </tr>\n",
       "    <tr>\n",
       "      <th>BC01_05</th>\n",
       "      <td>BC01_05</td>\n",
       "      <td>SC</td>\n",
       "      <td>Tumor</td>\n",
       "      <td>Tumor</td>\n",
       "      <td>Tumor</td>\n",
       "    </tr>\n",
       "    <tr>\n",
       "      <th>BC01_06</th>\n",
       "      <td>BC01_06</td>\n",
       "      <td>SC</td>\n",
       "      <td>Tumor</td>\n",
       "      <td>Tumor</td>\n",
       "      <td>Tumor</td>\n",
       "    </tr>\n",
       "    <tr>\n",
       "      <th>BC01_08</th>\n",
       "      <td>BC01_08</td>\n",
       "      <td>SC</td>\n",
       "      <td>Tumor</td>\n",
       "      <td>Tumor</td>\n",
       "      <td>Tumor</td>\n",
       "    </tr>\n",
       "    <tr>\n",
       "      <th>BC01_10</th>\n",
       "      <td>BC01_10</td>\n",
       "      <td>SC</td>\n",
       "      <td>Tumor</td>\n",
       "      <td>Tumor</td>\n",
       "      <td>Tumor</td>\n",
       "    </tr>\n",
       "    <tr>\n",
       "      <th>BC01_11</th>\n",
       "      <td>BC01_11</td>\n",
       "      <td>NaN</td>\n",
       "      <td>NaN</td>\n",
       "      <td>NaN</td>\n",
       "      <td>NaN</td>\n",
       "    </tr>\n",
       "    <tr>\n",
       "      <th>BC01_12</th>\n",
       "      <td>BC01_12</td>\n",
       "      <td>SC</td>\n",
       "      <td>Tumor</td>\n",
       "      <td>Tumor</td>\n",
       "      <td>Tumor</td>\n",
       "    </tr>\n",
       "    <tr>\n",
       "      <th>BC01_24</th>\n",
       "      <td>BC01_24</td>\n",
       "      <td>NaN</td>\n",
       "      <td>NaN</td>\n",
       "      <td>NaN</td>\n",
       "      <td>NaN</td>\n",
       "    </tr>\n",
       "  </tbody>\n",
       "</table>\n",
       "</div>"
      ],
      "text/plain": [
       "          sample type is_tumor system cell_type\n",
       "sample                                         \n",
       "BC01_02  BC01_02   SC    Tumor  Tumor     Tumor\n",
       "BC01_03  BC01_03   SC    Tumor  Tumor     Tumor\n",
       "BC01_04  BC01_04   SC    Tumor  Tumor     Tumor\n",
       "BC01_05  BC01_05   SC    Tumor  Tumor     Tumor\n",
       "BC01_06  BC01_06   SC    Tumor  Tumor     Tumor\n",
       "BC01_08  BC01_08   SC    Tumor  Tumor     Tumor\n",
       "BC01_10  BC01_10   SC    Tumor  Tumor     Tumor\n",
       "BC01_11  BC01_11  NaN      NaN    NaN       NaN\n",
       "BC01_12  BC01_12   SC    Tumor  Tumor     Tumor\n",
       "BC01_24  BC01_24  NaN      NaN    NaN       NaN"
      ]
     },
     "execution_count": 13,
     "metadata": {},
     "output_type": "execute_result"
    }
   ],
   "source": [
    "cells_metadata = cells_metadata.set_index(cells_metadata['sample'])\n",
    "cells_metadata.head(10)"
   ]
  },
  {
   "cell_type": "markdown",
   "id": "c351a379-5f98-41ee-854d-2cde8856c0db",
   "metadata": {
    "id": "c351a379-5f98-41ee-854d-2cde8856c0db"
   },
   "source": [
    "### Genes Metadata"
   ]
  },
  {
   "cell_type": "code",
   "execution_count": 14,
   "id": "885b1cb7-c6aa-4c66-9da6-ca491bac3a7d",
   "metadata": {
    "colab": {
     "base_uri": "https://localhost:8080/",
     "height": 455
    },
    "id": "885b1cb7-c6aa-4c66-9da6-ca491bac3a7d",
    "outputId": "8205e0b2-e543-47fc-d8a9-f3568e7b7276"
   },
   "outputs": [
    {
     "data": {
      "text/html": [
       "<div>\n",
       "<style scoped>\n",
       "    .dataframe tbody tr th:only-of-type {\n",
       "        vertical-align: middle;\n",
       "    }\n",
       "\n",
       "    .dataframe tbody tr th {\n",
       "        vertical-align: top;\n",
       "    }\n",
       "\n",
       "    .dataframe thead th {\n",
       "        text-align: right;\n",
       "    }\n",
       "</style>\n",
       "<table border=\"1\" class=\"dataframe\">\n",
       "  <thead>\n",
       "    <tr style=\"text-align: right;\">\n",
       "      <th></th>\n",
       "      <th>gene_id</th>\n",
       "      <th>gene_name</th>\n",
       "      <th>gene_type</th>\n",
       "    </tr>\n",
       "    <tr>\n",
       "      <th>gene_name</th>\n",
       "      <th></th>\n",
       "      <th></th>\n",
       "      <th></th>\n",
       "    </tr>\n",
       "  </thead>\n",
       "  <tbody>\n",
       "    <tr>\n",
       "      <th>TSPAN6</th>\n",
       "      <td>ENSG00000000003.10</td>\n",
       "      <td>TSPAN6</td>\n",
       "      <td>protein_coding</td>\n",
       "    </tr>\n",
       "    <tr>\n",
       "      <th>TNMD</th>\n",
       "      <td>ENSG00000000005.5</td>\n",
       "      <td>TNMD</td>\n",
       "      <td>protein_coding</td>\n",
       "    </tr>\n",
       "    <tr>\n",
       "      <th>DPM1</th>\n",
       "      <td>ENSG00000000419.8</td>\n",
       "      <td>DPM1</td>\n",
       "      <td>protein_coding</td>\n",
       "    </tr>\n",
       "    <tr>\n",
       "      <th>SCYL3</th>\n",
       "      <td>ENSG00000000457.9</td>\n",
       "      <td>SCYL3</td>\n",
       "      <td>protein_coding</td>\n",
       "    </tr>\n",
       "    <tr>\n",
       "      <th>C1orf112</th>\n",
       "      <td>ENSG00000000460.12</td>\n",
       "      <td>C1orf112</td>\n",
       "      <td>protein_coding</td>\n",
       "    </tr>\n",
       "    <tr>\n",
       "      <th>...</th>\n",
       "      <td>...</td>\n",
       "      <td>...</td>\n",
       "      <td>...</td>\n",
       "    </tr>\n",
       "    <tr>\n",
       "      <th>ERCC-00170</th>\n",
       "      <td>ERCC-00170</td>\n",
       "      <td>ERCC-00170</td>\n",
       "      <td>ERCC</td>\n",
       "    </tr>\n",
       "    <tr>\n",
       "      <th>ERCC-00171</th>\n",
       "      <td>ERCC-00171</td>\n",
       "      <td>ERCC-00171</td>\n",
       "      <td>ERCC</td>\n",
       "    </tr>\n",
       "    <tr>\n",
       "      <th>EC2</th>\n",
       "      <td>SPIKE1</td>\n",
       "      <td>EC2</td>\n",
       "      <td>SPIKE_IN</td>\n",
       "    </tr>\n",
       "    <tr>\n",
       "      <th>EC15</th>\n",
       "      <td>SPIKE2</td>\n",
       "      <td>EC15</td>\n",
       "      <td>SPIKE_IN</td>\n",
       "    </tr>\n",
       "    <tr>\n",
       "      <th>EC18</th>\n",
       "      <td>SPIKE3</td>\n",
       "      <td>EC18</td>\n",
       "      <td>SPIKE_IN</td>\n",
       "    </tr>\n",
       "  </tbody>\n",
       "</table>\n",
       "<p>57915 rows × 3 columns</p>\n",
       "</div>"
      ],
      "text/plain": [
       "                       gene_id   gene_name       gene_type\n",
       "gene_name                                                 \n",
       "TSPAN6      ENSG00000000003.10      TSPAN6  protein_coding\n",
       "TNMD         ENSG00000000005.5        TNMD  protein_coding\n",
       "DPM1         ENSG00000000419.8        DPM1  protein_coding\n",
       "SCYL3        ENSG00000000457.9       SCYL3  protein_coding\n",
       "C1orf112    ENSG00000000460.12    C1orf112  protein_coding\n",
       "...                        ...         ...             ...\n",
       "ERCC-00170          ERCC-00170  ERCC-00170            ERCC\n",
       "ERCC-00171          ERCC-00171  ERCC-00171            ERCC\n",
       "EC2                     SPIKE1         EC2        SPIKE_IN\n",
       "EC15                    SPIKE2        EC15        SPIKE_IN\n",
       "EC18                    SPIKE3        EC18        SPIKE_IN\n",
       "\n",
       "[57915 rows x 3 columns]"
      ]
     },
     "execution_count": 14,
     "metadata": {},
     "output_type": "execute_result"
    }
   ],
   "source": [
    "genes_metadata = df[['gene_id', 'gene_name', 'gene_type']].set_index('gene_name', drop=False)\n",
    "genes_metadata"
   ]
  },
  {
   "cell_type": "code",
   "execution_count": 15,
   "id": "40f4f845",
   "metadata": {
    "colab": {
     "base_uri": "https://localhost:8080/"
    },
    "id": "40f4f845",
    "outputId": "8f978737-15cc-44c1-c435-08f6dd1f8f1b"
   },
   "outputs": [
    {
     "name": "stdout",
     "output_type": "stream",
     "text": [
      "(549, 57915)\n",
      "(549, 5)\n",
      "(57915, 3)\n"
     ]
    }
   ],
   "source": [
    "print(samples.shape)\n",
    "print(cells_metadata.shape)\n",
    "print(genes_metadata.shape)"
   ]
  },
  {
   "cell_type": "code",
   "execution_count": 16,
   "id": "04f1d01d-e1a6-49ff-a289-a2fa85b3475a",
   "metadata": {
    "colab": {
     "base_uri": "https://localhost:8080/"
    },
    "id": "04f1d01d-e1a6-49ff-a289-a2fa85b3475a",
    "outputId": "3340174b-6613-4f9b-8f4b-501db6565262"
   },
   "outputs": [
    {
     "name": "stderr",
     "output_type": "stream",
     "text": [
      "Variable names are not unique. To make them unique, call `.var_names_make_unique`.\n"
     ]
    },
    {
     "data": {
      "text/plain": [
       "AnnData object with n_obs × n_vars = 549 × 57915\n",
       "    obs: 'sample', 'type', 'is_tumor', 'system', 'cell_type'\n",
       "    var: 'gene_id', 'gene_name', 'gene_type'"
      ]
     },
     "execution_count": 16,
     "metadata": {},
     "output_type": "execute_result"
    }
   ],
   "source": [
    "adata = ad.AnnData(samples, obs=cells_metadata, var=genes_metadata)\n",
    "#adata = ad.AnnData(samples)\n",
    "adata"
   ]
  },
  {
   "cell_type": "code",
   "execution_count": 17,
   "id": "fde14dbc-a2f0-45ec-aa8c-345f2da019f5",
   "metadata": {
    "colab": {
     "base_uri": "https://localhost:8080/"
    },
    "id": "fde14dbc-a2f0-45ec-aa8c-345f2da019f5",
    "outputId": "d5aafb3a-2f5a-4e71-f3bb-154b131c9b26"
   },
   "outputs": [
    {
     "data": {
      "text/plain": [
       "Index(['TSPAN6', 'TNMD', 'DPM1', 'SCYL3', 'C1orf112', 'FGR', 'CFH', 'FUCA2',\n",
       "       'GCLC', 'NFYA',\n",
       "       ...\n",
       "       'ERCC-00162', 'ERCC-00163', 'ERCC-00164', 'ERCC-00165', 'ERCC-00168',\n",
       "       'ERCC-00170', 'ERCC-00171', 'EC2', 'EC15', 'EC18'],\n",
       "      dtype='object', name='gene_name', length=57915)"
      ]
     },
     "execution_count": 17,
     "metadata": {},
     "output_type": "execute_result"
    }
   ],
   "source": [
    "adata.var_names"
   ]
  },
  {
   "cell_type": "code",
   "execution_count": 18,
   "id": "f9c94e93-2c5a-4d99-bc7b-4c42a2582569",
   "metadata": {
    "colab": {
     "base_uri": "https://localhost:8080/"
    },
    "id": "f9c94e93-2c5a-4d99-bc7b-4c42a2582569",
    "outputId": "e709c133-c975-4438-f02e-c14612f9471d"
   },
   "outputs": [
    {
     "data": {
      "text/plain": [
       "Index(['BC01_02', 'BC01_03', 'BC01_04', 'BC01_05', 'BC01_06', 'BC01_08',\n",
       "       'BC01_10', 'BC01_11', 'BC01_12', 'BC01_24',\n",
       "       ...\n",
       "       'BC11_04', 'BC11_07', 'BC11_28', 'BC11_43', 'BC11_56', 'BC11_69',\n",
       "       'BC11_70', 'BC11_78', 'BC11_81', 'BC11_88'],\n",
       "      dtype='object', name='sample', length=549)"
      ]
     },
     "execution_count": 18,
     "metadata": {},
     "output_type": "execute_result"
    }
   ],
   "source": [
    "adata.obs_names"
   ]
  },
  {
   "cell_type": "code",
   "execution_count": 19,
   "id": "8deb0089-af5d-41ea-b628-188a507b187f",
   "metadata": {
    "colab": {
     "base_uri": "https://localhost:8080/"
    },
    "id": "8deb0089-af5d-41ea-b628-188a507b187f",
    "outputId": "5f5752bb-95e8-49d4-967a-206d24834f87"
   },
   "outputs": [
    {
     "name": "stderr",
     "output_type": "stream",
     "text": [
      "/mnt/wsl/PhysicalDrive6/projects/ppcic/scrnaseq/venv/lib/python3.10/site-packages/anndata/utils.py:111: UserWarning: Suffix used (-[0-9]+) to deduplicate index values may make index values difficult to interpret. There values with a similar suffixes in the index. Consider using a different delimiter by passing `join={delimiter}`Example key collisions generated by the make_index_unique algorithm: ['SNORD113-1', 'SNORD113-2', 'SNORD113-3', 'SNORD113-4', 'SNORD113-5']\n",
      "  warnings.warn(\n"
     ]
    }
   ],
   "source": [
    "adata.var_names_make_unique()"
   ]
  },
  {
   "cell_type": "code",
   "execution_count": 20,
   "id": "1ea3511d-3153-4f86-8a30-0229d3164e13",
   "metadata": {
    "colab": {
     "base_uri": "https://localhost:8080/"
    },
    "id": "1ea3511d-3153-4f86-8a30-0229d3164e13",
    "outputId": "c426aabe-5553-4f31-acf6-cb6a4cfd0ae3"
   },
   "outputs": [
    {
     "data": {
      "text/plain": [
       "array([[0.0000000e+00, 0.0000000e+00, 5.0730000e+01, ..., 1.8414340e+04,\n",
       "        5.3710999e+02, 0.0000000e+00],\n",
       "       [0.0000000e+00, 0.0000000e+00, 1.2046000e+02, ..., 1.9603439e+04,\n",
       "        6.5327002e+02, 0.0000000e+00],\n",
       "       [0.0000000e+00, 0.0000000e+00, 6.9699998e+00, ..., 2.8523939e+04,\n",
       "        9.1641998e+02, 0.0000000e+00],\n",
       "       ...,\n",
       "       [0.0000000e+00, 0.0000000e+00, 1.3607001e+02, ..., 3.3465109e+04,\n",
       "        1.6521899e+03, 0.0000000e+00],\n",
       "       [2.0082001e+02, 0.0000000e+00, 2.2030001e+01, ..., 1.0890135e+05,\n",
       "        3.4395300e+03, 0.0000000e+00],\n",
       "       [0.0000000e+00, 0.0000000e+00, 2.0458000e+02, ..., 5.7492012e+04,\n",
       "        1.8374100e+03, 0.0000000e+00]], dtype=float32)"
      ]
     },
     "execution_count": 20,
     "metadata": {},
     "output_type": "execute_result"
    }
   ],
   "source": [
    "adata.X"
   ]
  },
  {
   "cell_type": "code",
   "execution_count": 21,
   "id": "71895d8b-d807-4818-857d-6fea663c98a6",
   "metadata": {
    "colab": {
     "base_uri": "https://localhost:8080/",
     "height": 455
    },
    "id": "71895d8b-d807-4818-857d-6fea663c98a6",
    "outputId": "8996581a-6e23-49c9-fc77-bf4de5706ce7"
   },
   "outputs": [
    {
     "data": {
      "text/html": [
       "<div>\n",
       "<style scoped>\n",
       "    .dataframe tbody tr th:only-of-type {\n",
       "        vertical-align: middle;\n",
       "    }\n",
       "\n",
       "    .dataframe tbody tr th {\n",
       "        vertical-align: top;\n",
       "    }\n",
       "\n",
       "    .dataframe thead th {\n",
       "        text-align: right;\n",
       "    }\n",
       "</style>\n",
       "<table border=\"1\" class=\"dataframe\">\n",
       "  <thead>\n",
       "    <tr style=\"text-align: right;\">\n",
       "      <th></th>\n",
       "      <th>gene_id</th>\n",
       "      <th>gene_name</th>\n",
       "      <th>gene_type</th>\n",
       "    </tr>\n",
       "    <tr>\n",
       "      <th>gene_name</th>\n",
       "      <th></th>\n",
       "      <th></th>\n",
       "      <th></th>\n",
       "    </tr>\n",
       "  </thead>\n",
       "  <tbody>\n",
       "    <tr>\n",
       "      <th>TSPAN6</th>\n",
       "      <td>ENSG00000000003.10</td>\n",
       "      <td>TSPAN6</td>\n",
       "      <td>protein_coding</td>\n",
       "    </tr>\n",
       "    <tr>\n",
       "      <th>TNMD</th>\n",
       "      <td>ENSG00000000005.5</td>\n",
       "      <td>TNMD</td>\n",
       "      <td>protein_coding</td>\n",
       "    </tr>\n",
       "    <tr>\n",
       "      <th>DPM1</th>\n",
       "      <td>ENSG00000000419.8</td>\n",
       "      <td>DPM1</td>\n",
       "      <td>protein_coding</td>\n",
       "    </tr>\n",
       "    <tr>\n",
       "      <th>SCYL3</th>\n",
       "      <td>ENSG00000000457.9</td>\n",
       "      <td>SCYL3</td>\n",
       "      <td>protein_coding</td>\n",
       "    </tr>\n",
       "    <tr>\n",
       "      <th>C1orf112</th>\n",
       "      <td>ENSG00000000460.12</td>\n",
       "      <td>C1orf112</td>\n",
       "      <td>protein_coding</td>\n",
       "    </tr>\n",
       "    <tr>\n",
       "      <th>...</th>\n",
       "      <td>...</td>\n",
       "      <td>...</td>\n",
       "      <td>...</td>\n",
       "    </tr>\n",
       "    <tr>\n",
       "      <th>ERCC-00170</th>\n",
       "      <td>ERCC-00170</td>\n",
       "      <td>ERCC-00170</td>\n",
       "      <td>ERCC</td>\n",
       "    </tr>\n",
       "    <tr>\n",
       "      <th>ERCC-00171</th>\n",
       "      <td>ERCC-00171</td>\n",
       "      <td>ERCC-00171</td>\n",
       "      <td>ERCC</td>\n",
       "    </tr>\n",
       "    <tr>\n",
       "      <th>EC2</th>\n",
       "      <td>SPIKE1</td>\n",
       "      <td>EC2</td>\n",
       "      <td>SPIKE_IN</td>\n",
       "    </tr>\n",
       "    <tr>\n",
       "      <th>EC15</th>\n",
       "      <td>SPIKE2</td>\n",
       "      <td>EC15</td>\n",
       "      <td>SPIKE_IN</td>\n",
       "    </tr>\n",
       "    <tr>\n",
       "      <th>EC18</th>\n",
       "      <td>SPIKE3</td>\n",
       "      <td>EC18</td>\n",
       "      <td>SPIKE_IN</td>\n",
       "    </tr>\n",
       "  </tbody>\n",
       "</table>\n",
       "<p>57915 rows × 3 columns</p>\n",
       "</div>"
      ],
      "text/plain": [
       "                       gene_id   gene_name       gene_type\n",
       "gene_name                                                 \n",
       "TSPAN6      ENSG00000000003.10      TSPAN6  protein_coding\n",
       "TNMD         ENSG00000000005.5        TNMD  protein_coding\n",
       "DPM1         ENSG00000000419.8        DPM1  protein_coding\n",
       "SCYL3        ENSG00000000457.9       SCYL3  protein_coding\n",
       "C1orf112    ENSG00000000460.12    C1orf112  protein_coding\n",
       "...                        ...         ...             ...\n",
       "ERCC-00170          ERCC-00170  ERCC-00170            ERCC\n",
       "ERCC-00171          ERCC-00171  ERCC-00171            ERCC\n",
       "EC2                     SPIKE1         EC2        SPIKE_IN\n",
       "EC15                    SPIKE2        EC15        SPIKE_IN\n",
       "EC18                    SPIKE3        EC18        SPIKE_IN\n",
       "\n",
       "[57915 rows x 3 columns]"
      ]
     },
     "execution_count": 21,
     "metadata": {},
     "output_type": "execute_result"
    }
   ],
   "source": [
    "adata.var"
   ]
  },
  {
   "cell_type": "code",
   "execution_count": 22,
   "id": "ea9ca211-23c9-4f38-bbaa-c11e53ba799d",
   "metadata": {
    "colab": {
     "base_uri": "https://localhost:8080/",
     "height": 455
    },
    "id": "ea9ca211-23c9-4f38-bbaa-c11e53ba799d",
    "outputId": "aa4305e2-bc13-4a80-eed5-9c9056519ca0"
   },
   "outputs": [
    {
     "data": {
      "text/html": [
       "<div>\n",
       "<style scoped>\n",
       "    .dataframe tbody tr th:only-of-type {\n",
       "        vertical-align: middle;\n",
       "    }\n",
       "\n",
       "    .dataframe tbody tr th {\n",
       "        vertical-align: top;\n",
       "    }\n",
       "\n",
       "    .dataframe thead th {\n",
       "        text-align: right;\n",
       "    }\n",
       "</style>\n",
       "<table border=\"1\" class=\"dataframe\">\n",
       "  <thead>\n",
       "    <tr style=\"text-align: right;\">\n",
       "      <th></th>\n",
       "      <th>sample</th>\n",
       "      <th>type</th>\n",
       "      <th>is_tumor</th>\n",
       "      <th>system</th>\n",
       "      <th>cell_type</th>\n",
       "    </tr>\n",
       "    <tr>\n",
       "      <th>sample</th>\n",
       "      <th></th>\n",
       "      <th></th>\n",
       "      <th></th>\n",
       "      <th></th>\n",
       "      <th></th>\n",
       "    </tr>\n",
       "  </thead>\n",
       "  <tbody>\n",
       "    <tr>\n",
       "      <th>BC01_02</th>\n",
       "      <td>BC01_02</td>\n",
       "      <td>SC</td>\n",
       "      <td>Tumor</td>\n",
       "      <td>Tumor</td>\n",
       "      <td>Tumor</td>\n",
       "    </tr>\n",
       "    <tr>\n",
       "      <th>BC01_03</th>\n",
       "      <td>BC01_03</td>\n",
       "      <td>SC</td>\n",
       "      <td>Tumor</td>\n",
       "      <td>Tumor</td>\n",
       "      <td>Tumor</td>\n",
       "    </tr>\n",
       "    <tr>\n",
       "      <th>BC01_04</th>\n",
       "      <td>BC01_04</td>\n",
       "      <td>SC</td>\n",
       "      <td>Tumor</td>\n",
       "      <td>Tumor</td>\n",
       "      <td>Tumor</td>\n",
       "    </tr>\n",
       "    <tr>\n",
       "      <th>BC01_05</th>\n",
       "      <td>BC01_05</td>\n",
       "      <td>SC</td>\n",
       "      <td>Tumor</td>\n",
       "      <td>Tumor</td>\n",
       "      <td>Tumor</td>\n",
       "    </tr>\n",
       "    <tr>\n",
       "      <th>BC01_06</th>\n",
       "      <td>BC01_06</td>\n",
       "      <td>SC</td>\n",
       "      <td>Tumor</td>\n",
       "      <td>Tumor</td>\n",
       "      <td>Tumor</td>\n",
       "    </tr>\n",
       "    <tr>\n",
       "      <th>...</th>\n",
       "      <td>...</td>\n",
       "      <td>...</td>\n",
       "      <td>...</td>\n",
       "      <td>...</td>\n",
       "      <td>...</td>\n",
       "    </tr>\n",
       "    <tr>\n",
       "      <th>BC11_69</th>\n",
       "      <td>BC11_69</td>\n",
       "      <td>SC</td>\n",
       "      <td>Tumor</td>\n",
       "      <td>Tumor</td>\n",
       "      <td>Tumor</td>\n",
       "    </tr>\n",
       "    <tr>\n",
       "      <th>BC11_70</th>\n",
       "      <td>BC11_70</td>\n",
       "      <td>SC</td>\n",
       "      <td>Tumor</td>\n",
       "      <td>Tumor</td>\n",
       "      <td>Tumor</td>\n",
       "    </tr>\n",
       "    <tr>\n",
       "      <th>BC11_78</th>\n",
       "      <td>BC11_78</td>\n",
       "      <td>SC</td>\n",
       "      <td>Tumor</td>\n",
       "      <td>Tumor</td>\n",
       "      <td>Tumor</td>\n",
       "    </tr>\n",
       "    <tr>\n",
       "      <th>BC11_81</th>\n",
       "      <td>BC11_81</td>\n",
       "      <td>SC</td>\n",
       "      <td>Tumor</td>\n",
       "      <td>Tumor</td>\n",
       "      <td>Tumor</td>\n",
       "    </tr>\n",
       "    <tr>\n",
       "      <th>BC11_88</th>\n",
       "      <td>BC11_88</td>\n",
       "      <td>SC</td>\n",
       "      <td>Tumor</td>\n",
       "      <td>Tumor</td>\n",
       "      <td>Tumor</td>\n",
       "    </tr>\n",
       "  </tbody>\n",
       "</table>\n",
       "<p>549 rows × 5 columns</p>\n",
       "</div>"
      ],
      "text/plain": [
       "          sample type is_tumor system cell_type\n",
       "sample                                         \n",
       "BC01_02  BC01_02   SC    Tumor  Tumor     Tumor\n",
       "BC01_03  BC01_03   SC    Tumor  Tumor     Tumor\n",
       "BC01_04  BC01_04   SC    Tumor  Tumor     Tumor\n",
       "BC01_05  BC01_05   SC    Tumor  Tumor     Tumor\n",
       "BC01_06  BC01_06   SC    Tumor  Tumor     Tumor\n",
       "...          ...  ...      ...    ...       ...\n",
       "BC11_69  BC11_69   SC    Tumor  Tumor     Tumor\n",
       "BC11_70  BC11_70   SC    Tumor  Tumor     Tumor\n",
       "BC11_78  BC11_78   SC    Tumor  Tumor     Tumor\n",
       "BC11_81  BC11_81   SC    Tumor  Tumor     Tumor\n",
       "BC11_88  BC11_88   SC    Tumor  Tumor     Tumor\n",
       "\n",
       "[549 rows x 5 columns]"
      ]
     },
     "execution_count": 22,
     "metadata": {},
     "output_type": "execute_result"
    }
   ],
   "source": [
    "adata.obs"
   ]
  },
  {
   "cell_type": "markdown",
   "id": "10822a0d-c8c4-43f6-9ee1-ca2b379406b1",
   "metadata": {
    "id": "10822a0d-c8c4-43f6-9ee1-ca2b379406b1"
   },
   "source": [
    "# Preprocessing"
   ]
  },
  {
   "cell_type": "code",
   "execution_count": 23,
   "id": "7af0eba4-52aa-4d5d-870b-40c6ea1521c1",
   "metadata": {
    "colab": {
     "base_uri": "https://localhost:8080/",
     "height": 442
    },
    "id": "7af0eba4-52aa-4d5d-870b-40c6ea1521c1",
    "outputId": "21de8aca-18d0-4285-b0e1-1aa92d570431"
   },
   "outputs": [
    {
     "name": "stdout",
     "output_type": "stream",
     "text": [
      "normalizing counts per cell\n",
      "    finished (0:00:00)\n"
     ]
    },
    {
     "data": {
      "image/png": "[encoded data removed]",
      "text/plain": [
       "<Figure size 400x440 with 1 Axes>"
      ]
     },
     "metadata": {
      "image/png": {
       "height": 391,
       "width": 424
      }
     },
     "output_type": "display_data"
    }
   ],
   "source": [
    "sc.pl.highest_expr_genes(adata, n_top=20, )"
   ]
  },
  {
   "cell_type": "code",
   "execution_count": 24,
   "id": "ab51fb8f-5b03-4a5d-8713-091f99778529",
   "metadata": {
    "colab": {
     "base_uri": "https://localhost:8080/"
    },
    "id": "ab51fb8f-5b03-4a5d-8713-091f99778529",
    "outputId": "e6285c12-59d6-4cf4-d895-9f9af88d719e"
   },
   "outputs": [
    {
     "name": "stdout",
     "output_type": "stream",
     "text": [
      "filtered out 29881 genes that are detected in less than 3 cells\n"
     ]
    }
   ],
   "source": [
    "# Filtering\n",
    "sc.pp.filter_cells(adata, min_genes=200)\n",
    "sc.pp.filter_genes(adata, min_cells=3)"
   ]
  },
  {
   "cell_type": "code",
   "execution_count": 25,
   "id": "506031f1-ddbb-49aa-8a85-00c4d93846d2",
   "metadata": {
    "id": "506031f1-ddbb-49aa-8a85-00c4d93846d2"
   },
   "outputs": [],
   "source": [
    "# QC metrics\n",
    "adata.var['mt'] = adata.var_names.str.startswith('MT-')  # annotate the group of mitochondrial genes as 'mt'\n",
    "sc.pp.calculate_qc_metrics(adata, qc_vars=['mt'], percent_top=None, log1p=False, inplace=True)"
   ]
  },
  {
   "cell_type": "code",
   "execution_count": 26,
   "id": "bc0dedcc-9e7f-4eef-8035-01f4ce0d5bd0",
   "metadata": {
    "colab": {
     "base_uri": "https://localhost:8080/",
     "height": 730
    },
    "id": "bc0dedcc-9e7f-4eef-8035-01f4ce0d5bd0",
    "outputId": "3ca07b7f-e1ec-429d-9b11-4cd67792495c",
    "scrolled": true
   },
   "outputs": [
    {
     "name": "stderr",
     "output_type": "stream",
     "text": [
      "/mnt/wsl/PhysicalDrive6/projects/ppcic/scrnaseq/venv/lib/python3.10/site-packages/anndata/_core/anndata.py:1228: FutureWarning: The `inplace` parameter in pandas.Categorical.reorder_categories is deprecated and will be removed in a future version. Reordering categories will always return a new Categorical object.\n",
      "  c.reorder_categories(natsorted(c.categories), inplace=True)\n",
      "... storing 'type' as categorical\n",
      "/mnt/wsl/PhysicalDrive6/projects/ppcic/scrnaseq/venv/lib/python3.10/site-packages/anndata/_core/anndata.py:1228: FutureWarning: The `inplace` parameter in pandas.Categorical.reorder_categories is deprecated and will be removed in a future version. Reordering categories will always return a new Categorical object.\n",
      "  c.reorder_categories(natsorted(c.categories), inplace=True)\n",
      "... storing 'is_tumor' as categorical\n",
      "/mnt/wsl/PhysicalDrive6/projects/ppcic/scrnaseq/venv/lib/python3.10/site-packages/anndata/_core/anndata.py:1228: FutureWarning: The `inplace` parameter in pandas.Categorical.reorder_categories is deprecated and will be removed in a future version. Reordering categories will always return a new Categorical object.\n",
      "  c.reorder_categories(natsorted(c.categories), inplace=True)\n",
      "... storing 'system' as categorical\n",
      "/mnt/wsl/PhysicalDrive6/projects/ppcic/scrnaseq/venv/lib/python3.10/site-packages/anndata/_core/anndata.py:1228: FutureWarning: The `inplace` parameter in pandas.Categorical.reorder_categories is deprecated and will be removed in a future version. Reordering categories will always return a new Categorical object.\n",
      "  c.reorder_categories(natsorted(c.categories), inplace=True)\n",
      "... storing 'cell_type' as categorical\n",
      "/mnt/wsl/PhysicalDrive6/projects/ppcic/scrnaseq/venv/lib/python3.10/site-packages/anndata/_core/anndata.py:1228: FutureWarning: The `inplace` parameter in pandas.Categorical.reorder_categories is deprecated and will be removed in a future version. Reordering categories will always return a new Categorical object.\n",
      "  c.reorder_categories(natsorted(c.categories), inplace=True)\n",
      "... storing 'gene_name' as categorical\n",
      "/mnt/wsl/PhysicalDrive6/projects/ppcic/scrnaseq/venv/lib/python3.10/site-packages/anndata/_core/anndata.py:1228: FutureWarning: The `inplace` parameter in pandas.Categorical.reorder_categories is deprecated and will be removed in a future version. Reordering categories will always return a new Categorical object.\n",
      "  c.reorder_categories(natsorted(c.categories), inplace=True)\n",
      "... storing 'gene_type' as categorical\n"
     ]
    },
    {
     "data": {
      "image/png": "[encoded data removed]",
      "text/plain": [
       "<Figure size 1200x400 with 3 Axes>"
      ]
     },
     "metadata": {
      "image/png": {
       "height": 381,
       "width": 1182
      }
     },
     "output_type": "display_data"
    }
   ],
   "source": [
    "sc.pl.violin(adata, ['n_genes_by_counts', 'total_counts', 'pct_counts_mt'],\n",
    "             jitter=0.4, multi_panel=True)"
   ]
  },
  {
   "cell_type": "code",
   "execution_count": 27,
   "id": "8ec42009",
   "metadata": {
    "colab": {
     "base_uri": "https://localhost:8080/",
     "height": 617
    },
    "id": "8ec42009",
    "outputId": "7767d97d-b936-42d2-8e31-2f35fd137172"
   },
   "outputs": [
    {
     "data": {
      "image/png": "[encoded data removed]",
      "text/plain": [
       "<Figure size 327.28x320 with 1 Axes>"
      ]
     },
     "metadata": {
      "image/png": {
       "height": 300,
       "width": 299
      }
     },
     "output_type": "display_data"
    },
    {
     "data": {
      "image/png": "[encoded data removed]",
      "text/plain": [
       "<Figure size 327.28x320 with 1 Axes>"
      ]
     },
     "metadata": {
      "image/png": {
       "height": 300,
       "width": 329
      }
     },
     "output_type": "display_data"
    }
   ],
   "source": [
    "sc.pl.scatter(adata, x='total_counts', y='pct_counts_mt')\n",
    "sc.pl.scatter(adata, x='total_counts', y='n_genes_by_counts')"
   ]
  },
  {
   "cell_type": "code",
   "execution_count": 28,
   "id": "c9eebfab",
   "metadata": {
    "id": "c9eebfab"
   },
   "outputs": [],
   "source": [
    "adata = adata[adata.obs.n_genes_by_counts < 2500, :]\n",
    "adata = adata[adata.obs.pct_counts_mt < 5, :]"
   ]
  },
  {
   "cell_type": "code",
   "execution_count": 29,
   "id": "ee4395c8",
   "metadata": {
    "colab": {
     "base_uri": "https://localhost:8080/"
    },
    "id": "ee4395c8",
    "outputId": "bbd76c64-b5a0-4dfb-c8c2-a7c95aeb4a33"
   },
   "outputs": [
    {
     "name": "stdout",
     "output_type": "stream",
     "text": [
      "normalizing counts per cell\n",
      "    finished (0:00:00)\n"
     ]
    },
    {
     "name": "stderr",
     "output_type": "stream",
     "text": [
      "/mnt/wsl/PhysicalDrive6/projects/ppcic/scrnaseq/venv/lib/python3.10/site-packages/scanpy/preprocessing/_normalization.py:170: UserWarning: Received a view of an AnnData. Making a copy.\n",
      "  view_to_actual(adata)\n"
     ]
    }
   ],
   "source": [
    "sc.pp.normalize_total(adata, target_sum=1e4)"
   ]
  },
  {
   "cell_type": "code",
   "execution_count": 30,
   "id": "d14a8fe1",
   "metadata": {
    "id": "d14a8fe1"
   },
   "outputs": [],
   "source": [
    "sc.pp.log1p(adata)"
   ]
  },
  {
   "cell_type": "code",
   "execution_count": 31,
   "id": "58cd82d6",
   "metadata": {
    "colab": {
     "base_uri": "https://localhost:8080/"
    },
    "id": "58cd82d6",
    "outputId": "869d5506-f0d1-4eca-886a-2aa2247cc457"
   },
   "outputs": [
    {
     "name": "stdout",
     "output_type": "stream",
     "text": [
      "extracting highly variable genes\n",
      "    finished (0:00:00)\n",
      "--> added\n",
      "    'highly_variable', boolean vector (adata.var)\n",
      "    'means', float vector (adata.var)\n",
      "    'dispersions', float vector (adata.var)\n",
      "    'dispersions_norm', float vector (adata.var)\n"
     ]
    }
   ],
   "source": [
    "sc.pp.highly_variable_genes(adata, min_mean=0.0125, max_mean=3, min_disp=0.5)"
   ]
  },
  {
   "cell_type": "code",
   "execution_count": 32,
   "id": "3ed103ab-6fb9-4968-a22f-1cbfb883a2d0",
   "metadata": {
    "colab": {
     "base_uri": "https://localhost:8080/",
     "height": 342
    },
    "id": "3ed103ab-6fb9-4968-a22f-1cbfb883a2d0",
    "outputId": "a386fcec-f504-4fa0-db35-cb5ce149a451"
   },
   "outputs": [
    {
     "data": {
      "image/png": "[encoded data removed]",
      "text/plain": [
       "<Figure size 640x320 with 2 Axes>"
      ]
     },
     "metadata": {
      "image/png": {
       "height": 325,
       "width": 564
      }
     },
     "output_type": "display_data"
    }
   ],
   "source": [
    "sc.pl.highly_variable_genes(adata)"
   ]
  },
  {
   "cell_type": "code",
   "execution_count": 33,
   "id": "0783271b-d74f-4ff4-9fab-f0588aa81709",
   "metadata": {
    "id": "0783271b-d74f-4ff4-9fab-f0588aa81709"
   },
   "outputs": [],
   "source": [
    "adata.raw = adata"
   ]
  },
  {
   "cell_type": "code",
   "execution_count": 34,
   "id": "be4ef593-f512-416c-91ce-0bfd23fa88d7",
   "metadata": {
    "id": "be4ef593-f512-416c-91ce-0bfd23fa88d7"
   },
   "outputs": [],
   "source": [
    "adata = adata[:, adata.var.highly_variable]"
   ]
  },
  {
   "cell_type": "code",
   "execution_count": 35,
   "id": "4d6a11f2-89f6-407f-99f6-71f9f40bdc65",
   "metadata": {
    "colab": {
     "base_uri": "https://localhost:8080/"
    },
    "id": "4d6a11f2-89f6-407f-99f6-71f9f40bdc65",
    "outputId": "94c9c90a-5cfb-453c-cf7c-b49af603c249"
   },
   "outputs": [
    {
     "name": "stdout",
     "output_type": "stream",
     "text": [
      "regressing out ['total_counts', 'pct_counts_mt']\n",
      "    finished (0:00:02)\n"
     ]
    }
   ],
   "source": [
    "sc.pp.regress_out(adata, ['total_counts', 'pct_counts_mt'])"
   ]
  },
  {
   "cell_type": "code",
   "execution_count": 36,
   "id": "519ef8ff-93a4-4ef4-8351-95d75ae0fa73",
   "metadata": {
    "id": "519ef8ff-93a4-4ef4-8351-95d75ae0fa73"
   },
   "outputs": [],
   "source": [
    "sc.pp.scale(adata, max_value=10)"
   ]
  },
  {
   "cell_type": "code",
   "execution_count": 37,
   "id": "EsMF8c7Chb_W",
   "metadata": {
    "colab": {
     "base_uri": "https://localhost:8080/"
    },
    "id": "EsMF8c7Chb_W",
    "outputId": "b93b93e2-a191-4702-bad6-aebe6427fc69"
   },
   "outputs": [
    {
     "data": {
      "text/plain": [
       "['T',\n",
       " 'X',\n",
       " '_BACKED_ATTRS',\n",
       " '_H5_ALIASES',\n",
       " '_H5_ALIASES_NAMES',\n",
       " '_X',\n",
       " '__class__',\n",
       " '__contains__',\n",
       " '__delattr__',\n",
       " '__delitem__',\n",
       " '__dict__',\n",
       " '__dir__',\n",
       " '__doc__',\n",
       " '__eq__',\n",
       " '__format__',\n",
       " '__ge__',\n",
       " '__getattribute__',\n",
       " '__getitem__',\n",
       " '__gt__',\n",
       " '__hash__',\n",
       " '__init__',\n",
       " '__init_subclass__',\n",
       " '__le__',\n",
       " '__len__',\n",
       " '__lt__',\n",
       " '__module__',\n",
       " '__ne__',\n",
       " '__new__',\n",
       " '__reduce__',\n",
       " '__reduce_ex__',\n",
       " '__repr__',\n",
       " '__setattr__',\n",
       " '__setitem__',\n",
       " '__sizeof__',\n",
       " '__str__',\n",
       " '__subclasshook__',\n",
       " '__weakref__',\n",
       " '_adata_ref',\n",
       " '_check_dimensions',\n",
       " '_check_uniqueness',\n",
       " '_clean_up_old_format',\n",
       " '_gen_repr',\n",
       " '_get_X',\n",
       " '_get_and_delete_multicol_field',\n",
       " '_get_obs_array',\n",
       " '_get_var_array',\n",
       " '_init_as_actual',\n",
       " '_init_as_view',\n",
       " '_inplace_subset_obs',\n",
       " '_inplace_subset_var',\n",
       " '_is_view',\n",
       " '_layers',\n",
       " '_mutated_copy',\n",
       " '_n_obs',\n",
       " '_n_vars',\n",
       " '_normalize_indices',\n",
       " '_obs',\n",
       " '_obsm',\n",
       " '_obsp',\n",
       " '_oidx',\n",
       " '_prep_dim_index',\n",
       " '_raw',\n",
       " '_remove_unused_categories',\n",
       " '_sanitize',\n",
       " '_set_backed',\n",
       " '_set_dim_df',\n",
       " '_set_dim_index',\n",
       " '_uns',\n",
       " '_var',\n",
       " '_varm',\n",
       " '_varp',\n",
       " '_vidx',\n",
       " 'chunk_X',\n",
       " 'chunked_X',\n",
       " 'concatenate',\n",
       " 'copy',\n",
       " 'file',\n",
       " 'filename',\n",
       " 'is_view',\n",
       " 'isbacked',\n",
       " 'isview',\n",
       " 'layers',\n",
       " 'n_obs',\n",
       " 'n_vars',\n",
       " 'obs',\n",
       " 'obs_keys',\n",
       " 'obs_names',\n",
       " 'obs_names_make_unique',\n",
       " 'obs_vector',\n",
       " 'obsm',\n",
       " 'obsm_keys',\n",
       " 'obsp',\n",
       " 'raw',\n",
       " 'rename_categories',\n",
       " 'shape',\n",
       " 'strings_to_categoricals',\n",
       " 'to_df',\n",
       " 'to_memory',\n",
       " 'transpose',\n",
       " 'uns',\n",
       " 'uns_keys',\n",
       " 'var',\n",
       " 'var_keys',\n",
       " 'var_names',\n",
       " 'var_names_make_unique',\n",
       " 'var_vector',\n",
       " 'varm',\n",
       " 'varm_keys',\n",
       " 'varp',\n",
       " 'write',\n",
       " 'write_csvs',\n",
       " 'write_h5ad',\n",
       " 'write_loom',\n",
       " 'write_zarr']"
      ]
     },
     "execution_count": 37,
     "metadata": {},
     "output_type": "execute_result"
    }
   ],
   "source": [
    "dir(adata)"
   ]
  },
  {
   "cell_type": "code",
   "execution_count": 38,
   "id": "EjHFQzNpiUH9",
   "metadata": {
    "colab": {
     "base_uri": "https://localhost:8080/",
     "height": 658
    },
    "id": "EjHFQzNpiUH9",
    "outputId": "91d611b1-b43d-473c-94ed-a18a48dcf99d"
   },
   "outputs": [
    {
     "data": {
      "text/html": [
       "<div>\n",
       "<style scoped>\n",
       "    .dataframe tbody tr th:only-of-type {\n",
       "        vertical-align: middle;\n",
       "    }\n",
       "\n",
       "    .dataframe tbody tr th {\n",
       "        vertical-align: top;\n",
       "    }\n",
       "\n",
       "    .dataframe thead th {\n",
       "        text-align: right;\n",
       "    }\n",
       "</style>\n",
       "<table border=\"1\" class=\"dataframe\">\n",
       "  <thead>\n",
       "    <tr style=\"text-align: right;\">\n",
       "      <th></th>\n",
       "      <th>gene_id</th>\n",
       "      <th>gene_name</th>\n",
       "      <th>gene_type</th>\n",
       "      <th>n_cells</th>\n",
       "      <th>mt</th>\n",
       "      <th>n_cells_by_counts</th>\n",
       "      <th>mean_counts</th>\n",
       "      <th>pct_dropout_by_counts</th>\n",
       "      <th>total_counts</th>\n",
       "      <th>highly_variable</th>\n",
       "      <th>means</th>\n",
       "      <th>dispersions</th>\n",
       "      <th>dispersions_norm</th>\n",
       "      <th>mean</th>\n",
       "      <th>std</th>\n",
       "    </tr>\n",
       "    <tr>\n",
       "      <th>gene_name</th>\n",
       "      <th></th>\n",
       "      <th></th>\n",
       "      <th></th>\n",
       "      <th></th>\n",
       "      <th></th>\n",
       "      <th></th>\n",
       "      <th></th>\n",
       "      <th></th>\n",
       "      <th></th>\n",
       "      <th></th>\n",
       "      <th></th>\n",
       "      <th></th>\n",
       "      <th></th>\n",
       "      <th></th>\n",
       "      <th></th>\n",
       "    </tr>\n",
       "  </thead>\n",
       "  <tbody>\n",
       "    <tr>\n",
       "      <th>LAS1L</th>\n",
       "      <td>ENSG00000001497.12</td>\n",
       "      <td>LAS1L</td>\n",
       "      <td>protein_coding</td>\n",
       "      <td>250</td>\n",
       "      <td>False</td>\n",
       "      <td>250</td>\n",
       "      <td>14.991441</td>\n",
       "      <td>54.462659</td>\n",
       "      <td>8230.300781</td>\n",
       "      <td>True</td>\n",
       "      <td>0.014018</td>\n",
       "      <td>-2.468629</td>\n",
       "      <td>0.778202</td>\n",
       "      <td>-1.940255e-10</td>\n",
       "      <td>0.020016</td>\n",
       "    </tr>\n",
       "    <tr>\n",
       "      <th>LAP3</th>\n",
       "      <td>ENSG00000002549.8</td>\n",
       "      <td>LAP3</td>\n",
       "      <td>protein_coding</td>\n",
       "      <td>410</td>\n",
       "      <td>False</td>\n",
       "      <td>410</td>\n",
       "      <td>92.391418</td>\n",
       "      <td>25.318761</td>\n",
       "      <td>50722.890625</td>\n",
       "      <td>True</td>\n",
       "      <td>0.196546</td>\n",
       "      <td>-1.606385</td>\n",
       "      <td>1.166228</td>\n",
       "      <td>1.050163e-09</td>\n",
       "      <td>0.123848</td>\n",
       "    </tr>\n",
       "    <tr>\n",
       "      <th>HS3ST1</th>\n",
       "      <td>ENSG00000002587.5</td>\n",
       "      <td>HS3ST1</td>\n",
       "      <td>protein_coding</td>\n",
       "      <td>52</td>\n",
       "      <td>False</td>\n",
       "      <td>52</td>\n",
       "      <td>0.502331</td>\n",
       "      <td>90.528233</td>\n",
       "      <td>275.779999</td>\n",
       "      <td>True</td>\n",
       "      <td>0.037497</td>\n",
       "      <td>-1.472937</td>\n",
       "      <td>1.226282</td>\n",
       "      <td>-8.246085e-11</td>\n",
       "      <td>0.006585</td>\n",
       "    </tr>\n",
       "    <tr>\n",
       "      <th>RBM5</th>\n",
       "      <td>ENSG00000003756.12</td>\n",
       "      <td>RBM5</td>\n",
       "      <td>protein_coding</td>\n",
       "      <td>423</td>\n",
       "      <td>False</td>\n",
       "      <td>423</td>\n",
       "      <td>106.024315</td>\n",
       "      <td>22.950820</td>\n",
       "      <td>58207.347656</td>\n",
       "      <td>True</td>\n",
       "      <td>0.018194</td>\n",
       "      <td>-2.262711</td>\n",
       "      <td>0.870869</td>\n",
       "      <td>-4.268562e-10</td>\n",
       "      <td>0.035337</td>\n",
       "    </tr>\n",
       "    <tr>\n",
       "      <th>FKBP4</th>\n",
       "      <td>ENSG00000004478.5</td>\n",
       "      <td>FKBP4</td>\n",
       "      <td>protein_coding</td>\n",
       "      <td>370</td>\n",
       "      <td>False</td>\n",
       "      <td>370</td>\n",
       "      <td>40.346989</td>\n",
       "      <td>32.604736</td>\n",
       "      <td>22150.496094</td>\n",
       "      <td>True</td>\n",
       "      <td>0.024416</td>\n",
       "      <td>-1.908518</td>\n",
       "      <td>1.030262</td>\n",
       "      <td>5.432715e-10</td>\n",
       "      <td>0.054393</td>\n",
       "    </tr>\n",
       "    <tr>\n",
       "      <th>...</th>\n",
       "      <td>...</td>\n",
       "      <td>...</td>\n",
       "      <td>...</td>\n",
       "      <td>...</td>\n",
       "      <td>...</td>\n",
       "      <td>...</td>\n",
       "      <td>...</td>\n",
       "      <td>...</td>\n",
       "      <td>...</td>\n",
       "      <td>...</td>\n",
       "      <td>...</td>\n",
       "      <td>...</td>\n",
       "      <td>...</td>\n",
       "      <td>...</td>\n",
       "      <td>...</td>\n",
       "    </tr>\n",
       "    <tr>\n",
       "      <th>RP11-500M8.7</th>\n",
       "      <td>ENSG00000272921.1</td>\n",
       "      <td>RP11-500M8.7</td>\n",
       "      <td>protein_coding</td>\n",
       "      <td>300</td>\n",
       "      <td>False</td>\n",
       "      <td>300</td>\n",
       "      <td>29.196821</td>\n",
       "      <td>45.355191</td>\n",
       "      <td>16029.054688</td>\n",
       "      <td>True</td>\n",
       "      <td>0.135840</td>\n",
       "      <td>-0.135828</td>\n",
       "      <td>1.828007</td>\n",
       "      <td>3.104409e-10</td>\n",
       "      <td>0.215645</td>\n",
       "    </tr>\n",
       "    <tr>\n",
       "      <th>CTD-2303H24.2</th>\n",
       "      <td>ENSG00000273018.1</td>\n",
       "      <td>CTD-2303H24.2</td>\n",
       "      <td>processed_transcript</td>\n",
       "      <td>94</td>\n",
       "      <td>False</td>\n",
       "      <td>94</td>\n",
       "      <td>7.688853</td>\n",
       "      <td>82.877960</td>\n",
       "      <td>4221.180176</td>\n",
       "      <td>True</td>\n",
       "      <td>0.015423</td>\n",
       "      <td>-2.372443</td>\n",
       "      <td>0.821487</td>\n",
       "      <td>3.880511e-10</td>\n",
       "      <td>0.030638</td>\n",
       "    </tr>\n",
       "    <tr>\n",
       "      <th>RP11-290D2.6</th>\n",
       "      <td>ENSG00000273149.1</td>\n",
       "      <td>RP11-290D2.6</td>\n",
       "      <td>antisense</td>\n",
       "      <td>55</td>\n",
       "      <td>False</td>\n",
       "      <td>55</td>\n",
       "      <td>1.263406</td>\n",
       "      <td>89.981785</td>\n",
       "      <td>693.609985</td>\n",
       "      <td>True</td>\n",
       "      <td>0.061059</td>\n",
       "      <td>-0.973476</td>\n",
       "      <td>1.451049</td>\n",
       "      <td>-9.701277e-11</td>\n",
       "      <td>0.010224</td>\n",
       "    </tr>\n",
       "    <tr>\n",
       "      <th>RP11-138A9.2</th>\n",
       "      <td>ENSG00000273319.1</td>\n",
       "      <td>RP11-138A9.2</td>\n",
       "      <td>lincRNA</td>\n",
       "      <td>512</td>\n",
       "      <td>False</td>\n",
       "      <td>512</td>\n",
       "      <td>443.062164</td>\n",
       "      <td>6.739526</td>\n",
       "      <td>243241.125000</td>\n",
       "      <td>True</td>\n",
       "      <td>0.203142</td>\n",
       "      <td>0.265363</td>\n",
       "      <td>2.008551</td>\n",
       "      <td>3.414849e-09</td>\n",
       "      <td>0.290065</td>\n",
       "    </tr>\n",
       "    <tr>\n",
       "      <th>RP11-386I14.4</th>\n",
       "      <td>ENSG00000273338.1</td>\n",
       "      <td>RP11-386I14.4</td>\n",
       "      <td>antisense</td>\n",
       "      <td>145</td>\n",
       "      <td>False</td>\n",
       "      <td>145</td>\n",
       "      <td>119.064400</td>\n",
       "      <td>73.588342</td>\n",
       "      <td>65366.355469</td>\n",
       "      <td>True</td>\n",
       "      <td>0.652005</td>\n",
       "      <td>1.707710</td>\n",
       "      <td>0.688708</td>\n",
       "      <td>0.000000e+00</td>\n",
       "      <td>0.644082</td>\n",
       "    </tr>\n",
       "  </tbody>\n",
       "</table>\n",
       "<p>1607 rows × 15 columns</p>\n",
       "</div>"
      ],
      "text/plain": [
       "                          gene_id      gene_name             gene_type  \\\n",
       "gene_name                                                                \n",
       "LAS1L          ENSG00000001497.12          LAS1L        protein_coding   \n",
       "LAP3            ENSG00000002549.8           LAP3        protein_coding   \n",
       "HS3ST1          ENSG00000002587.5         HS3ST1        protein_coding   \n",
       "RBM5           ENSG00000003756.12           RBM5        protein_coding   \n",
       "FKBP4           ENSG00000004478.5          FKBP4        protein_coding   \n",
       "...                           ...            ...                   ...   \n",
       "RP11-500M8.7    ENSG00000272921.1   RP11-500M8.7        protein_coding   \n",
       "CTD-2303H24.2   ENSG00000273018.1  CTD-2303H24.2  processed_transcript   \n",
       "RP11-290D2.6    ENSG00000273149.1   RP11-290D2.6             antisense   \n",
       "RP11-138A9.2    ENSG00000273319.1   RP11-138A9.2               lincRNA   \n",
       "RP11-386I14.4   ENSG00000273338.1  RP11-386I14.4             antisense   \n",
       "\n",
       "               n_cells     mt  n_cells_by_counts  mean_counts  \\\n",
       "gene_name                                                       \n",
       "LAS1L              250  False                250    14.991441   \n",
       "LAP3               410  False                410    92.391418   \n",
       "HS3ST1              52  False                 52     0.502331   \n",
       "RBM5               423  False                423   106.024315   \n",
       "FKBP4              370  False                370    40.346989   \n",
       "...                ...    ...                ...          ...   \n",
       "RP11-500M8.7       300  False                300    29.196821   \n",
       "CTD-2303H24.2       94  False                 94     7.688853   \n",
       "RP11-290D2.6        55  False                 55     1.263406   \n",
       "RP11-138A9.2       512  False                512   443.062164   \n",
       "RP11-386I14.4      145  False                145   119.064400   \n",
       "\n",
       "               pct_dropout_by_counts   total_counts  highly_variable  \\\n",
       "gene_name                                                              \n",
       "LAS1L                      54.462659    8230.300781             True   \n",
       "LAP3                       25.318761   50722.890625             True   \n",
       "HS3ST1                     90.528233     275.779999             True   \n",
       "RBM5                       22.950820   58207.347656             True   \n",
       "FKBP4                      32.604736   22150.496094             True   \n",
       "...                              ...            ...              ...   \n",
       "RP11-500M8.7               45.355191   16029.054688             True   \n",
       "CTD-2303H24.2              82.877960    4221.180176             True   \n",
       "RP11-290D2.6               89.981785     693.609985             True   \n",
       "RP11-138A9.2                6.739526  243241.125000             True   \n",
       "RP11-386I14.4              73.588342   65366.355469             True   \n",
       "\n",
       "                  means  dispersions  dispersions_norm          mean       std  \n",
       "gene_name                                                                       \n",
       "LAS1L          0.014018    -2.468629          0.778202 -1.940255e-10  0.020016  \n",
       "LAP3           0.196546    -1.606385          1.166228  1.050163e-09  0.123848  \n",
       "HS3ST1         0.037497    -1.472937          1.226282 -8.246085e-11  0.006585  \n",
       "RBM5           0.018194    -2.262711          0.870869 -4.268562e-10  0.035337  \n",
       "FKBP4          0.024416    -1.908518          1.030262  5.432715e-10  0.054393  \n",
       "...                 ...          ...               ...           ...       ...  \n",
       "RP11-500M8.7   0.135840    -0.135828          1.828007  3.104409e-10  0.215645  \n",
       "CTD-2303H24.2  0.015423    -2.372443          0.821487  3.880511e-10  0.030638  \n",
       "RP11-290D2.6   0.061059    -0.973476          1.451049 -9.701277e-11  0.010224  \n",
       "RP11-138A9.2   0.203142     0.265363          2.008551  3.414849e-09  0.290065  \n",
       "RP11-386I14.4  0.652005     1.707710          0.688708  0.000000e+00  0.644082  \n",
       "\n",
       "[1607 rows x 15 columns]"
      ]
     },
     "execution_count": 38,
     "metadata": {},
     "output_type": "execute_result"
    }
   ],
   "source": [
    "adata.T.obs"
   ]
  },
  {
   "cell_type": "code",
   "execution_count": 39,
   "id": "wNREvyPTgUuF",
   "metadata": {
    "colab": {
     "base_uri": "https://localhost:8080/"
    },
    "id": "wNREvyPTgUuF",
    "outputId": "e6d101a4-f646-4874-b442-31cc4cef1a85"
   },
   "outputs": [
    {
     "data": {
      "text/plain": [
       "numpy.ndarray"
      ]
     },
     "execution_count": 39,
     "metadata": {},
     "output_type": "execute_result"
    }
   ],
   "source": [
    "type(adata.X)"
   ]
  },
  {
   "cell_type": "code",
   "execution_count": 40,
   "id": "trU8_6ENhHqs",
   "metadata": {
    "colab": {
     "base_uri": "https://localhost:8080/"
    },
    "id": "trU8_6ENhHqs",
    "outputId": "eb174634-83cb-4aa3-cc61-b44a1c3bab64"
   },
   "outputs": [
    {
     "data": {
      "text/plain": [
       "-1.9265158"
      ]
     },
     "execution_count": 40,
     "metadata": {},
     "output_type": "execute_result"
    }
   ],
   "source": [
    "np.min(adata.X)"
   ]
  },
  {
   "cell_type": "code",
   "execution_count": 41,
   "id": "eydM-2_fhP_o",
   "metadata": {
    "colab": {
     "base_uri": "https://localhost:8080/"
    },
    "id": "eydM-2_fhP_o",
    "outputId": "036a1d13-88ba-4e2b-ecf5-2ad5da38f4f3"
   },
   "outputs": [
    {
     "data": {
      "text/plain": [
       "1.9667239"
      ]
     },
     "execution_count": 41,
     "metadata": {},
     "output_type": "execute_result"
    }
   ],
   "source": [
    "np.max(adata.X)"
   ]
  },
  {
   "cell_type": "markdown",
   "id": "e5465e3d-9fc2-4fac-a99d-8d3184bfeb22",
   "metadata": {
    "id": "e5465e3d-9fc2-4fac-a99d-8d3184bfeb22"
   },
   "source": [
    "## PCA"
   ]
  },
  {
   "cell_type": "code",
   "execution_count": 42,
   "id": "13f9f1db-41cb-48f2-8fe6-b1dcb15f6b76",
   "metadata": {
    "colab": {
     "base_uri": "https://localhost:8080/"
    },
    "id": "13f9f1db-41cb-48f2-8fe6-b1dcb15f6b76",
    "outputId": "778ac1b0-a1ea-450d-856c-47a9a5adfd14"
   },
   "outputs": [
    {
     "name": "stdout",
     "output_type": "stream",
     "text": [
      "computing PCA\n",
      "    on highly variable genes\n",
      "    with n_comps=5\n",
      "    finished (0:00:00)\n"
     ]
    }
   ],
   "source": [
    "sc.tl.pca(adata, svd_solver='arpack')"
   ]
  },
  {
   "cell_type": "code",
   "execution_count": 43,
   "id": "93f9cd67-47b2-422f-970e-121d3db7467f",
   "metadata": {
    "colab": {
     "base_uri": "https://localhost:8080/",
     "height": 313
    },
    "id": "93f9cd67-47b2-422f-970e-121d3db7467f",
    "outputId": "82f2542e-3a26-4e96-c4ea-951cad9015ea"
   },
   "outputs": [
    {
     "data": {
      "image/png": "[encoded data removed]",
      "text/plain": [
       "<Figure size 320x320 with 2 Axes>"
      ]
     },
     "metadata": {
      "image/png": {
       "height": 296,
       "width": 305
      }
     },
     "output_type": "display_data"
    }
   ],
   "source": [
    "sc.pl.pca(adata, color='CST3')"
   ]
  },
  {
   "cell_type": "code",
   "execution_count": 44,
   "id": "a823932b-6adc-40cc-b850-b2d3bb07a58d",
   "metadata": {
    "colab": {
     "base_uri": "https://localhost:8080/",
     "height": 338
    },
    "id": "a823932b-6adc-40cc-b850-b2d3bb07a58d",
    "outputId": "57966016-9146-49df-cc3c-ffc384eb71ca"
   },
   "outputs": [
    {
     "data": {
      "image/png": "[encoded data removed]",
      "text/plain": [
       "<Figure size 320x320 with 1 Axes>"
      ]
     },
     "metadata": {
      "image/png": {
       "height": 321,
       "width": 304
      }
     },
     "output_type": "display_data"
    }
   ],
   "source": [
    "# TODO - This is where the error occurs\n",
    "sc.pl.pca_variance_ratio(adata, log=False)"
   ]
  },
  {
   "cell_type": "code",
   "execution_count": 45,
   "id": "6VDk4gfxkHYf",
   "metadata": {
    "colab": {
     "base_uri": "https://localhost:8080/",
     "height": 35
    },
    "id": "6VDk4gfxkHYf",
    "outputId": "041f3b1c-7a07-4408-8a7c-6073a08851a7"
   },
   "outputs": [
    {
     "data": {
      "text/plain": [
       "'write/gse75688.h5ad'"
      ]
     },
     "execution_count": 45,
     "metadata": {},
     "output_type": "execute_result"
    }
   ],
   "source": [
    "results_file"
   ]
  },
  {
   "cell_type": "code",
   "execution_count": 46,
   "id": "216305ff-d2e8-40f7-bda7-0252124eeec8",
   "metadata": {
    "colab": {
     "base_uri": "https://localhost:8080/",
     "height": 918
    },
    "id": "216305ff-d2e8-40f7-bda7-0252124eeec8",
    "outputId": "b1aec5cd-9dba-43a5-a807-a0814d944b02"
   },
   "outputs": [
    {
     "ename": "ValueError",
     "evalue": "Unable to create dataset (name already exists)\n\nAbove error raised while writing key 'gene_name' of <class 'h5py._hl.group.Group'> from /.\n\nAbove error raised while writing key 'gene_name' of <class 'h5py._hl.group.Group'> from /.\n\nAbove error raised while writing key 'raw/var' of <class 'h5py._hl.files.File'> from /.",
     "output_type": "error",
     "traceback": [
      "\u001b[0;31m---------------------------------------------------------------------------\u001b[0m",
      "\u001b[0;31mValueError\u001b[0m                                Traceback (most recent call last)",
      "File \u001b[0;32m/mnt/wsl/PhysicalDrive6/projects/ppcic/scrnaseq/venv/lib/python3.10/site-packages/anndata/_io/utils.py:209\u001b[0m, in \u001b[0;36mreport_write_key_on_error.<locals>.func_wrapper\u001b[0;34m(elem, key, val, *args, **kwargs)\u001b[0m\n\u001b[1;32m    208\u001b[0m \u001b[38;5;28;01mtry\u001b[39;00m:\n\u001b[0;32m--> 209\u001b[0m     \u001b[38;5;28;01mreturn\u001b[39;00m \u001b[43mfunc\u001b[49m\u001b[43m(\u001b[49m\u001b[43melem\u001b[49m\u001b[43m,\u001b[49m\u001b[43m \u001b[49m\u001b[43mkey\u001b[49m\u001b[43m,\u001b[49m\u001b[43m \u001b[49m\u001b[43mval\u001b[49m\u001b[43m,\u001b[49m\u001b[43m \u001b[49m\u001b[38;5;241;43m*\u001b[39;49m\u001b[43margs\u001b[49m\u001b[43m,\u001b[49m\u001b[43m \u001b[49m\u001b[38;5;241;43m*\u001b[39;49m\u001b[38;5;241;43m*\u001b[39;49m\u001b[43mkwargs\u001b[49m\u001b[43m)\u001b[49m\n\u001b[1;32m    210\u001b[0m \u001b[38;5;28;01mexcept\u001b[39;00m \u001b[38;5;167;01mException\u001b[39;00m \u001b[38;5;28;01mas\u001b[39;00m e:\n",
      "File \u001b[0;32m/mnt/wsl/PhysicalDrive6/projects/ppcic/scrnaseq/venv/lib/python3.10/site-packages/anndata/_io/h5ad.py:185\u001b[0m, in \u001b[0;36mwrite_array\u001b[0;34m(f, key, value, dataset_kwargs)\u001b[0m\n\u001b[1;32m    184\u001b[0m     value \u001b[38;5;241m=\u001b[39m _to_hdf5_vlen_strings(value)\n\u001b[0;32m--> 185\u001b[0m \u001b[43mf\u001b[49m\u001b[38;5;241;43m.\u001b[39;49m\u001b[43mcreate_dataset\u001b[49m\u001b[43m(\u001b[49m\u001b[43mkey\u001b[49m\u001b[43m,\u001b[49m\u001b[43m \u001b[49m\u001b[43mdata\u001b[49m\u001b[38;5;241;43m=\u001b[39;49m\u001b[43mvalue\u001b[49m\u001b[43m,\u001b[49m\u001b[43m \u001b[49m\u001b[38;5;241;43m*\u001b[39;49m\u001b[38;5;241;43m*\u001b[39;49m\u001b[43mdataset_kwargs\u001b[49m\u001b[43m)\u001b[49m\n",
      "File \u001b[0;32m/mnt/wsl/PhysicalDrive6/projects/ppcic/scrnaseq/venv/lib/python3.10/site-packages/h5py/_hl/group.py:149\u001b[0m, in \u001b[0;36mGroup.create_dataset\u001b[0;34m(self, name, shape, dtype, data, **kwds)\u001b[0m\n\u001b[1;32m    147\u001b[0m         group \u001b[38;5;241m=\u001b[39m \u001b[38;5;28mself\u001b[39m\u001b[38;5;241m.\u001b[39mrequire_group(parent_path)\n\u001b[0;32m--> 149\u001b[0m dsid \u001b[38;5;241m=\u001b[39m \u001b[43mdataset\u001b[49m\u001b[38;5;241;43m.\u001b[39;49m\u001b[43mmake_new_dset\u001b[49m\u001b[43m(\u001b[49m\u001b[43mgroup\u001b[49m\u001b[43m,\u001b[49m\u001b[43m \u001b[49m\u001b[43mshape\u001b[49m\u001b[43m,\u001b[49m\u001b[43m \u001b[49m\u001b[43mdtype\u001b[49m\u001b[43m,\u001b[49m\u001b[43m \u001b[49m\u001b[43mdata\u001b[49m\u001b[43m,\u001b[49m\u001b[43m \u001b[49m\u001b[43mname\u001b[49m\u001b[43m,\u001b[49m\u001b[43m \u001b[49m\u001b[38;5;241;43m*\u001b[39;49m\u001b[38;5;241;43m*\u001b[39;49m\u001b[43mkwds\u001b[49m\u001b[43m)\u001b[49m\n\u001b[1;32m    150\u001b[0m dset \u001b[38;5;241m=\u001b[39m dataset\u001b[38;5;241m.\u001b[39mDataset(dsid)\n",
      "File \u001b[0;32m/mnt/wsl/PhysicalDrive6/projects/ppcic/scrnaseq/venv/lib/python3.10/site-packages/h5py/_hl/dataset.py:142\u001b[0m, in \u001b[0;36mmake_new_dset\u001b[0;34m(parent, shape, dtype, data, name, chunks, compression, shuffle, fletcher32, maxshape, compression_opts, fillvalue, scaleoffset, track_times, external, track_order, dcpl, allow_unknown_filter)\u001b[0m\n\u001b[1;32m    139\u001b[0m     sid \u001b[38;5;241m=\u001b[39m h5s\u001b[38;5;241m.\u001b[39mcreate_simple(shape, maxshape)\n\u001b[0;32m--> 142\u001b[0m dset_id \u001b[38;5;241m=\u001b[39m \u001b[43mh5d\u001b[49m\u001b[38;5;241;43m.\u001b[39;49m\u001b[43mcreate\u001b[49m\u001b[43m(\u001b[49m\u001b[43mparent\u001b[49m\u001b[38;5;241;43m.\u001b[39;49m\u001b[43mid\u001b[49m\u001b[43m,\u001b[49m\u001b[43m \u001b[49m\u001b[43mname\u001b[49m\u001b[43m,\u001b[49m\u001b[43m \u001b[49m\u001b[43mtid\u001b[49m\u001b[43m,\u001b[49m\u001b[43m \u001b[49m\u001b[43msid\u001b[49m\u001b[43m,\u001b[49m\u001b[43m \u001b[49m\u001b[43mdcpl\u001b[49m\u001b[38;5;241;43m=\u001b[39;49m\u001b[43mdcpl\u001b[49m\u001b[43m)\u001b[49m\n\u001b[1;32m    144\u001b[0m \u001b[38;5;28;01mif\u001b[39;00m (data \u001b[38;5;129;01mis\u001b[39;00m \u001b[38;5;129;01mnot\u001b[39;00m \u001b[38;5;28;01mNone\u001b[39;00m) \u001b[38;5;129;01mand\u001b[39;00m (\u001b[38;5;129;01mnot\u001b[39;00m \u001b[38;5;28misinstance\u001b[39m(data, Empty)):\n",
      "File \u001b[0;32mh5py/_objects.pyx:54\u001b[0m, in \u001b[0;36mh5py._objects.with_phil.wrapper\u001b[0;34m()\u001b[0m\n",
      "File \u001b[0;32mh5py/_objects.pyx:55\u001b[0m, in \u001b[0;36mh5py._objects.with_phil.wrapper\u001b[0;34m()\u001b[0m\n",
      "File \u001b[0;32mh5py/h5d.pyx:87\u001b[0m, in \u001b[0;36mh5py.h5d.create\u001b[0;34m()\u001b[0m\n",
      "\u001b[0;31mValueError\u001b[0m: Unable to create dataset (name already exists)",
      "\nThe above exception was the direct cause of the following exception:\n",
      "\u001b[0;31mValueError\u001b[0m                                Traceback (most recent call last)",
      "File \u001b[0;32m/mnt/wsl/PhysicalDrive6/projects/ppcic/scrnaseq/venv/lib/python3.10/site-packages/anndata/_io/utils.py:209\u001b[0m, in \u001b[0;36mreport_write_key_on_error.<locals>.func_wrapper\u001b[0;34m(elem, key, val, *args, **kwargs)\u001b[0m\n\u001b[1;32m    208\u001b[0m \u001b[38;5;28;01mtry\u001b[39;00m:\n\u001b[0;32m--> 209\u001b[0m     \u001b[38;5;28;01mreturn\u001b[39;00m \u001b[43mfunc\u001b[49m\u001b[43m(\u001b[49m\u001b[43melem\u001b[49m\u001b[43m,\u001b[49m\u001b[43m \u001b[49m\u001b[43mkey\u001b[49m\u001b[43m,\u001b[49m\u001b[43m \u001b[49m\u001b[43mval\u001b[49m\u001b[43m,\u001b[49m\u001b[43m \u001b[49m\u001b[38;5;241;43m*\u001b[39;49m\u001b[43margs\u001b[49m\u001b[43m,\u001b[49m\u001b[43m \u001b[49m\u001b[38;5;241;43m*\u001b[39;49m\u001b[38;5;241;43m*\u001b[39;49m\u001b[43mkwargs\u001b[49m\u001b[43m)\u001b[49m\n\u001b[1;32m    210\u001b[0m \u001b[38;5;28;01mexcept\u001b[39;00m \u001b[38;5;167;01mException\u001b[39;00m \u001b[38;5;28;01mas\u001b[39;00m e:\n",
      "File \u001b[0;32m/mnt/wsl/PhysicalDrive6/projects/ppcic/scrnaseq/venv/lib/python3.10/site-packages/anndata/_io/h5ad.py:284\u001b[0m, in \u001b[0;36mwrite_series\u001b[0;34m(group, key, series, dataset_kwargs)\u001b[0m\n\u001b[1;32m    283\u001b[0m write_array(group, category_key, categories, dataset_kwargs\u001b[38;5;241m=\u001b[39mdataset_kwargs)\n\u001b[0;32m--> 284\u001b[0m \u001b[43mwrite_array\u001b[49m\u001b[43m(\u001b[49m\u001b[43mgroup\u001b[49m\u001b[43m,\u001b[49m\u001b[43m \u001b[49m\u001b[43mkey\u001b[49m\u001b[43m,\u001b[49m\u001b[43m \u001b[49m\u001b[43mcodes\u001b[49m\u001b[43m,\u001b[49m\u001b[43m \u001b[49m\u001b[43mdataset_kwargs\u001b[49m\u001b[38;5;241;43m=\u001b[39;49m\u001b[43mdataset_kwargs\u001b[49m\u001b[43m)\u001b[49m\n\u001b[1;32m    286\u001b[0m group[key]\u001b[38;5;241m.\u001b[39mattrs[\u001b[38;5;124m\"\u001b[39m\u001b[38;5;124mcategories\u001b[39m\u001b[38;5;124m\"\u001b[39m] \u001b[38;5;241m=\u001b[39m group[category_key]\u001b[38;5;241m.\u001b[39mref\n",
      "File \u001b[0;32m/mnt/wsl/PhysicalDrive6/projects/ppcic/scrnaseq/venv/lib/python3.10/site-packages/anndata/_io/utils.py:212\u001b[0m, in \u001b[0;36mreport_write_key_on_error.<locals>.func_wrapper\u001b[0;34m(elem, key, val, *args, **kwargs)\u001b[0m\n\u001b[1;32m    211\u001b[0m parent \u001b[38;5;241m=\u001b[39m _get_parent(elem)\n\u001b[0;32m--> 212\u001b[0m \u001b[38;5;28;01mraise\u001b[39;00m \u001b[38;5;28mtype\u001b[39m(e)(\n\u001b[1;32m    213\u001b[0m     \u001b[38;5;124mf\u001b[39m\u001b[38;5;124m\"\u001b[39m\u001b[38;5;132;01m{\u001b[39;00me\u001b[38;5;132;01m}\u001b[39;00m\u001b[38;5;130;01m\\n\u001b[39;00m\u001b[38;5;130;01m\\n\u001b[39;00m\u001b[38;5;124m\"\u001b[39m\n\u001b[1;32m    214\u001b[0m     \u001b[38;5;124mf\u001b[39m\u001b[38;5;124m\"\u001b[39m\u001b[38;5;124mAbove error raised while writing key \u001b[39m\u001b[38;5;132;01m{\u001b[39;00mkey\u001b[38;5;132;01m!r}\u001b[39;00m\u001b[38;5;124m of \u001b[39m\u001b[38;5;132;01m{\u001b[39;00m\u001b[38;5;28mtype\u001b[39m(elem)\u001b[38;5;132;01m}\u001b[39;00m\u001b[38;5;124m\"\u001b[39m\n\u001b[1;32m    215\u001b[0m     \u001b[38;5;124mf\u001b[39m\u001b[38;5;124m\"\u001b[39m\u001b[38;5;124m from \u001b[39m\u001b[38;5;132;01m{\u001b[39;00mparent\u001b[38;5;132;01m}\u001b[39;00m\u001b[38;5;124m.\u001b[39m\u001b[38;5;124m\"\u001b[39m\n\u001b[1;32m    216\u001b[0m ) \u001b[38;5;28;01mfrom\u001b[39;00m \u001b[38;5;21;01me\u001b[39;00m\n",
      "\u001b[0;31mValueError\u001b[0m: Unable to create dataset (name already exists)\n\nAbove error raised while writing key 'gene_name' of <class 'h5py._hl.group.Group'> from /.",
      "\nThe above exception was the direct cause of the following exception:\n",
      "\u001b[0;31mValueError\u001b[0m                                Traceback (most recent call last)",
      "File \u001b[0;32m/mnt/wsl/PhysicalDrive6/projects/ppcic/scrnaseq/venv/lib/python3.10/site-packages/anndata/_io/utils.py:209\u001b[0m, in \u001b[0;36mreport_write_key_on_error.<locals>.func_wrapper\u001b[0;34m(elem, key, val, *args, **kwargs)\u001b[0m\n\u001b[1;32m    208\u001b[0m \u001b[38;5;28;01mtry\u001b[39;00m:\n\u001b[0;32m--> 209\u001b[0m     \u001b[38;5;28;01mreturn\u001b[39;00m \u001b[43mfunc\u001b[49m\u001b[43m(\u001b[49m\u001b[43melem\u001b[49m\u001b[43m,\u001b[49m\u001b[43m \u001b[49m\u001b[43mkey\u001b[49m\u001b[43m,\u001b[49m\u001b[43m \u001b[49m\u001b[43mval\u001b[49m\u001b[43m,\u001b[49m\u001b[43m \u001b[49m\u001b[38;5;241;43m*\u001b[39;49m\u001b[43margs\u001b[49m\u001b[43m,\u001b[49m\u001b[43m \u001b[49m\u001b[38;5;241;43m*\u001b[39;49m\u001b[38;5;241;43m*\u001b[39;49m\u001b[43mkwargs\u001b[49m\u001b[43m)\u001b[49m\n\u001b[1;32m    210\u001b[0m \u001b[38;5;28;01mexcept\u001b[39;00m \u001b[38;5;167;01mException\u001b[39;00m \u001b[38;5;28;01mas\u001b[39;00m e:\n",
      "File \u001b[0;32m/mnt/wsl/PhysicalDrive6/projects/ppcic/scrnaseq/venv/lib/python3.10/site-packages/anndata/_io/h5ad.py:263\u001b[0m, in \u001b[0;36mwrite_dataframe\u001b[0;34m(f, key, df, dataset_kwargs)\u001b[0m\n\u001b[1;32m    262\u001b[0m \u001b[38;5;28;01mfor\u001b[39;00m col_name, (_, series) \u001b[38;5;129;01min\u001b[39;00m \u001b[38;5;28mzip\u001b[39m(col_names, df\u001b[38;5;241m.\u001b[39mitems()):\n\u001b[0;32m--> 263\u001b[0m     \u001b[43mwrite_series\u001b[49m\u001b[43m(\u001b[49m\u001b[43mgroup\u001b[49m\u001b[43m,\u001b[49m\u001b[43m \u001b[49m\u001b[43mcol_name\u001b[49m\u001b[43m,\u001b[49m\u001b[43m \u001b[49m\u001b[43mseries\u001b[49m\u001b[43m,\u001b[49m\u001b[43m \u001b[49m\u001b[43mdataset_kwargs\u001b[49m\u001b[38;5;241;43m=\u001b[39;49m\u001b[43mdataset_kwargs\u001b[49m\u001b[43m)\u001b[49m\n",
      "File \u001b[0;32m/mnt/wsl/PhysicalDrive6/projects/ppcic/scrnaseq/venv/lib/python3.10/site-packages/anndata/_io/utils.py:212\u001b[0m, in \u001b[0;36mreport_write_key_on_error.<locals>.func_wrapper\u001b[0;34m(elem, key, val, *args, **kwargs)\u001b[0m\n\u001b[1;32m    211\u001b[0m parent \u001b[38;5;241m=\u001b[39m _get_parent(elem)\n\u001b[0;32m--> 212\u001b[0m \u001b[38;5;28;01mraise\u001b[39;00m \u001b[38;5;28mtype\u001b[39m(e)(\n\u001b[1;32m    213\u001b[0m     \u001b[38;5;124mf\u001b[39m\u001b[38;5;124m\"\u001b[39m\u001b[38;5;132;01m{\u001b[39;00me\u001b[38;5;132;01m}\u001b[39;00m\u001b[38;5;130;01m\\n\u001b[39;00m\u001b[38;5;130;01m\\n\u001b[39;00m\u001b[38;5;124m\"\u001b[39m\n\u001b[1;32m    214\u001b[0m     \u001b[38;5;124mf\u001b[39m\u001b[38;5;124m\"\u001b[39m\u001b[38;5;124mAbove error raised while writing key \u001b[39m\u001b[38;5;132;01m{\u001b[39;00mkey\u001b[38;5;132;01m!r}\u001b[39;00m\u001b[38;5;124m of \u001b[39m\u001b[38;5;132;01m{\u001b[39;00m\u001b[38;5;28mtype\u001b[39m(elem)\u001b[38;5;132;01m}\u001b[39;00m\u001b[38;5;124m\"\u001b[39m\n\u001b[1;32m    215\u001b[0m     \u001b[38;5;124mf\u001b[39m\u001b[38;5;124m\"\u001b[39m\u001b[38;5;124m from \u001b[39m\u001b[38;5;132;01m{\u001b[39;00mparent\u001b[38;5;132;01m}\u001b[39;00m\u001b[38;5;124m.\u001b[39m\u001b[38;5;124m\"\u001b[39m\n\u001b[1;32m    216\u001b[0m ) \u001b[38;5;28;01mfrom\u001b[39;00m \u001b[38;5;21;01me\u001b[39;00m\n",
      "\u001b[0;31mValueError\u001b[0m: Unable to create dataset (name already exists)\n\nAbove error raised while writing key 'gene_name' of <class 'h5py._hl.group.Group'> from /.\n\nAbove error raised while writing key 'gene_name' of <class 'h5py._hl.group.Group'> from /.",
      "\nThe above exception was the direct cause of the following exception:\n",
      "\u001b[0;31mValueError\u001b[0m                                Traceback (most recent call last)",
      "Input \u001b[0;32mIn [46]\u001b[0m, in \u001b[0;36m<cell line: 2>\u001b[0;34m()\u001b[0m\n\u001b[1;32m      1\u001b[0m \u001b[38;5;66;03m# Saving results\u001b[39;00m\n\u001b[0;32m----> 2\u001b[0m \u001b[43madata\u001b[49m\u001b[38;5;241;43m.\u001b[39;49m\u001b[43mwrite\u001b[49m\u001b[43m(\u001b[49m\u001b[43mresults_file\u001b[49m\u001b[43m)\u001b[49m\n",
      "File \u001b[0;32m/mnt/wsl/PhysicalDrive6/projects/ppcic/scrnaseq/venv/lib/python3.10/site-packages/anndata/_core/anndata.py:1912\u001b[0m, in \u001b[0;36mAnnData.write_h5ad\u001b[0;34m(self, filename, compression, compression_opts, force_dense, as_dense)\u001b[0m\n\u001b[1;32m   1909\u001b[0m \u001b[38;5;28;01mif\u001b[39;00m filename \u001b[38;5;129;01mis\u001b[39;00m \u001b[38;5;28;01mNone\u001b[39;00m:\n\u001b[1;32m   1910\u001b[0m     filename \u001b[38;5;241m=\u001b[39m \u001b[38;5;28mself\u001b[39m\u001b[38;5;241m.\u001b[39mfilename\n\u001b[0;32m-> 1912\u001b[0m \u001b[43m_write_h5ad\u001b[49m\u001b[43m(\u001b[49m\n\u001b[1;32m   1913\u001b[0m \u001b[43m    \u001b[49m\u001b[43mPath\u001b[49m\u001b[43m(\u001b[49m\u001b[43mfilename\u001b[49m\u001b[43m)\u001b[49m\u001b[43m,\u001b[49m\n\u001b[1;32m   1914\u001b[0m \u001b[43m    \u001b[49m\u001b[38;5;28;43mself\u001b[39;49m\u001b[43m,\u001b[49m\n\u001b[1;32m   1915\u001b[0m \u001b[43m    \u001b[49m\u001b[43mcompression\u001b[49m\u001b[38;5;241;43m=\u001b[39;49m\u001b[43mcompression\u001b[49m\u001b[43m,\u001b[49m\n\u001b[1;32m   1916\u001b[0m \u001b[43m    \u001b[49m\u001b[43mcompression_opts\u001b[49m\u001b[38;5;241;43m=\u001b[39;49m\u001b[43mcompression_opts\u001b[49m\u001b[43m,\u001b[49m\n\u001b[1;32m   1917\u001b[0m \u001b[43m    \u001b[49m\u001b[43mforce_dense\u001b[49m\u001b[38;5;241;43m=\u001b[39;49m\u001b[43mforce_dense\u001b[49m\u001b[43m,\u001b[49m\n\u001b[1;32m   1918\u001b[0m \u001b[43m    \u001b[49m\u001b[43mas_dense\u001b[49m\u001b[38;5;241;43m=\u001b[39;49m\u001b[43mas_dense\u001b[49m\u001b[43m,\u001b[49m\n\u001b[1;32m   1919\u001b[0m \u001b[43m\u001b[49m\u001b[43m)\u001b[49m\n\u001b[1;32m   1921\u001b[0m \u001b[38;5;28;01mif\u001b[39;00m \u001b[38;5;28mself\u001b[39m\u001b[38;5;241m.\u001b[39misbacked:\n\u001b[1;32m   1922\u001b[0m     \u001b[38;5;28mself\u001b[39m\u001b[38;5;241m.\u001b[39mfile\u001b[38;5;241m.\u001b[39mfilename \u001b[38;5;241m=\u001b[39m filename\n",
      "File \u001b[0;32m/mnt/wsl/PhysicalDrive6/projects/ppcic/scrnaseq/venv/lib/python3.10/site-packages/anndata/_io/h5ad.py:110\u001b[0m, in \u001b[0;36mwrite_h5ad\u001b[0;34m(filepath, adata, force_dense, as_dense, dataset_kwargs, **kwargs)\u001b[0m\n\u001b[1;32m    106\u001b[0m     write_attribute(\n\u001b[1;32m    107\u001b[0m         f, \u001b[38;5;124m\"\u001b[39m\u001b[38;5;124mraw/varm\u001b[39m\u001b[38;5;124m\"\u001b[39m, adata\u001b[38;5;241m.\u001b[39mraw\u001b[38;5;241m.\u001b[39mvarm, dataset_kwargs\u001b[38;5;241m=\u001b[39mdataset_kwargs\n\u001b[1;32m    108\u001b[0m     )\n\u001b[1;32m    109\u001b[0m \u001b[38;5;28;01melse\u001b[39;00m:\n\u001b[0;32m--> 110\u001b[0m     \u001b[43mwrite_attribute\u001b[49m\u001b[43m(\u001b[49m\u001b[43mf\u001b[49m\u001b[43m,\u001b[49m\u001b[43m \u001b[49m\u001b[38;5;124;43m\"\u001b[39;49m\u001b[38;5;124;43mraw\u001b[39;49m\u001b[38;5;124;43m\"\u001b[39;49m\u001b[43m,\u001b[49m\u001b[43m \u001b[49m\u001b[43madata\u001b[49m\u001b[38;5;241;43m.\u001b[39;49m\u001b[43mraw\u001b[49m\u001b[43m,\u001b[49m\u001b[43m \u001b[49m\u001b[43mdataset_kwargs\u001b[49m\u001b[38;5;241;43m=\u001b[39;49m\u001b[43mdataset_kwargs\u001b[49m\u001b[43m)\u001b[49m\n\u001b[1;32m    111\u001b[0m write_attribute(f, \u001b[38;5;124m\"\u001b[39m\u001b[38;5;124mobs\u001b[39m\u001b[38;5;124m\"\u001b[39m, adata\u001b[38;5;241m.\u001b[39mobs, dataset_kwargs\u001b[38;5;241m=\u001b[39mdataset_kwargs)\n\u001b[1;32m    112\u001b[0m write_attribute(f, \u001b[38;5;124m\"\u001b[39m\u001b[38;5;124mvar\u001b[39m\u001b[38;5;124m\"\u001b[39m, adata\u001b[38;5;241m.\u001b[39mvar, dataset_kwargs\u001b[38;5;241m=\u001b[39mdataset_kwargs)\n",
      "File \u001b[0;32m~/.asdf/installs/python/3.10.4/lib/python3.10/functools.py:889\u001b[0m, in \u001b[0;36msingledispatch.<locals>.wrapper\u001b[0;34m(*args, **kw)\u001b[0m\n\u001b[1;32m    885\u001b[0m \u001b[38;5;28;01mif\u001b[39;00m \u001b[38;5;129;01mnot\u001b[39;00m args:\n\u001b[1;32m    886\u001b[0m     \u001b[38;5;28;01mraise\u001b[39;00m \u001b[38;5;167;01mTypeError\u001b[39;00m(\u001b[38;5;124mf\u001b[39m\u001b[38;5;124m'\u001b[39m\u001b[38;5;132;01m{\u001b[39;00mfuncname\u001b[38;5;132;01m}\u001b[39;00m\u001b[38;5;124m requires at least \u001b[39m\u001b[38;5;124m'\u001b[39m\n\u001b[1;32m    887\u001b[0m                     \u001b[38;5;124m'\u001b[39m\u001b[38;5;124m1 positional argument\u001b[39m\u001b[38;5;124m'\u001b[39m)\n\u001b[0;32m--> 889\u001b[0m \u001b[38;5;28;01mreturn\u001b[39;00m \u001b[43mdispatch\u001b[49m\u001b[43m(\u001b[49m\u001b[43margs\u001b[49m\u001b[43m[\u001b[49m\u001b[38;5;241;43m0\u001b[39;49m\u001b[43m]\u001b[49m\u001b[38;5;241;43m.\u001b[39;49m\u001b[38;5;18;43m__class__\u001b[39;49m\u001b[43m)\u001b[49m\u001b[43m(\u001b[49m\u001b[38;5;241;43m*\u001b[39;49m\u001b[43margs\u001b[49m\u001b[43m,\u001b[49m\u001b[43m \u001b[49m\u001b[38;5;241;43m*\u001b[39;49m\u001b[38;5;241;43m*\u001b[39;49m\u001b[43mkw\u001b[49m\u001b[43m)\u001b[49m\n",
      "File \u001b[0;32m/mnt/wsl/PhysicalDrive6/projects/ppcic/scrnaseq/venv/lib/python3.10/site-packages/anndata/_io/h5ad.py:130\u001b[0m, in \u001b[0;36mwrite_attribute_h5ad\u001b[0;34m(f, key, value, *args, **kwargs)\u001b[0m\n\u001b[1;32m    128\u001b[0m \u001b[38;5;28;01mif\u001b[39;00m key \u001b[38;5;129;01min\u001b[39;00m f:\n\u001b[1;32m    129\u001b[0m     \u001b[38;5;28;01mdel\u001b[39;00m f[key]\n\u001b[0;32m--> 130\u001b[0m \u001b[43m_write_method\u001b[49m\u001b[43m(\u001b[49m\u001b[38;5;28;43mtype\u001b[39;49m\u001b[43m(\u001b[49m\u001b[43mvalue\u001b[49m\u001b[43m)\u001b[49m\u001b[43m)\u001b[49m\u001b[43m(\u001b[49m\u001b[43mf\u001b[49m\u001b[43m,\u001b[49m\u001b[43m \u001b[49m\u001b[43mkey\u001b[49m\u001b[43m,\u001b[49m\u001b[43m \u001b[49m\u001b[43mvalue\u001b[49m\u001b[43m,\u001b[49m\u001b[43m \u001b[49m\u001b[38;5;241;43m*\u001b[39;49m\u001b[43margs\u001b[49m\u001b[43m,\u001b[49m\u001b[43m \u001b[49m\u001b[38;5;241;43m*\u001b[39;49m\u001b[38;5;241;43m*\u001b[39;49m\u001b[43mkwargs\u001b[49m\u001b[43m)\u001b[49m\n",
      "File \u001b[0;32m/mnt/wsl/PhysicalDrive6/projects/ppcic/scrnaseq/venv/lib/python3.10/site-packages/anndata/_io/h5ad.py:139\u001b[0m, in \u001b[0;36mwrite_raw\u001b[0;34m(f, key, value, dataset_kwargs)\u001b[0m\n\u001b[1;32m    137\u001b[0m group\u001b[38;5;241m.\u001b[39mattrs[\u001b[38;5;124m\"\u001b[39m\u001b[38;5;124mshape\u001b[39m\u001b[38;5;124m\"\u001b[39m] \u001b[38;5;241m=\u001b[39m value\u001b[38;5;241m.\u001b[39mshape\n\u001b[1;32m    138\u001b[0m write_attribute(f, \u001b[38;5;124m\"\u001b[39m\u001b[38;5;124mraw/X\u001b[39m\u001b[38;5;124m\"\u001b[39m, value\u001b[38;5;241m.\u001b[39mX, dataset_kwargs\u001b[38;5;241m=\u001b[39mdataset_kwargs)\n\u001b[0;32m--> 139\u001b[0m \u001b[43mwrite_attribute\u001b[49m\u001b[43m(\u001b[49m\u001b[43mf\u001b[49m\u001b[43m,\u001b[49m\u001b[43m \u001b[49m\u001b[38;5;124;43m\"\u001b[39;49m\u001b[38;5;124;43mraw/var\u001b[39;49m\u001b[38;5;124;43m\"\u001b[39;49m\u001b[43m,\u001b[49m\u001b[43m \u001b[49m\u001b[43mvalue\u001b[49m\u001b[38;5;241;43m.\u001b[39;49m\u001b[43mvar\u001b[49m\u001b[43m,\u001b[49m\u001b[43m \u001b[49m\u001b[43mdataset_kwargs\u001b[49m\u001b[38;5;241;43m=\u001b[39;49m\u001b[43mdataset_kwargs\u001b[49m\u001b[43m)\u001b[49m\n\u001b[1;32m    140\u001b[0m write_attribute(f, \u001b[38;5;124m\"\u001b[39m\u001b[38;5;124mraw/varm\u001b[39m\u001b[38;5;124m\"\u001b[39m, value\u001b[38;5;241m.\u001b[39mvarm, dataset_kwargs\u001b[38;5;241m=\u001b[39mdataset_kwargs)\n",
      "File \u001b[0;32m~/.asdf/installs/python/3.10.4/lib/python3.10/functools.py:889\u001b[0m, in \u001b[0;36msingledispatch.<locals>.wrapper\u001b[0;34m(*args, **kw)\u001b[0m\n\u001b[1;32m    885\u001b[0m \u001b[38;5;28;01mif\u001b[39;00m \u001b[38;5;129;01mnot\u001b[39;00m args:\n\u001b[1;32m    886\u001b[0m     \u001b[38;5;28;01mraise\u001b[39;00m \u001b[38;5;167;01mTypeError\u001b[39;00m(\u001b[38;5;124mf\u001b[39m\u001b[38;5;124m'\u001b[39m\u001b[38;5;132;01m{\u001b[39;00mfuncname\u001b[38;5;132;01m}\u001b[39;00m\u001b[38;5;124m requires at least \u001b[39m\u001b[38;5;124m'\u001b[39m\n\u001b[1;32m    887\u001b[0m                     \u001b[38;5;124m'\u001b[39m\u001b[38;5;124m1 positional argument\u001b[39m\u001b[38;5;124m'\u001b[39m)\n\u001b[0;32m--> 889\u001b[0m \u001b[38;5;28;01mreturn\u001b[39;00m \u001b[43mdispatch\u001b[49m\u001b[43m(\u001b[49m\u001b[43margs\u001b[49m\u001b[43m[\u001b[49m\u001b[38;5;241;43m0\u001b[39;49m\u001b[43m]\u001b[49m\u001b[38;5;241;43m.\u001b[39;49m\u001b[38;5;18;43m__class__\u001b[39;49m\u001b[43m)\u001b[49m\u001b[43m(\u001b[49m\u001b[38;5;241;43m*\u001b[39;49m\u001b[43margs\u001b[49m\u001b[43m,\u001b[49m\u001b[43m \u001b[49m\u001b[38;5;241;43m*\u001b[39;49m\u001b[38;5;241;43m*\u001b[39;49m\u001b[43mkw\u001b[49m\u001b[43m)\u001b[49m\n",
      "File \u001b[0;32m/mnt/wsl/PhysicalDrive6/projects/ppcic/scrnaseq/venv/lib/python3.10/site-packages/anndata/_io/h5ad.py:130\u001b[0m, in \u001b[0;36mwrite_attribute_h5ad\u001b[0;34m(f, key, value, *args, **kwargs)\u001b[0m\n\u001b[1;32m    128\u001b[0m \u001b[38;5;28;01mif\u001b[39;00m key \u001b[38;5;129;01min\u001b[39;00m f:\n\u001b[1;32m    129\u001b[0m     \u001b[38;5;28;01mdel\u001b[39;00m f[key]\n\u001b[0;32m--> 130\u001b[0m \u001b[43m_write_method\u001b[49m\u001b[43m(\u001b[49m\u001b[38;5;28;43mtype\u001b[39;49m\u001b[43m(\u001b[49m\u001b[43mvalue\u001b[49m\u001b[43m)\u001b[49m\u001b[43m)\u001b[49m\u001b[43m(\u001b[49m\u001b[43mf\u001b[49m\u001b[43m,\u001b[49m\u001b[43m \u001b[49m\u001b[43mkey\u001b[49m\u001b[43m,\u001b[49m\u001b[43m \u001b[49m\u001b[43mvalue\u001b[49m\u001b[43m,\u001b[49m\u001b[43m \u001b[49m\u001b[38;5;241;43m*\u001b[39;49m\u001b[43margs\u001b[49m\u001b[43m,\u001b[49m\u001b[43m \u001b[49m\u001b[38;5;241;43m*\u001b[39;49m\u001b[38;5;241;43m*\u001b[39;49m\u001b[43mkwargs\u001b[49m\u001b[43m)\u001b[49m\n",
      "File \u001b[0;32m/mnt/wsl/PhysicalDrive6/projects/ppcic/scrnaseq/venv/lib/python3.10/site-packages/anndata/_io/utils.py:212\u001b[0m, in \u001b[0;36mreport_write_key_on_error.<locals>.func_wrapper\u001b[0;34m(elem, key, val, *args, **kwargs)\u001b[0m\n\u001b[1;32m    210\u001b[0m \u001b[38;5;28;01mexcept\u001b[39;00m \u001b[38;5;167;01mException\u001b[39;00m \u001b[38;5;28;01mas\u001b[39;00m e:\n\u001b[1;32m    211\u001b[0m     parent \u001b[38;5;241m=\u001b[39m _get_parent(elem)\n\u001b[0;32m--> 212\u001b[0m     \u001b[38;5;28;01mraise\u001b[39;00m \u001b[38;5;28mtype\u001b[39m(e)(\n\u001b[1;32m    213\u001b[0m         \u001b[38;5;124mf\u001b[39m\u001b[38;5;124m\"\u001b[39m\u001b[38;5;132;01m{\u001b[39;00me\u001b[38;5;132;01m}\u001b[39;00m\u001b[38;5;130;01m\\n\u001b[39;00m\u001b[38;5;130;01m\\n\u001b[39;00m\u001b[38;5;124m\"\u001b[39m\n\u001b[1;32m    214\u001b[0m         \u001b[38;5;124mf\u001b[39m\u001b[38;5;124m\"\u001b[39m\u001b[38;5;124mAbove error raised while writing key \u001b[39m\u001b[38;5;132;01m{\u001b[39;00mkey\u001b[38;5;132;01m!r}\u001b[39;00m\u001b[38;5;124m of \u001b[39m\u001b[38;5;132;01m{\u001b[39;00m\u001b[38;5;28mtype\u001b[39m(elem)\u001b[38;5;132;01m}\u001b[39;00m\u001b[38;5;124m\"\u001b[39m\n\u001b[1;32m    215\u001b[0m         \u001b[38;5;124mf\u001b[39m\u001b[38;5;124m\"\u001b[39m\u001b[38;5;124m from \u001b[39m\u001b[38;5;132;01m{\u001b[39;00mparent\u001b[38;5;132;01m}\u001b[39;00m\u001b[38;5;124m.\u001b[39m\u001b[38;5;124m\"\u001b[39m\n\u001b[1;32m    216\u001b[0m     ) \u001b[38;5;28;01mfrom\u001b[39;00m \u001b[38;5;21;01me\u001b[39;00m\n",
      "\u001b[0;31mValueError\u001b[0m: Unable to create dataset (name already exists)\n\nAbove error raised while writing key 'gene_name' of <class 'h5py._hl.group.Group'> from /.\n\nAbove error raised while writing key 'gene_name' of <class 'h5py._hl.group.Group'> from /.\n\nAbove error raised while writing key 'raw/var' of <class 'h5py._hl.files.File'> from /."
     ]
    }
   ],
   "source": [
    "# Saving results\n",
    "adata.write(results_file)"
   ]
  },
  {
   "cell_type": "code",
   "execution_count": null,
   "id": "d1e2744e-77f1-4e09-af6e-7571b7c8a99d",
   "metadata": {
    "id": "d1e2744e-77f1-4e09-af6e-7571b7c8a99d"
   },
   "outputs": [],
   "source": [
    "adata"
   ]
  },
  {
   "cell_type": "markdown",
   "id": "30a37119-17b4-4f31-9108-76e7733fa5cd",
   "metadata": {
    "id": "30a37119-17b4-4f31-9108-76e7733fa5cd"
   },
   "source": [
    "## Computing Neighborhood Graph"
   ]
  },
  {
   "cell_type": "code",
   "execution_count": null,
   "id": "5f64ef0b-c1c9-4197-9f25-be40ee2eec14",
   "metadata": {
    "colab": {
     "base_uri": "https://localhost:8080/"
    },
    "id": "5f64ef0b-c1c9-4197-9f25-be40ee2eec14",
    "outputId": "e73b9e03-f870-420f-a380-7cefa7750333"
   },
   "outputs": [],
   "source": [
    "sc.pp.neighbors(adata, n_neighbors=10, n_pcs=4)"
   ]
  },
  {
   "cell_type": "code",
   "execution_count": null,
   "id": "aefd8998-c734-4ca5-8fd2-651f683ed9d9",
   "metadata": {
    "colab": {
     "base_uri": "https://localhost:8080/",
     "height": 322
    },
    "id": "aefd8998-c734-4ca5-8fd2-651f683ed9d9",
    "outputId": "2cb0d522-62b5-4846-ef9d-aecd691785f7"
   },
   "outputs": [],
   "source": [
    "tl.paga(adata)\n",
    "pl.paga(adata, plot=False)  # remove `plot=False` if you want to see the coarse-grained graph\n",
    "tl.umap(adata, init_pos='paga')"
   ]
  },
  {
   "cell_type": "code",
   "execution_count": null,
   "id": "5ce025ba-50e7-4303-b002-fc80a0b3e1e2",
   "metadata": {
    "id": "5ce025ba-50e7-4303-b002-fc80a0b3e1e2"
   },
   "outputs": [],
   "source": [
    "sc.tl.umap(adata)"
   ]
  },
  {
   "cell_type": "code",
   "execution_count": null,
   "id": "f54f2cba-db29-4ca5-bfb2-47609f3b1567",
   "metadata": {
    "id": "f54f2cba-db29-4ca5-bfb2-47609f3b1567"
   },
   "outputs": [],
   "source": [
    "sc.pl.umap(adata, color=['CST3', 'NKG7', 'PPBP'])"
   ]
  },
  {
   "cell_type": "code",
   "execution_count": null,
   "id": "b97ec217-9068-49a7-8512-a9063428b393",
   "metadata": {
    "id": "b97ec217-9068-49a7-8512-a9063428b393"
   },
   "outputs": [],
   "source": [
    "sc.pl.umap(adata, color=['CST3', 'NKG7', 'PPBP'], use_raw=False)"
   ]
  },
  {
   "cell_type": "markdown",
   "id": "8362c3ba-155f-4b20-8c9d-31121af3d94f",
   "metadata": {
    "id": "8362c3ba-155f-4b20-8c9d-31121af3d94f"
   },
   "source": [
    "### Clustering the neighborhood graph"
   ]
  },
  {
   "cell_type": "code",
   "execution_count": null,
   "id": "fbc98264-15fd-45a2-b669-97ea5c315c58",
   "metadata": {
    "id": "fbc98264-15fd-45a2-b669-97ea5c315c58"
   },
   "outputs": [],
   "source": [
    "sc.tl.leiden(adata)"
   ]
  },
  {
   "cell_type": "code",
   "execution_count": null,
   "id": "2bacfb7e-9ab5-4311-8a48-9f53c5870082",
   "metadata": {
    "id": "2bacfb7e-9ab5-4311-8a48-9f53c5870082"
   },
   "outputs": [],
   "source": [
    "sc.pl.umap(adata, color=['leiden', 'CST3', 'NKG7'])"
   ]
  },
  {
   "cell_type": "code",
   "execution_count": null,
   "id": "f6998385-ae66-4260-9d3a-abd4b38ab71e",
   "metadata": {
    "id": "f6998385-ae66-4260-9d3a-abd4b38ab71e"
   },
   "outputs": [],
   "source": [
    "adata.write(results_file)"
   ]
  },
  {
   "cell_type": "markdown",
   "id": "7aa45f1e-eab4-4810-a31b-e3e85db86a7d",
   "metadata": {
    "id": "7aa45f1e-eab4-4810-a31b-e3e85db86a7d"
   },
   "source": [
    "## Filtering marker genes"
   ]
  },
  {
   "cell_type": "code",
   "execution_count": null,
   "id": "2fd5e1ba-5c78-45f3-a82f-28fdf8c3b361",
   "metadata": {
    "id": "2fd5e1ba-5c78-45f3-a82f-28fdf8c3b361"
   },
   "outputs": [],
   "source": [
    "sc.tl.rank_genes_groups(adata, 'leiden', method='t-test')\n",
    "sc.pl.rank_genes_groups(adata, n_genes=25, sharey=False)"
   ]
  },
  {
   "cell_type": "code",
   "execution_count": null,
   "id": "095f9919-df0f-49b0-8906-68a3788144b0",
   "metadata": {
    "id": "095f9919-df0f-49b0-8906-68a3788144b0"
   },
   "outputs": [],
   "source": [
    "sc.settings.verbosity = 2  # reduce the verbosity"
   ]
  },
  {
   "cell_type": "code",
   "execution_count": null,
   "id": "944e401b-5687-4ee5-943b-7aa525ef04cf",
   "metadata": {
    "id": "944e401b-5687-4ee5-943b-7aa525ef04cf"
   },
   "outputs": [],
   "source": [
    "sc.tl.rank_genes_groups(adata, 'leiden', method='wilcoxon')\n",
    "sc.pl.rank_genes_groups(adata, n_genes=25, sharey=False)"
   ]
  },
  {
   "cell_type": "code",
   "execution_count": null,
   "id": "192f33a0-d27e-4c1b-983b-4542d2565255",
   "metadata": {
    "id": "192f33a0-d27e-4c1b-983b-4542d2565255"
   },
   "outputs": [],
   "source": [
    "adata.write(results_file)"
   ]
  },
  {
   "cell_type": "code",
   "execution_count": null,
   "id": "850c0f78-ef2c-426c-ad0b-9f440ba00f6e",
   "metadata": {
    "id": "850c0f78-ef2c-426c-ad0b-9f440ba00f6e"
   },
   "outputs": [],
   "source": [
    "sc.tl.rank_genes_groups(adata, 'leiden', method='logreg')\n",
    "sc.pl.rank_genes_groups(adata, n_genes=25, sharey=False)"
   ]
  },
  {
   "cell_type": "code",
   "execution_count": null,
   "id": "2d094fb5-3807-4a1c-9613-94297ff2bb6a",
   "metadata": {
    "id": "2d094fb5-3807-4a1c-9613-94297ff2bb6a"
   },
   "outputs": [],
   "source": [
    "marker_genes = ['IL7R', 'CD79A', 'MS4A1', 'CD8A', 'CD8B', 'LYZ', 'CD14',\n",
    "                'LGALS3', 'S100A8', 'GNLY', 'NKG7', 'KLRB1',\n",
    "                'FCGR3A', 'MS4A7', 'FCER1A', 'CST3', 'PPBP']"
   ]
  },
  {
   "cell_type": "code",
   "execution_count": null,
   "id": "47a3a9c4-5d4f-4df6-843a-c25b2e9a0620",
   "metadata": {
    "id": "47a3a9c4-5d4f-4df6-843a-c25b2e9a0620"
   },
   "outputs": [],
   "source": [
    "adata = sc.read(results_file)"
   ]
  },
  {
   "cell_type": "code",
   "execution_count": null,
   "id": "e6c601ff-ab6e-4f40-b4a1-0e4a71aa1dd5",
   "metadata": {
    "id": "e6c601ff-ab6e-4f40-b4a1-0e4a71aa1dd5"
   },
   "outputs": [],
   "source": [
    "pd.DataFrame(adata.uns['rank_genes_groups']['names']).head(5)"
   ]
  },
  {
   "cell_type": "code",
   "execution_count": null,
   "id": "9dc8f72c-be1b-4744-8ea1-3b230e815080",
   "metadata": {
    "id": "9dc8f72c-be1b-4744-8ea1-3b230e815080"
   },
   "outputs": [],
   "source": [
    "result = adata.uns['rank_genes_groups']\n",
    "groups = result['names'].dtype.names\n",
    "pd.DataFrame(\n",
    "    {group + '_' + key[:1]: result[key][group]\n",
    "    for group in groups for key in ['names', 'pvals']}).head(5)"
   ]
  },
  {
   "cell_type": "code",
   "execution_count": null,
   "id": "904300d3-01de-428d-9a4d-c62daedc9a05",
   "metadata": {
    "id": "904300d3-01de-428d-9a4d-c62daedc9a05"
   },
   "outputs": [],
   "source": [
    "sc.tl.rank_genes_groups(adata, 'leiden', groups=['0'], reference='1', method='wilcoxon')\n",
    "sc.pl.rank_genes_groups(adata, groups=['0'], n_genes=20)"
   ]
  },
  {
   "cell_type": "code",
   "execution_count": null,
   "id": "89af230b-a105-4a28-9713-2a3f6aaa825d",
   "metadata": {
    "id": "89af230b-a105-4a28-9713-2a3f6aaa825d"
   },
   "outputs": [],
   "source": [
    "sc.pl.rank_genes_groups_violin(adata, groups='0', n_genes=8)"
   ]
  },
  {
   "cell_type": "code",
   "execution_count": null,
   "id": "ed45cab2-ed8b-4fe4-95c1-cfffeaa24d30",
   "metadata": {
    "id": "ed45cab2-ed8b-4fe4-95c1-cfffeaa24d30"
   },
   "outputs": [],
   "source": [
    "adata = sc.read(results_file)"
   ]
  },
  {
   "cell_type": "code",
   "execution_count": null,
   "id": "c217d64c-ef7a-4690-b35a-11041ab23ba4",
   "metadata": {
    "id": "c217d64c-ef7a-4690-b35a-11041ab23ba4"
   },
   "outputs": [],
   "source": [
    "sc.pl.rank_genes_groups_violin(adata, groups='0', n_genes=8)"
   ]
  },
  {
   "cell_type": "code",
   "execution_count": null,
   "id": "631b5fa2-3489-4220-9368-791eba39787e",
   "metadata": {
    "id": "631b5fa2-3489-4220-9368-791eba39787e"
   },
   "outputs": [],
   "source": [
    "sc.pl.violin(adata, ['CST3', 'NKG7', 'PPBP'], groupby='leiden')"
   ]
  },
  {
   "cell_type": "code",
   "execution_count": null,
   "id": "1c87411f-5c25-4e6d-b2ff-a880dcd82b32",
   "metadata": {
    "id": "1c87411f-5c25-4e6d-b2ff-a880dcd82b32"
   },
   "outputs": [],
   "source": [
    "new_cluster_names = [\n",
    "    'CD4 T', 'CD14 Monocytes',\n",
    "    'B', 'CD8 T',\n",
    "    'NK', 'FCGR3A Monocytes',\n",
    "    'Dendritic', 'Megakaryocytes']\n",
    "adata.rename_categories('leiden', new_cluster_names)"
   ]
  },
  {
   "cell_type": "code",
   "execution_count": null,
   "id": "21564c27-6a9b-4e21-9539-15bb43b5c261",
   "metadata": {
    "id": "21564c27-6a9b-4e21-9539-15bb43b5c261"
   },
   "outputs": [],
   "source": [
    "sc.pl.umap(adata, color='leiden', legend_loc='on data', title='', frameon=False, save='.pdf')"
   ]
  },
  {
   "cell_type": "code",
   "execution_count": null,
   "id": "3dc068f3-5807-473a-866e-c365d370a0ad",
   "metadata": {
    "id": "3dc068f3-5807-473a-866e-c365d370a0ad"
   },
   "outputs": [],
   "source": [
    "sc.pl.dotplot(adata, marker_genes, groupby='leiden');"
   ]
  },
  {
   "cell_type": "code",
   "execution_count": null,
   "id": "282f8a9c-325e-4d06-b9a0-7cba7f0f7b25",
   "metadata": {
    "id": "282f8a9c-325e-4d06-b9a0-7cba7f0f7b25"
   },
   "outputs": [],
   "source": [
    "sc.pl.stacked_violin(adata, marker_genes, groupby='leiden', rotation=90);"
   ]
  },
  {
   "cell_type": "code",
   "execution_count": null,
   "id": "6f1dd544-0382-4555-b691-916eaff68581",
   "metadata": {
    "id": "6f1dd544-0382-4555-b691-916eaff68581"
   },
   "outputs": [],
   "source": [
    "adata"
   ]
  },
  {
   "cell_type": "code",
   "execution_count": null,
   "id": "347bfc18-a901-4f8b-98ff-d20df608a83e",
   "metadata": {
    "id": "347bfc18-a901-4f8b-98ff-d20df608a83e"
   },
   "outputs": [],
   "source": [
    "adata.write(results_file, compression='gzip')  # `compression='gzip'` saves disk space, but slows down writing and subsequent reading"
   ]
  },
  {
   "cell_type": "code",
   "execution_count": null,
   "id": "a9882ef3-5af3-43d0-9e9c-bd61acf71a9c",
   "metadata": {
    "id": "a9882ef3-5af3-43d0-9e9c-bd61acf71a9c"
   },
   "outputs": [],
   "source": [
    "adata.raw.to_adata().write('./write/pbmc3k_withoutX.h5ad')"
   ]
  },
  {
   "cell_type": "code",
   "execution_count": null,
   "id": "7b10a3af-26fc-48ae-9ef8-66c656da340e",
   "metadata": {
    "id": "7b10a3af-26fc-48ae-9ef8-66c656da340e"
   },
   "outputs": [],
   "source": [
    "# Export single fields of the annotation of observations\n",
    "# adata.obs[['n_counts', 'louvain_groups']].to_csv(\n",
    "#     './write/pbmc3k_corrected_louvain_groups.csv')\n",
    "\n",
    "# Export single columns of the multidimensional annotation\n",
    "# adata.obsm.to_df()[['X_pca1', 'X_pca2']].to_csv(\n",
    "#     './write/pbmc3k_corrected_X_pca.csv')\n",
    "\n",
    "# Or export everything except the data using `.write_csvs`.\n",
    "# Set `skip_data=False` if you also want to export the data.\n",
    "# adata.write_csvs(results_file[:-5], )"
   ]
  }
 ],
 "metadata": {
  "colab": {
   "collapsed_sections": [
    "c351a379-5f98-41ee-854d-2cde8856c0db",
    "30a37119-17b4-4f31-9108-76e7733fa5cd",
    "8362c3ba-155f-4b20-8c9d-31121af3d94f",
    "7aa45f1e-eab4-4810-a31b-e3e85db86a7d"
   ],
   "name": "eda_gse75688.ipynb",
   "provenance": []
  },
  "kernelspec": {
   "display_name": "Python 3 (ipykernel)",
   "language": "python",
   "name": "python3"
  },
  "language_info": {
   "codemirror_mode": {
    "name": "ipython",
    "version": 3
   },
   "file_extension": ".py",
   "mimetype": "text/x-python",
   "name": "python",
   "nbconvert_exporter": "python",
   "pygments_lexer": "ipython3",
   "version": "3.10.4"
  }
 },
 "nbformat": 4,
 "nbformat_minor": 5
}
