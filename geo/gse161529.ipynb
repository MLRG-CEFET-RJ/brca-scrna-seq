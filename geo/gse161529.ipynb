{
 "cells": [
  {
   "cell_type": "code",
   "execution_count": 1,
   "metadata": {},
   "outputs": [],
   "source": [
    "import pandas as pd\n",
    "from scipy.io import mmread"
   ]
  },
  {
   "cell_type": "code",
   "execution_count": 2,
   "metadata": {},
   "outputs": [],
   "source": [
    "DATA_FOLDER = 'data/GSE161529/RAW'\n",
    "RESULTS_FOLDER = 'write'\n",
    "\n",
    "results_file = f'{RESULTS_FOLDER}/gse161529.h5ad'"
   ]
  },
  {
   "cell_type": "markdown",
   "metadata": {},
   "source": [
    "## Read decompressed .mtx file"
   ]
  },
  {
   "cell_type": "code",
   "execution_count": null,
   "metadata": {},
   "outputs": [],
   "source": [
    "mtx = mmread(f'{DATA_FOLDER}/GSM/matrix.mtx')"
   ]
  },
  {
   "cell_type": "code",
   "execution_count": null,
   "metadata": {},
   "outputs": [],
   "source": [
    "mtx"
   ]
  },
  {
   "cell_type": "code",
   "execution_count": null,
   "metadata": {},
   "outputs": [],
   "source": [
    "type(mtx)"
   ]
  },
  {
   "cell_type": "code",
   "execution_count": null,
   "metadata": {},
   "outputs": [],
   "source": [
    "df = pd.DataFrame.sparse.from_spmatrix(mtx)\n",
    "df"
   ]
  },
  {
   "cell_type": "markdown",
   "metadata": {},
   "source": [
    "# TruncatedSDV with sparse matrix"
   ]
  },
  {
   "cell_type": "code",
   "execution_count": null,
   "metadata": {},
   "outputs": [],
   "source": [
    "import sys\n",
    "print(sys.getsizeof(df))\n",
    "print(sys.getsizeof(mtx))"
   ]
  },
  {
   "cell_type": "code",
   "execution_count": null,
   "metadata": {},
   "outputs": [],
   "source": [
    "from sklearn.decomposition import TruncatedSVD\n",
    "from sklearn.preprocessing import StandardScaler\n",
    "from sklearn.pipeline import Pipeline\n",
    "import numpy as np\n",
    "import matplotlib.pyplot as plt"
   ]
  },
  {
   "cell_type": "code",
   "execution_count": null,
   "metadata": {},
   "outputs": [],
   "source": [
    "random_state = 0"
   ]
  },
  {
   "cell_type": "code",
   "execution_count": null,
   "metadata": {},
   "outputs": [],
   "source": [
    "x = mtx.transpose()"
   ]
  },
  {
   "cell_type": "code",
   "execution_count": null,
   "metadata": {},
   "outputs": [],
   "source": [
    "p = Pipeline([\n",
    "    ('scaler', StandardScaler(with_mean=False)),\n",
    "    ('pca', TruncatedSVD(random_state=random_state))\n",
    "])"
   ]
  },
  {
   "cell_type": "code",
   "execution_count": null,
   "metadata": {},
   "outputs": [],
   "source": [
    "p.fit(x)"
   ]
  },
  {
   "cell_type": "code",
   "execution_count": null,
   "metadata": {},
   "outputs": [],
   "source": [
    "variance = p['pca'].explained_variance_ratio_\n",
    "number_of_components = np.arange(1, variance.shape[0]+1)\n",
    "plt.plot(number_of_components, variance)"
   ]
  },
  {
   "cell_type": "markdown",
   "metadata": {},
   "source": [
    "# PCA"
   ]
  },
  {
   "cell_type": "code",
   "execution_count": null,
   "metadata": {},
   "outputs": [],
   "source": [
    "from sklearn.decomposition import PCA"
   ]
  },
  {
   "cell_type": "code",
   "execution_count": null,
   "metadata": {},
   "outputs": [],
   "source": [
    "x = mtx.transpose().toarray()\n",
    "x.shape"
   ]
  },
  {
   "cell_type": "code",
   "execution_count": null,
   "metadata": {},
   "outputs": [],
   "source": [
    "p1 = Pipeline([\n",
    "    ('scaler', StandardScaler()),\n",
    "    ('pca', PCA(random_state=random_state))\n",
    "])"
   ]
  },
  {
   "cell_type": "code",
   "execution_count": null,
   "metadata": {},
   "outputs": [],
   "source": [
    "p1.fit(x)"
   ]
  },
  {
   "cell_type": "code",
   "execution_count": null,
   "metadata": {},
   "outputs": [],
   "source": [
    "variance = p1['pca'].explained_variance_ratio_\n",
    "number_of_components = np.arange(1, variance.shape[0]+1)\n",
    "plt.plot(number_of_components, variance)"
   ]
  },
  {
   "cell_type": "code",
   "execution_count": null,
   "metadata": {},
   "outputs": [],
   "source": [
    "# Gets the number of components that explain 90% of the variance\n",
    "def get_number_of_components_by_variance(variance_percentages, target_variance=0.9):\n",
    "    i = 0\n",
    "    acc = 0\n",
    "    while acc < target_variance:\n",
    "        acc += variance_percentages[i]\n",
    "        i += 1\n",
    "    return i\n",
    "\n",
    "n_components = get_number_of_components_by_variance(p1['pca'].explained_variance_ratio_)\n",
    "print(f'Number of PCA components to be used: {n_components}')"
   ]
  },
  {
   "cell_type": "markdown",
   "metadata": {},
   "source": [
    "# Test read compressed file"
   ]
  },
  {
   "cell_type": "code",
   "execution_count": 3,
   "metadata": {},
   "outputs": [],
   "source": [
    "from glob import glob\n",
    "from scipy.sparse import hstack, save_npz\n",
    "from scipy.io import mmread"
   ]
  },
  {
   "cell_type": "code",
   "execution_count": null,
   "metadata": {},
   "outputs": [],
   "source": [
    "DATA_FOLDER = 'data/GSE161529/RAW'"
   ]
  },
  {
   "cell_type": "code",
   "execution_count": 4,
   "metadata": {},
   "outputs": [
    {
     "name": "stdout",
     "output_type": "stream",
     "text": [
      "Reading file 1 - GSM4909307_ER-MH0040-matrix.mtx.gz\n",
      "Reading file 2 - GSM4909271_N-MH288-Total-matrix.mtx.gz\n",
      "Reading file 3 - GSM4909283_TN-SH0106-matrix.mtx.gz\n",
      "Reading file 4 - GSM4909275_N-PM0372-Epi-matrix.mtx.gz\n",
      "Reading file 5 - GSM4909317_ER-MH0173-T-matrix.mtx.gz\n",
      "Reading file 6 - GSM4909277_B1-KCF0894-matrix.mtx.gz\n",
      "Reading file 7 - GSM4909294_HER2-MH0176-matrix.mtx.gz\n",
      "Reading file 8 - GSM4909309_ER-MH0043-T-matrix.mtx.gz\n",
      "Reading file 9 - GSM4909297_ER-MH0125-matrix.mtx.gz\n",
      "Reading file 10 - GSM4909300_ER-MH0032-matrix.mtx.gz\n",
      "Reading file 11 - GSM4909290_HER2-PM0337-matrix.mtx.gz\n",
      "Reading file 12 - GSM4909267_N-MH0023-Epi-matrix.mtx.gz\n",
      "Reading file 13 - GSM4909261_N-PM0230-Total-matrix.mtx.gz\n",
      "Reading file 14 - GSM4909292_HER2-MH0069-matrix.mtx.gz\n",
      "Reading file 15 - GSM4909280_B1-MH0090-matrix.mtx.gz\n",
      "Reading file 16 - GSM4909276_N-PM0372-Total-matrix.mtx.gz\n",
      "Reading file 17 - GSM4909265_N-PM0233-Total-matrix.mtx.gz\n",
      "Reading file 18 - GSM4909256_N-PM0095-Epi-matrix.mtx.gz\n",
      "Reading file 19 - GSM4909286_TN-B1-MH0131-matrix.mtx.gz\n",
      "Reading file 20 - GSM4909284_TN-MH0114-T2-matrix.mtx.gz\n",
      "Reading file 21 - GSM4909318_ER-MH0173-LN-matrix.mtx.gz\n",
      "Reading file 22 - GSM4909321_mER-MH0068-LN-matrix.mtx.gz\n",
      "Reading file 23 - GSM4909266_N-MH0169-Total-matrix.mtx.gz\n",
      "Reading file 24 - GSM4909298_ER-PM0360-matrix.mtx.gz\n",
      "Reading file 25 - GSM4909279_B1-MH0023-matrix.mtx.gz\n",
      "Reading file 26 - GSM4909258_N-NF-Epi-matrix.mtx.gz\n",
      "Reading file 27 - GSM4909311_ER-MH0056-T-matrix.mtx.gz\n",
      "Reading file 28 - GSM4909269_N-PM0342-Epi-matrix.mtx.gz\n",
      "Reading file 29 - GSM4909253_N-PM0092-Total-matrix.mtx.gz\n",
      "Reading file 30 - GSM4909315_ER-MH0167-T-matrix.mtx.gz\n",
      "Reading file 31 - GSM4909303_ER-MH0151-matrix.mtx.gz\n",
      "Reading file 32 - GSM4909273_N-MH275-Epi-matrix.mtx.gz\n",
      "Reading file 33 - GSM4909268_N-MH0023-Total-matrix.mtx.gz\n",
      "Reading file 34 - GSM4909308_ER-MH0040-LN-matrix.mtx.gz\n",
      "Reading file 35 - GSM4909278_B1-MH0033-matrix.mtx.gz\n",
      "Reading file 36 - GSM4909312_ER-MH0056-LN-matrix.mtx.gz\n",
      "Reading file 37 - GSM4909314_ER-MH0064-LN-matrix.mtx.gz\n",
      "Reading file 38 - GSM4909264_N-N1B-Epi-matrix.mtx.gz\n",
      "Reading file 39 - GSM4909255_N-N280-Epi-matrix.mtx.gz\n",
      "Reading file 40 - GSM4909306_ER-MH0029-9C-matrix.mtx.gz\n",
      "Reading file 41 - GSM4909254_N-PM0019-Total-matrix.mtx.gz\n",
      "Reading file 42 - GSM4909260_N-N1105-Epi-matrix.mtx.gz\n",
      "Reading file 43 - GSM4909288_TN-B1-MH0177-matrix.mtx.gz\n",
      "Reading file 44 - GSM4909320_mER-MH0068-T-matrix.mtx.gz\n",
      "Reading file 45 - GSM4909291_HER2-MH0031-matrix.mtx.gz\n",
      "Reading file 46 - GSM4909301_ER-MH0042-matrix.mtx.gz\n",
      "Reading file 47 - GSM4909274_N-MH275-Total-matrix.mtx.gz\n",
      "Reading file 48 - GSM4909302_ER-MH0025-matrix.mtx.gz\n"
     ]
    },
    {
     "ename": "",
     "evalue": "",
     "output_type": "error",
     "traceback": [
      "\u001b[1;31mCanceled future for execute_request message before replies were done"
     ]
    },
    {
     "ename": "",
     "evalue": "",
     "output_type": "error",
     "traceback": [
      "\u001b[1;31mThe Kernel crashed while executing code in the the current cell or a previous cell. Please review the code in the cell(s) to identify a possible cause of the failure. Click <a href='https://aka.ms/vscodeJupyterKernelCrash'>here</a> for more info. View Jupyter <a href='command:jupyter.viewOutput'>log</a> for further details."
     ]
    }
   ],
   "source": [
    "def read_gene_expression_matrices():\n",
    "    mtx = None\n",
    "    i = 1\n",
    "    for filename in glob('*.mtx.gz', root_dir=DATA_FOLDER):\n",
    "        print(f'Reading file {i} - {filename}')\n",
    "        gene_data = mmread(f'{DATA_FOLDER}/{filename}')\n",
    "        if mtx is not None:\n",
    "            mtx = hstack((mtx, gene_data))\n",
    "        else:\n",
    "            mtx = gene_data\n",
    "        i += 1\n",
    "    return mtx.transpose()\n",
    "mtx = read_gene_expression_matrices()"
   ]
  },
  {
   "cell_type": "code",
   "execution_count": null,
   "metadata": {},
   "outputs": [],
   "source": [
    "save_npz('data.npz', mtx)"
   ]
  }
 ],
 "metadata": {
  "kernelspec": {
   "display_name": "Python 3.10.4 ('venv': venv)",
   "language": "python",
   "name": "python3"
  },
  "language_info": {
   "codemirror_mode": {
    "name": "ipython",
    "version": 3
   },
   "file_extension": ".py",
   "mimetype": "text/x-python",
   "name": "python",
   "nbconvert_exporter": "python",
   "pygments_lexer": "ipython3",
   "version": "3.10.4"
  },
  "orig_nbformat": 4,
  "vscode": {
   "interpreter": {
    "hash": "cb2ac8013459e3312877500ad9fec4256cedde17a6fc106dadd04bd514206b37"
   }
  }
 },
 "nbformat": 4,
 "nbformat_minor": 2
}
